{
 "cells": [
  {
   "cell_type": "code",
   "execution_count": 1,
   "id": "8676f0ca-5b34-4867-a32d-928f37fb0ed2",
   "metadata": {},
   "outputs": [],
   "source": [
    "from importlib import import_module"
   ]
  },
  {
   "cell_type": "code",
   "execution_count": 2,
   "id": "58df36ba-8d6f-4748-8fd5-15f8a851af5f",
   "metadata": {},
   "outputs": [],
   "source": [
    "from inspect import isfunction"
   ]
  },
  {
   "cell_type": "code",
   "execution_count": 3,
   "id": "1bd1f75c-a07f-48c9-ae56-22ba674d6d3a",
   "metadata": {},
   "outputs": [],
   "source": [
    "from jobflow import job, Flow\n",
    "from jobflow.managers.local import run_locally"
   ]
  },
  {
   "cell_type": "code",
   "execution_count": 4,
   "id": "c8490247-4071-4108-ba4c-47fa73b8f34e",
   "metadata": {},
   "outputs": [],
   "source": [
    "def get_kwargs(lst):\n",
    "    return {t['targetHandle']: {'source': t['source'], 'sourceHandle': t['sourceHandle']} for t in lst}"
   ]
  },
  {
   "cell_type": "code",
   "execution_count": 5,
   "id": "5bc6fa2b-5faa-4db8-ba8b-b275fb61ba7d",
   "metadata": {},
   "outputs": [],
   "source": [
    "def group_edges(edges_lst):\n",
    "    # edges_sorted_lst = sorted(edges_lst, key=lambda x: x['target'], reverse=True)     \n",
    "    total_dict = {}\n",
    "    tmp_lst = []\n",
    "    target_id = edges_lst[0]['target'] \n",
    "    for ed in edges_lst:\n",
    "        if target_id == ed[\"target\"]:\n",
    "            tmp_lst.append(ed)\n",
    "        else:\n",
    "            total_dict[target_id] = get_kwargs(lst=tmp_lst)\n",
    "            target_id = ed[\"target\"]\n",
    "            tmp_lst = [ed]\n",
    "    total_dict[target_id] = get_kwargs(lst=tmp_lst)\n",
    "    return total_dict"
   ]
  },
  {
   "cell_type": "code",
   "execution_count": 6,
   "id": "023382c1-e812-4023-b100-3fd7b7bc840a",
   "metadata": {},
   "outputs": [],
   "source": [
    "def get_input_dict(nodes_dict):\n",
    "    return {k:v for k, v in nodes_dict.items() if not isfunction(v)}"
   ]
  },
  {
   "cell_type": "code",
   "execution_count": 7,
   "id": "a934964d-127a-49d1-9634-b3c8ee2e50b0",
   "metadata": {},
   "outputs": [],
   "source": [
    "def get_workflow(nodes_dict, input_dict, total_dict, source_handles_dict):\n",
    "    def get_attr_helper(obj, source_handle):\n",
    "        print(\"attr_helper\", source_handle, getattr(obj, \"output\"), getattr(getattr(obj, \"output\"), source_handle))\n",
    "        if source_handle is None:\n",
    "            return getattr(obj, \"output\") \n",
    "        else:\n",
    "            return getattr(getattr(obj, \"output\"), source_handle)\n",
    "    \n",
    "    memory_dict = {}\n",
    "    for k, v in nodes_dict.items():\n",
    "        if isfunction(v):\n",
    "            if k in source_handles_dict.keys():\n",
    "                print(k, {el: el for el in source_handles_dict[k] if el is not None})\n",
    "                fn = job(method=v, data=[el for el in source_handles_dict[k] if el is not None])\n",
    "            else:\n",
    "                fn = job(method=v)\n",
    "            kwargs = {\n",
    "                kw: input_dict[vw['source']] if vw['source'] in input_dict else get_attr_helper(obj=memory_dict[vw['source']], source_handle=vw['sourceHandle']) \n",
    "                for kw, vw in total_dict[k].items()\n",
    "            }\n",
    "            print(k, kwargs)\n",
    "            memory_dict[k] = fn(**kwargs)\n",
    "    return list(memory_dict.values())"
   ]
  },
  {
   "cell_type": "code",
   "execution_count": 8,
   "id": "0ae0fde2-2851-484f-8d76-8e4ae3bfabc6",
   "metadata": {},
   "outputs": [],
   "source": [
    "def get_source_handles(edges_lst):\n",
    "    source_handle_dict = {}\n",
    "    for ed in edges_lst: \n",
    "        if ed['source'] not in source_handle_dict.keys():\n",
    "            source_handle_dict[ed['source']] = [ed['sourceHandle']]\n",
    "        else:\n",
    "            source_handle_dict[ed['source']].append(ed['sourceHandle'])\n",
    "    return source_handle_dict"
   ]
  },
  {
   "cell_type": "code",
   "execution_count": 9,
   "id": "af51be8c-a43e-4ebb-9ad9-78f98f7c0a20",
   "metadata": {},
   "outputs": [],
   "source": [
    "def get_item_from_tuple(input_obj, index, index_lst):\n",
    "    if isinstance(input_obj, dict):  \n",
    "        return input_obj[index]\n",
    "    else:  # input_obj is a tuple\n",
    "        return list(input_obj)[index_lst.index(index)]"
   ]
  },
  {
   "cell_type": "code",
   "execution_count": 10,
   "id": "c1a8c351-0aac-43ab-8b26-941e80578552",
   "metadata": {},
   "outputs": [],
   "source": [
    "def get_source_handles(edges_lst):\n",
    "    source_handle_dict = {}\n",
    "    for ed in edges_lst: \n",
    "        if ed['source'] not in source_handle_dict.keys():\n",
    "            source_handle_dict[ed['source']] = [ed['sourceHandle']]\n",
    "        else:\n",
    "            source_handle_dict[ed['source']].append(ed['sourceHandle'])\n",
    "    return source_handle_dict"
   ]
  },
  {
   "cell_type": "code",
   "execution_count": 11,
   "id": "a0ec8e80-06eb-4d0e-b7cf-9b27682951dc",
   "metadata": {},
   "outputs": [],
   "source": [
    "def add_xy(x, y):\n",
    "    return {\"x\":x, \"y\": y, \"z\": x + y}"
   ]
  },
  {
   "cell_type": "code",
   "execution_count": 12,
   "id": "b7934782-e5fe-44b2-a3c8-ab7cd0e0118f",
   "metadata": {},
   "outputs": [],
   "source": [
    "def add_xyz(x, y, z):\n",
    "    print(x, y, z)\n",
    "    return x + y + z"
   ]
  },
  {
   "cell_type": "code",
   "execution_count": 13,
   "id": "df6f57f0-a911-4c0a-ad37-d7481e6a7f5a",
   "metadata": {},
   "outputs": [],
   "source": [
    "nodes_dict = {\n",
    "    0: add_xy,\n",
    "    1: add_xyz,\n",
    "    2: 1,\n",
    "    3: 2,\n",
    "}"
   ]
  },
  {
   "cell_type": "code",
   "execution_count": 14,
   "id": "d98076b7-54b0-48a6-bf8f-dd50a8ac41e9",
   "metadata": {},
   "outputs": [],
   "source": [
    "edges_lst = [\n",
    "    {'target': 1, 'targetHandle': 'x', 'source': 0, 'sourceHandle': 'x'},\n",
    "    {'target': 1, 'targetHandle': 'y', 'source': 0, 'sourceHandle': 'y'},\n",
    "    {'target': 1, 'targetHandle': 'z', 'source': 0, 'sourceHandle': 'z'},\n",
    "    {'target': 0, 'targetHandle': 'x', 'source': 2, 'sourceHandle': None},\n",
    "    {'target': 0, 'targetHandle': 'y', 'source': 3, 'sourceHandle': None},\n",
    "]"
   ]
  },
  {
   "cell_type": "code",
   "execution_count": 15,
   "id": "972efbf2-1e1f-4429-a443-b83ff9c76e07",
   "metadata": {},
   "outputs": [
    {
     "data": {
      "text/plain": [
       "{0: ['x', 'y', 'z'], 2: [None], 3: [None]}"
      ]
     },
     "execution_count": 15,
     "metadata": {},
     "output_type": "execute_result"
    }
   ],
   "source": [
    "source_handles_dict = get_source_handles(edges_lst=edges_lst)\n",
    "source_handles_dict"
   ]
  },
  {
   "cell_type": "raw",
   "id": "00f8a616-5a7a-42f9-9885-49e2e14477a4",
   "metadata": {},
   "source": [
    "nodes_updated_dict, edges_updated_lst = universal_reduce(nodes_dict=nodes_dict, edges_lst=edges_lst)\n",
    "nodes_updated_dict, edges_updated_lst"
   ]
  },
  {
   "cell_type": "code",
   "execution_count": 16,
   "id": "d60390c3-b83a-4fdd-bd2e-48469d94dc65",
   "metadata": {},
   "outputs": [],
   "source": [
    "total_dict = group_edges(edges_lst=edges_lst)\n",
    "input_dict = get_input_dict(nodes_dict=nodes_dict)"
   ]
  },
  {
   "cell_type": "code",
   "execution_count": 17,
   "id": "28fad5d9-9f27-415c-a3b2-667e2a2e8abf",
   "metadata": {},
   "outputs": [
    {
     "data": {
      "text/plain": [
       "({1: {'x': {'source': 0, 'sourceHandle': 'x'},\n",
       "   'y': {'source': 0, 'sourceHandle': 'y'},\n",
       "   'z': {'source': 0, 'sourceHandle': 'z'}},\n",
       "  0: {'x': {'source': 2, 'sourceHandle': None},\n",
       "   'y': {'source': 3, 'sourceHandle': None}}},\n",
       " {2: 1, 3: 2})"
      ]
     },
     "execution_count": 17,
     "metadata": {},
     "output_type": "execute_result"
    }
   ],
   "source": [
    "total_dict, input_dict"
   ]
  },
  {
   "cell_type": "code",
   "execution_count": 18,
   "id": "ca88e187-1f36-4fd8-a5a7-0b8b97e71441",
   "metadata": {},
   "outputs": [
    {
     "name": "stdout",
     "output_type": "stream",
     "text": [
      "0 {'x': 'x', 'y': 'y', 'z': 'z'}\n",
      "0 {'x': 1, 'y': 2}\n",
      "attr_helper x OutputReference(23a8b6db-98ac-476a-b865-70bff6979812) OutputReference(23a8b6db-98ac-476a-b865-70bff6979812, .x)\n",
      "attr_helper y OutputReference(23a8b6db-98ac-476a-b865-70bff6979812) OutputReference(23a8b6db-98ac-476a-b865-70bff6979812, .y)\n",
      "attr_helper z OutputReference(23a8b6db-98ac-476a-b865-70bff6979812) OutputReference(23a8b6db-98ac-476a-b865-70bff6979812, .z)\n",
      "1 {'x': OutputReference(23a8b6db-98ac-476a-b865-70bff6979812, .x), 'y': OutputReference(23a8b6db-98ac-476a-b865-70bff6979812, .y), 'z': OutputReference(23a8b6db-98ac-476a-b865-70bff6979812, .z)}\n"
     ]
    }
   ],
   "source": [
    "task_lst = get_workflow(\n",
    "    nodes_dict=nodes_dict, \n",
    "    input_dict=input_dict, \n",
    "    total_dict=total_dict,\n",
    "    source_handles_dict=source_handles_dict,\n",
    ")"
   ]
  },
  {
   "cell_type": "code",
   "execution_count": 19,
   "id": "c63922d4-81fb-4fc8-b52c-b26eec68811f",
   "metadata": {},
   "outputs": [],
   "source": [
    "flow = Flow(task_lst)"
   ]
  },
  {
   "cell_type": "code",
   "execution_count": 20,
   "id": "12af9070-05af-4063-9013-1d34dde5d7bb",
   "metadata": {},
   "outputs": [
    {
     "name": "stdout",
     "output_type": "stream",
     "text": [
      "2025-01-17 07:39:02,400 INFO Started executing jobs locally\n",
      "2025-01-17 07:39:04,449 INFO Starting job - add_xy (23a8b6db-98ac-476a-b865-70bff6979812)\n",
      "2025-01-17 07:39:04,450 INFO Finished job - add_xy (23a8b6db-98ac-476a-b865-70bff6979812)\n",
      "2025-01-17 07:39:04,451 INFO Starting job - add_xyz (85ace7ba-83dd-4ab2-b261-b6b2b2f8dc70)\n",
      "1 2 3\n",
      "2025-01-17 07:39:04,452 INFO Finished job - add_xyz (85ace7ba-83dd-4ab2-b261-b6b2b2f8dc70)\n",
      "2025-01-17 07:39:04,453 INFO Finished executing jobs locally\n"
     ]
    },
    {
     "data": {
      "text/plain": [
       "{'23a8b6db-98ac-476a-b865-70bff6979812': {1: Response(output={'x': 1, 'y': 2, 'z': 3}, detour=None, addition=None, replace=None, stored_data=None, stop_children=False, stop_jobflow=False, job_dir=PosixPath('/home/janssen/notebooks/2025/2025-01-16-jobflow-qe'))},\n",
       " '85ace7ba-83dd-4ab2-b261-b6b2b2f8dc70': {1: Response(output=6, detour=None, addition=None, replace=None, stored_data=None, stop_children=False, stop_jobflow=False, job_dir=PosixPath('/home/janssen/notebooks/2025/2025-01-16-jobflow-qe'))}}"
      ]
     },
     "execution_count": 20,
     "metadata": {},
     "output_type": "execute_result"
    }
   ],
   "source": [
    "result = run_locally(flow)\n",
    "result"
   ]
  },
  {
   "cell_type": "code",
   "execution_count": null,
   "id": "fde82477-d967-40d2-ac77-3ec35f27650d",
   "metadata": {},
   "outputs": [],
   "source": []
  }
 ],
 "metadata": {
  "kernelspec": {
   "display_name": "Python 3 (ipykernel)",
   "language": "python",
   "name": "python3"
  },
  "language_info": {
   "codemirror_mode": {
    "name": "ipython",
    "version": 3
   },
   "file_extension": ".py",
   "mimetype": "text/x-python",
   "name": "python",
   "nbconvert_exporter": "python",
   "pygments_lexer": "ipython3",
   "version": "3.12.5"
  }
 },
 "nbformat": 4,
 "nbformat_minor": 5
}
