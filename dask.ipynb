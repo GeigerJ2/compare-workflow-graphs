{
 "cells": [
  {
   "cell_type": "markdown",
   "id": "3a2b79f3-68aa-462a-9dde-f8b581d666d5",
   "metadata": {},
   "source": [
    "https://docs.dask.org/en/latest/spec.html"
   ]
  },
  {
   "cell_type": "code",
   "execution_count": 1,
   "id": "207d43ab-34c0-414a-91f0-53227b9d886f",
   "metadata": {},
   "outputs": [],
   "source": [
    "from dask.threaded import get\n",
    "from operator import add"
   ]
  },
  {
   "cell_type": "code",
   "execution_count": 2,
   "id": "87f6a70c-599b-4b0c-9e3c-e9f76a14b631",
   "metadata": {},
   "outputs": [],
   "source": [
    "dsk = {\n",
    "    'x': 1,\n",
    "    'y': 2,\n",
    "    'z': (add, 'x', 'y'),\n",
    "    'w': (sum, ['x', 'y', 'z'])\n",
    "}"
   ]
  },
  {
   "cell_type": "code",
   "execution_count": 3,
   "id": "488798b1-ffdf-4f64-a159-035b5c25799e",
   "metadata": {},
   "outputs": [
    {
     "data": {
      "text/plain": [
       "(1, 2, 3, 6)"
      ]
     },
     "execution_count": 3,
     "metadata": {},
     "output_type": "execute_result"
    }
   ],
   "source": [
    "get(dsk, ['x', 'y', 'z', 'w'])"
   ]
  }
 ],
 "metadata": {
  "kernelspec": {
   "display_name": "Python 3 (ipykernel)",
   "language": "python",
   "name": "python3"
  },
  "language_info": {
   "codemirror_mode": {
    "name": "ipython",
    "version": 3
   },
   "file_extension": ".py",
   "mimetype": "text/x-python",
   "name": "python",
   "nbconvert_exporter": "python",
   "pygments_lexer": "ipython3",
   "version": "3.11.8"
  }
 },
 "nbformat": 4,
 "nbformat_minor": 5
}
