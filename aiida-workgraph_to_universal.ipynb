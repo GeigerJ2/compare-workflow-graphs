{
 "cells": [
  {
   "cell_type": "code",
   "execution_count": 1,
   "id": "52c8e7a0-d839-491f-af6a-a04ccdea13d4",
   "metadata": {},
   "outputs": [],
   "source": [
    "from aiida import load_profile\n",
    "from aiida.orm import Int\n",
    "from aiida_workgraph import task, WorkGraph"
   ]
  },
  {
   "cell_type": "code",
   "execution_count": 2,
   "id": "045cf154-7c18-4e6f-80c1-d3a0dcc3b347",
   "metadata": {},
   "outputs": [],
   "source": [
    "from pickle import loads"
   ]
  },
  {
   "cell_type": "code",
   "execution_count": 3,
   "id": "b1e4901b-3db7-452c-bf7f-803d9e72a059",
   "metadata": {},
   "outputs": [],
   "source": [
    "@task.calcfunction(outputs=[{\"name\": \"x\"}, {\"name\": \"y\"}, {\"name\": \"z\"}])\n",
    "def add_x_and_y(x, y):\n",
    "    z = x + y\n",
    "    return {\"x\": x, \"y\": y, \"z\": z}"
   ]
  },
  {
   "cell_type": "code",
   "execution_count": 4,
   "id": "53ac2507-67b6-4d6c-a868-143af8f93405",
   "metadata": {},
   "outputs": [],
   "source": [
    "@task.calcfunction()\n",
    "def add_x_and_y_and_z(x, y, z):\n",
    "    w = x + y + z\n",
    "    return w"
   ]
  },
  {
   "cell_type": "code",
   "execution_count": 5,
   "id": "d254bbe3-0491-4269-bdee-2635d304a0b8",
   "metadata": {},
   "outputs": [
    {
     "data": {
      "text/plain": [
       "Profile<uuid='7bb8761123324468bb98821cbb757251' name='presto'>"
      ]
     },
     "execution_count": 5,
     "metadata": {},
     "output_type": "execute_result"
    }
   ],
   "source": [
    "load_profile()"
   ]
  },
  {
   "cell_type": "code",
   "execution_count": 6,
   "id": "7bc2ef3d-0227-4046-a894-2225381c2d33",
   "metadata": {},
   "outputs": [
    {
     "name": "stdout",
     "output_type": "stream",
     "text": [
      "Widget dependency not found. To visualize the workgraph, please install the widget dependency. Use 'pip install aiida-workgraph[widget]' if installing from PyPI. For local source installations, use 'pip install .[widget]' and then build the JavaScript library. Refer to the documentation for more details.\n"
     ]
    },
    {
     "data": {
      "text/plain": [
       "DecoratedNode(name='add_x_and_y_and_z', properties=[], inputs=['metadata', 'metadata.store_provenance', 'metadata.description', 'metadata.label', 'metadata.call_link_label', 'metadata.disable_cache', 'x', 'y', 'z', '_wait'], outputs=['result', '_outputs', '_wait'])"
      ]
     },
     "execution_count": 6,
     "metadata": {},
     "output_type": "execute_result"
    }
   ],
   "source": [
    "wg = WorkGraph(\"my_workflow\")\n",
    "wg.add_task(add_x_and_y, name=\"add_x_and_y\", x=1, y=2)\n",
    "wg.add_task(\n",
    "    add_x_and_y_and_z, \n",
    "    name=\"add_x_and_y_and_z\", \n",
    "    z=wg.tasks[\"add_x_and_y\"].outputs[\"z\"], \n",
    "    x=wg.tasks[\"add_x_and_y\"].outputs[\"x\"], \n",
    "    y=wg.tasks[\"add_x_and_y\"].outputs[\"y\"],\n",
    ")"
   ]
  },
  {
   "cell_type": "code",
   "execution_count": 7,
   "id": "e0cce316-bcdf-4c96-87a5-d15e0b09a722",
   "metadata": {},
   "outputs": [],
   "source": [
    "work_graph_dict = wg.to_dict()"
   ]
  },
  {
   "cell_type": "code",
   "execution_count": 8,
   "id": "c821d540-331b-47ca-9fd4-62c5d150c4b4",
   "metadata": {},
   "outputs": [
    {
     "data": {
      "text/plain": [
       "[{'target': 'add_x_and_y_and_z',\n",
       "  'targetHandle': 'z',\n",
       "  'source': 'add_x_and_y',\n",
       "  'sourceHandle': 'z'},\n",
       " {'target': 'add_x_and_y_and_z',\n",
       "  'targetHandle': 'x',\n",
       "  'source': 'add_x_and_y',\n",
       "  'sourceHandle': 'x'},\n",
       " {'target': 'add_x_and_y_and_z',\n",
       "  'targetHandle': 'y',\n",
       "  'source': 'add_x_and_y',\n",
       "  'sourceHandle': 'y'}]"
      ]
     },
     "execution_count": 8,
     "metadata": {},
     "output_type": "execute_result"
    }
   ],
   "source": [
    "edges_label_lst = []\n",
    "for link_dict in work_graph_dict[\"links\"]:\n",
    "    if link_dict['from_socket'] == \"result\":\n",
    "        edges_label_lst.append({'target': link_dict['to_node'], 'targetHandle': link_dict['to_socket'], 'source': link_dict['from_node'], 'sourceHandle': None})\n",
    "    else:\n",
    "        edges_label_lst.append({'target': link_dict['to_node'], 'targetHandle': link_dict['to_socket'], 'source': link_dict['from_node'], 'sourceHandle': link_dict['from_socket']})\n",
    "\n",
    "edges_label_lst"
   ]
  },
  {
   "cell_type": "code",
   "execution_count": 9,
   "id": "5a0c6923-119d-43de-999c-feb972db932e",
   "metadata": {},
   "outputs": [
    {
     "data": {
      "text/plain": [
       "({'add_x_and_y': {'x': 1, 'y': 2},\n",
       "  'add_x_and_y_and_z': {'x': None, 'y': None, 'z': None}},\n",
       " {'add_x_and_y': <function __main__.add_x_and_y(x, y)>,\n",
       "  'add_x_and_y_and_z': <function __main__.add_x_and_y_and_z(x, y, z)>})"
      ]
     },
     "execution_count": 9,
     "metadata": {},
     "output_type": "execute_result"
    }
   ],
   "source": [
    "kwargs_dict, function_dict = {}, {}\n",
    "for task_name, task_dict in work_graph_dict[\"tasks\"].items():\n",
    "    input_variables = [\n",
    "        input_parameter \n",
    "        for input_parameter in task_dict['inputs'].keys() \n",
    "        if not input_parameter.startswith(\"metadata\") and not input_parameter.startswith(\"_wait\")\n",
    "    ]\n",
    "    input_kwargs = {\n",
    "        input_parameter: task_dict['inputs'][input_parameter]['property'][\"value\"].value if isinstance(task_dict['inputs'][input_parameter]['property'][\"value\"], dict) else task_dict['inputs'][input_parameter]['property'][\"value\"] \n",
    "        for input_parameter in input_variables\n",
    "    }\n",
    "    kwargs_dict[task_name] = input_kwargs\n",
    "    function_dict[task_name] = loads(task_dict['executor']['executor']).process_class._func\n",
    "kwargs_dict, function_dict"
   ]
  },
  {
   "cell_type": "code",
   "execution_count": 10,
   "id": "f03906b0-2622-4fd9-a1e8-687b15229b94",
   "metadata": {},
   "outputs": [
    {
     "data": {
      "text/plain": [
       "({0: <function __main__.add_x_and_y(x, y)>,\n",
       "  1: <function __main__.add_x_and_y_and_z(x, y, z)>},\n",
       " {'add_x_and_y': 0, 'add_x_and_y_and_z': 1})"
      ]
     },
     "execution_count": 10,
     "metadata": {},
     "output_type": "execute_result"
    }
   ],
   "source": [
    "nodes_dict, mapping_dict = {}, {}\n",
    "for i, [k, v] in enumerate(function_dict.items()):\n",
    "    nodes_dict[i] = v\n",
    "    mapping_dict[k] = i\n",
    "\n",
    "nodes_dict, mapping_dict "
   ]
  },
  {
   "cell_type": "code",
   "execution_count": 11,
   "id": "43eb3c35-b780-4d3c-80d5-62d0097da322",
   "metadata": {},
   "outputs": [],
   "source": [
    "value_dict = {}\n",
    "for func_name, val_dict in kwargs_dict.items():\n",
    "    for k, v in val_dict.items():\n",
    "        if v is not None:\n",
    "            if func_name not in value_dict.keys():\n",
    "                value_dict[func_name] = {}\n",
    "            value_dict[func_name][k] = v"
   ]
  },
  {
   "cell_type": "code",
   "execution_count": 12,
   "id": "cb35cbf6-8878-4337-ba80-a71994c8e665",
   "metadata": {},
   "outputs": [
    {
     "data": {
      "text/plain": [
       "({0: <function __main__.add_x_and_y(x, y)>,\n",
       "  1: <function __main__.add_x_and_y_and_z(x, y, z)>,\n",
       "  2: 1,\n",
       "  3: 2},\n",
       " {'add_x_and_y': 0, 'add_x_and_y_and_z': 1, 1: 2, 2: 3})"
      ]
     },
     "execution_count": 12,
     "metadata": {},
     "output_type": "execute_result"
    }
   ],
   "source": [
    "i = len(nodes_dict)\n",
    "for val_dict in value_dict.values():\n",
    "    for k, v in val_dict.items():\n",
    "        nodes_dict[i] = v\n",
    "        mapping_dict[v] = i\n",
    "        i += 1\n",
    "\n",
    "nodes_dict, mapping_dict"
   ]
  },
  {
   "cell_type": "code",
   "execution_count": 13,
   "id": "2cb83ae9-0f39-44c2-a7fe-43d3795ddf5b",
   "metadata": {},
   "outputs": [
    {
     "data": {
      "text/plain": [
       "[{'target': 'add_x_and_y_and_z',\n",
       "  'targetHandle': 'z',\n",
       "  'source': 'add_x_and_y',\n",
       "  'sourceHandle': 'z'},\n",
       " {'target': 'add_x_and_y_and_z',\n",
       "  'targetHandle': 'x',\n",
       "  'source': 'add_x_and_y',\n",
       "  'sourceHandle': 'x'},\n",
       " {'target': 'add_x_and_y_and_z',\n",
       "  'targetHandle': 'y',\n",
       "  'source': 'add_x_and_y',\n",
       "  'sourceHandle': 'y'},\n",
       " {'target': 'add_x_and_y',\n",
       "  'targetHandle': 'x',\n",
       "  'source': 1,\n",
       "  'sourceHandle': None},\n",
       " {'target': 'add_x_and_y',\n",
       "  'targetHandle': 'y',\n",
       "  'source': 2,\n",
       "  'sourceHandle': None}]"
      ]
     },
     "execution_count": 13,
     "metadata": {},
     "output_type": "execute_result"
    }
   ],
   "source": [
    "for func_name, val_dict in kwargs_dict.items():\n",
    "    for k, v in val_dict.items():\n",
    "        if v is not None:\n",
    "            edges_label_lst.append({'target': func_name, 'targetHandle': k, 'source': v, 'sourceHandle': None})\n",
    "edges_label_lst"
   ]
  },
  {
   "cell_type": "code",
   "execution_count": 14,
   "id": "11918806-bec0-4de3-aaf3-bd80f07fd1a8",
   "metadata": {},
   "outputs": [
    {
     "data": {
      "text/plain": [
       "[{'target': 1, 'targetHandle': 'z', 'source': 0, 'sourceHandle': 'z'},\n",
       " {'target': 1, 'targetHandle': 'x', 'source': 0, 'sourceHandle': 'x'},\n",
       " {'target': 1, 'targetHandle': 'y', 'source': 0, 'sourceHandle': 'y'},\n",
       " {'target': 0, 'targetHandle': 'x', 'source': 2, 'sourceHandle': None},\n",
       " {'target': 0, 'targetHandle': 'y', 'source': 3, 'sourceHandle': None}]"
      ]
     },
     "execution_count": 14,
     "metadata": {},
     "output_type": "execute_result"
    }
   ],
   "source": [
    "edges_lst = []\n",
    "for edge in edges_label_lst:\n",
    "    edges_lst.append({'target': mapping_dict[edge['target']], 'targetHandle': edge['targetHandle'], 'source': mapping_dict[edge['source']], 'sourceHandle': edge['sourceHandle']})\n",
    "\n",
    "edges_lst"
   ]
  },
  {
   "cell_type": "code",
   "execution_count": 15,
   "id": "61f3ce9c-f9de-44c8-9865-be1a63901d7d",
   "metadata": {},
   "outputs": [
    {
     "data": {
      "text/plain": [
       "{0: <function __main__.add_x_and_y(x, y)>,\n",
       " 1: <function __main__.add_x_and_y_and_z(x, y, z)>,\n",
       " 2: 1,\n",
       " 3: 2}"
      ]
     },
     "execution_count": 15,
     "metadata": {},
     "output_type": "execute_result"
    }
   ],
   "source": [
    "nodes_dict"
   ]
  }
 ],
 "metadata": {
  "kernelspec": {
   "display_name": "Python 3 (ipykernel)",
   "language": "python",
   "name": "python3"
  },
  "language_info": {
   "codemirror_mode": {
    "name": "ipython",
    "version": 3
   },
   "file_extension": ".py",
   "mimetype": "text/x-python",
   "name": "python",
   "nbconvert_exporter": "python",
   "pygments_lexer": "ipython3",
   "version": "3.12.5"
  }
 },
 "nbformat": 4,
 "nbformat_minor": 5
}
