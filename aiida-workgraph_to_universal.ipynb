{
 "cells": [
  {
   "cell_type": "code",
   "execution_count": 1,
   "id": "52c8e7a0-d839-491f-af6a-a04ccdea13d4",
   "metadata": {},
   "outputs": [],
   "source": [
    "from aiida import load_profile\n",
    "from aiida.orm import Int\n",
    "from aiida_workgraph import task, WorkGraph"
   ]
  },
  {
   "cell_type": "code",
   "execution_count": 2,
   "id": "045cf154-7c18-4e6f-80c1-d3a0dcc3b347",
   "metadata": {},
   "outputs": [],
   "source": [
    "from pickle import loads"
   ]
  },
  {
   "cell_type": "code",
   "execution_count": 3,
   "id": "b1e4901b-3db7-452c-bf7f-803d9e72a059",
   "metadata": {},
   "outputs": [],
   "source": [
    "@task.calcfunction(outputs=[{\"name\": \"a\"}, {\"name\": \"b\"}, {\"name\": \"c\"}])\n",
    "def add_x_and_y(x, y):\n",
    "    z = x + y\n",
    "    a = x * 1.0\n",
    "    b = y * 1.0\n",
    "    return {\"a\": a, \"b\": b, \"c\": z}"
   ]
  },
  {
   "cell_type": "raw",
   "id": "00ff4d3c-42a8-4da6-bb4c-0494d26b4698",
   "metadata": {},
   "source": [
    "@task.calcfunction(outputs=[{\"name\": \"w\"}])\n",
    "def add_x_and_y_and_z(l, m, n):\n",
    "    w = l + m + n\n",
    "    return {\"w\": w}"
   ]
  },
  {
   "cell_type": "code",
   "execution_count": 4,
   "id": "47f83f79-2be3-474a-82aa-859016debb82",
   "metadata": {},
   "outputs": [],
   "source": [
    "@task.calcfunction()\n",
    "def add_x_and_y_and_z(l, m, n):\n",
    "    w = l + m + n\n",
    "    return w"
   ]
  },
  {
   "cell_type": "code",
   "execution_count": 5,
   "id": "d254bbe3-0491-4269-bdee-2635d304a0b8",
   "metadata": {},
   "outputs": [
    {
     "data": {
      "text/plain": [
       "Profile<uuid='7bb8761123324468bb98821cbb757251' name='presto'>"
      ]
     },
     "execution_count": 5,
     "metadata": {},
     "output_type": "execute_result"
    }
   ],
   "source": [
    "load_profile()"
   ]
  },
  {
   "cell_type": "code",
   "execution_count": 6,
   "id": "7bc2ef3d-0227-4046-a894-2225381c2d33",
   "metadata": {},
   "outputs": [],
   "source": [
    "wg = WorkGraph(\"my_workflow\")\n",
    "result = wg.add_task(add_x_and_y, name=\"add_x_and_y\", x=1, y=2)\n",
    "result_2 = wg.add_task(\n",
    "    add_x_and_y_and_z, \n",
    "    name=\"add_x_and_y_and_z\", \n",
    "    l=result.outputs.c, \n",
    "    m=result.outputs.a, \n",
    "    n=result.outputs.b,\n",
    ")"
   ]
  },
  {
   "cell_type": "code",
   "execution_count": 7,
   "id": "e0cce316-bcdf-4c96-87a5-d15e0b09a722",
   "metadata": {},
   "outputs": [],
   "source": [
    "work_graph_dict = wg.to_dict()"
   ]
  },
  {
   "cell_type": "code",
   "execution_count": 8,
   "id": "c821d540-331b-47ca-9fd4-62c5d150c4b4",
   "metadata": {},
   "outputs": [
    {
     "data": {
      "text/plain": [
       "[{'target': 'add_x_and_y_and_z',\n",
       "  'targetHandle': 'l',\n",
       "  'source': 'add_x_and_y',\n",
       "  'sourceHandle': 'c'},\n",
       " {'target': 'add_x_and_y_and_z',\n",
       "  'targetHandle': 'm',\n",
       "  'source': 'add_x_and_y',\n",
       "  'sourceHandle': 'a'},\n",
       " {'target': 'add_x_and_y_and_z',\n",
       "  'targetHandle': 'n',\n",
       "  'source': 'add_x_and_y',\n",
       "  'sourceHandle': 'b'}]"
      ]
     },
     "execution_count": 8,
     "metadata": {},
     "output_type": "execute_result"
    }
   ],
   "source": [
    "edges_label_lst = []\n",
    "for link_dict in work_graph_dict[\"links\"]:\n",
    "    if link_dict['from_socket'] == \"result\":\n",
    "        edges_label_lst.append({'target': link_dict['to_node'], 'targetHandle': link_dict['to_socket'], 'source': link_dict['from_node'], 'sourceHandle': None})\n",
    "    else:\n",
    "        edges_label_lst.append({'target': link_dict['to_node'], 'targetHandle': link_dict['to_socket'], 'source': link_dict['from_node'], 'sourceHandle': link_dict['from_socket']})\n",
    "\n",
    "edges_label_lst"
   ]
  },
  {
   "cell_type": "code",
   "execution_count": 9,
   "id": "5a0c6923-119d-43de-999c-feb972db932e",
   "metadata": {},
   "outputs": [
    {
     "data": {
      "text/plain": [
       "({'add_x_and_y': {'x': 1, 'y': 2},\n",
       "  'add_x_and_y_and_z': {'l': None, 'm': None, 'n': None}},\n",
       " {'add_x_and_y': <function __main__.add_x_and_y(x, y)>,\n",
       "  'add_x_and_y_and_z': <function __main__.add_x_and_y_and_z(l, m, n)>})"
      ]
     },
     "execution_count": 9,
     "metadata": {},
     "output_type": "execute_result"
    }
   ],
   "source": [
    "kwargs_dict, function_dict = {}, {}\n",
    "for task_name, task_dict in work_graph_dict[\"tasks\"].items():\n",
    "    input_variables = [\n",
    "        input_parameter \n",
    "        for input_parameter in task_dict['inputs'].keys() \n",
    "        if not input_parameter.startswith(\"metadata\") and not input_parameter.startswith(\"_wait\")\n",
    "    ]\n",
    "    input_kwargs = {\n",
    "        input_parameter: task_dict['inputs'][input_parameter]['property'][\"value\"].value if isinstance(task_dict['inputs'][input_parameter]['property'][\"value\"], dict) else task_dict['inputs'][input_parameter]['property'][\"value\"] \n",
    "        for input_parameter in input_variables\n",
    "    }\n",
    "    kwargs_dict[task_name] = input_kwargs\n",
    "    function_dict[task_name] = task_dict['executor']['callable'].process_class._func\n",
    "kwargs_dict, function_dict"
   ]
  },
  {
   "cell_type": "code",
   "execution_count": 10,
   "id": "f03906b0-2622-4fd9-a1e8-687b15229b94",
   "metadata": {},
   "outputs": [
    {
     "data": {
      "text/plain": [
       "({0: <function __main__.add_x_and_y(x, y)>,\n",
       "  1: <function __main__.add_x_and_y_and_z(l, m, n)>},\n",
       " {'add_x_and_y': 0, 'add_x_and_y_and_z': 1})"
      ]
     },
     "execution_count": 10,
     "metadata": {},
     "output_type": "execute_result"
    }
   ],
   "source": [
    "nodes_dict, mapping_dict = {}, {}\n",
    "for i, [k, v] in enumerate(function_dict.items()):\n",
    "    nodes_dict[i] = v\n",
    "    mapping_dict[k] = i\n",
    "\n",
    "nodes_dict, mapping_dict "
   ]
  },
  {
   "cell_type": "code",
   "execution_count": 11,
   "id": "43eb3c35-b780-4d3c-80d5-62d0097da322",
   "metadata": {},
   "outputs": [],
   "source": [
    "value_dict = {}\n",
    "for func_name, val_dict in kwargs_dict.items():\n",
    "    for k, v in val_dict.items():\n",
    "        if v is not None:\n",
    "            if func_name not in value_dict.keys():\n",
    "                value_dict[func_name] = {}\n",
    "            value_dict[func_name][k] = v"
   ]
  },
  {
   "cell_type": "code",
   "execution_count": 12,
   "id": "cb35cbf6-8878-4337-ba80-a71994c8e665",
   "metadata": {},
   "outputs": [
    {
     "data": {
      "text/plain": [
       "({0: <function __main__.add_x_and_y(x, y)>,\n",
       "  1: <function __main__.add_x_and_y_and_z(l, m, n)>,\n",
       "  2: 1,\n",
       "  3: 2},\n",
       " {'add_x_and_y': 0, 'add_x_and_y_and_z': 1, 1: 2, 2: 3})"
      ]
     },
     "execution_count": 12,
     "metadata": {},
     "output_type": "execute_result"
    }
   ],
   "source": [
    "i = len(nodes_dict)\n",
    "for val_dict in value_dict.values():\n",
    "    for k, v in val_dict.items():\n",
    "        nodes_dict[i] = v\n",
    "        mapping_dict[v] = i\n",
    "        i += 1\n",
    "\n",
    "nodes_dict, mapping_dict"
   ]
  },
  {
   "cell_type": "code",
   "execution_count": 13,
   "id": "2cb83ae9-0f39-44c2-a7fe-43d3795ddf5b",
   "metadata": {},
   "outputs": [
    {
     "data": {
      "text/plain": [
       "[{'target': 'add_x_and_y_and_z',\n",
       "  'targetHandle': 'l',\n",
       "  'source': 'add_x_and_y',\n",
       "  'sourceHandle': 'c'},\n",
       " {'target': 'add_x_and_y_and_z',\n",
       "  'targetHandle': 'm',\n",
       "  'source': 'add_x_and_y',\n",
       "  'sourceHandle': 'a'},\n",
       " {'target': 'add_x_and_y_and_z',\n",
       "  'targetHandle': 'n',\n",
       "  'source': 'add_x_and_y',\n",
       "  'sourceHandle': 'b'},\n",
       " {'target': 'add_x_and_y',\n",
       "  'targetHandle': 'x',\n",
       "  'source': 1,\n",
       "  'sourceHandle': None},\n",
       " {'target': 'add_x_and_y',\n",
       "  'targetHandle': 'y',\n",
       "  'source': 2,\n",
       "  'sourceHandle': None}]"
      ]
     },
     "execution_count": 13,
     "metadata": {},
     "output_type": "execute_result"
    }
   ],
   "source": [
    "for func_name, val_dict in kwargs_dict.items():\n",
    "    for k, v in val_dict.items():\n",
    "        if v is not None:\n",
    "            edges_label_lst.append({'target': func_name, 'targetHandle': k, 'source': v, 'sourceHandle': None})\n",
    "edges_label_lst"
   ]
  },
  {
   "cell_type": "code",
   "execution_count": 14,
   "id": "11918806-bec0-4de3-aaf3-bd80f07fd1a8",
   "metadata": {},
   "outputs": [
    {
     "data": {
      "text/plain": [
       "[{'target': 1, 'targetHandle': 'l', 'source': 0, 'sourceHandle': 'c'},\n",
       " {'target': 1, 'targetHandle': 'm', 'source': 0, 'sourceHandle': 'a'},\n",
       " {'target': 1, 'targetHandle': 'n', 'source': 0, 'sourceHandle': 'b'},\n",
       " {'target': 0, 'targetHandle': 'x', 'source': 2, 'sourceHandle': None},\n",
       " {'target': 0, 'targetHandle': 'y', 'source': 3, 'sourceHandle': None}]"
      ]
     },
     "execution_count": 14,
     "metadata": {},
     "output_type": "execute_result"
    }
   ],
   "source": [
    "edges_lst = []\n",
    "for edge in edges_label_lst:\n",
    "    edges_lst.append({'target': mapping_dict[edge['target']], 'targetHandle': edge['targetHandle'], 'source': mapping_dict[edge['source']], 'sourceHandle': edge['sourceHandle']})\n",
    "\n",
    "edges_lst"
   ]
  },
  {
   "cell_type": "code",
   "execution_count": 15,
   "id": "61f3ce9c-f9de-44c8-9865-be1a63901d7d",
   "metadata": {},
   "outputs": [
    {
     "data": {
      "text/plain": [
       "{0: <function __main__.add_x_and_y(x, y)>,\n",
       " 1: <function __main__.add_x_and_y_and_z(l, m, n)>,\n",
       " 2: 1,\n",
       " 3: 2}"
      ]
     },
     "execution_count": 15,
     "metadata": {},
     "output_type": "execute_result"
    }
   ],
   "source": [
    "nodes_dict"
   ]
  },
  {
   "cell_type": "code",
   "execution_count": 16,
   "id": "6370e6d5-1254-43aa-95b3-e296f230d80b",
   "metadata": {},
   "outputs": [
    {
     "data": {
      "text/plain": [
       "Profile<uuid='7bb8761123324468bb98821cbb757251' name='presto'>"
      ]
     },
     "execution_count": 16,
     "metadata": {},
     "output_type": "execute_result"
    }
   ],
   "source": [
    "load_profile()"
   ]
  },
  {
   "cell_type": "code",
   "execution_count": 17,
   "id": "d4d91057-d273-4407-84b0-aeb6ceae07af",
   "metadata": {},
   "outputs": [
    {
     "name": "stderr",
     "output_type": "stream",
     "text": [
      "01/17/2025 06:18:06 PM <120623> aiida.orm.nodes.process.workflow.workchain.WorkChainNode: [REPORT] [265|WorkGraphEngine|continue_workgraph]: Continue workgraph.\n",
      "01/17/2025 06:18:06 PM <120623> aiida.orm.nodes.process.workflow.workchain.WorkChainNode: [REPORT] [265|WorkGraphEngine|continue_workgraph]: tasks ready to run: add_x_and_y\n",
      "01/17/2025 06:18:06 PM <120623> aiida.orm.nodes.process.workflow.workchain.WorkChainNode: [REPORT] [265|WorkGraphEngine|run_tasks]: Run task: add_x_and_y, type: CALCFUNCTION\n"
     ]
    },
    {
     "name": "stdout",
     "output_type": "stream",
     "text": [
      "------------------------------------------------------------\n",
      "kwargs:  {'x': 1, 'y': 2}\n"
     ]
    },
    {
     "name": "stderr",
     "output_type": "stream",
     "text": [
      "01/17/2025 06:18:07 PM <120623> aiida.orm.nodes.process.workflow.workchain.WorkChainNode: [REPORT] [265|WorkGraphEngine|update_task_state]: Task: add_x_and_y finished.\n",
      "01/17/2025 06:18:07 PM <120623> aiida.orm.nodes.process.workflow.workchain.WorkChainNode: [REPORT] [265|WorkGraphEngine|continue_workgraph]: Continue workgraph.\n",
      "01/17/2025 06:18:07 PM <120623> aiida.orm.nodes.process.workflow.workchain.WorkChainNode: [REPORT] [265|WorkGraphEngine|continue_workgraph]: tasks ready to run: add_x_and_y_and_z\n",
      "01/17/2025 06:18:07 PM <120623> aiida.orm.nodes.process.workflow.workchain.WorkChainNode: [REPORT] [265|WorkGraphEngine|run_tasks]: Run task: add_x_and_y_and_z, type: CALCFUNCTION\n"
     ]
    },
    {
     "name": "stdout",
     "output_type": "stream",
     "text": [
      "------------------------------------------------------------\n",
      "kwargs:  {'l': <Int: uuid: 1d416b15-849e-487c-8cdb-b12db8738b39 (pk: 271) value: 3>, 'm': <Float: uuid: d068d910-dccc-43c5-b88d-115c76836bee (pk: 269) value: 1.0>, 'n': <Float: uuid: 2735d182-e653-4641-b13f-eff9eba01406 (pk: 270) value: 2.0>}\n"
     ]
    },
    {
     "name": "stderr",
     "output_type": "stream",
     "text": [
      "01/17/2025 06:18:07 PM <120623> aiida.orm.nodes.process.workflow.workchain.WorkChainNode: [REPORT] [265|WorkGraphEngine|update_task_state]: Task: add_x_and_y_and_z finished.\n",
      "01/17/2025 06:18:07 PM <120623> aiida.orm.nodes.process.workflow.workchain.WorkChainNode: [REPORT] [265|WorkGraphEngine|continue_workgraph]: Continue workgraph.\n",
      "01/17/2025 06:18:07 PM <120623> aiida.orm.nodes.process.workflow.workchain.WorkChainNode: [REPORT] [265|WorkGraphEngine|continue_workgraph]: tasks ready to run: \n",
      "01/17/2025 06:18:07 PM <120623> aiida.orm.nodes.process.workflow.workchain.WorkChainNode: [REPORT] [265|WorkGraphEngine|finalize]: Finalize workgraph.\n"
     ]
    },
    {
     "data": {
      "text/plain": [
       "{'execution_count': <Int: uuid: acbe352e-6c52-44eb-a1a2-99d249f99867 (pk: 274) value: 1>}"
      ]
     },
     "execution_count": 17,
     "metadata": {},
     "output_type": "execute_result"
    }
   ],
   "source": [
    "wg.run()"
   ]
  },
  {
   "cell_type": "code",
   "execution_count": 18,
   "id": "bd857a6d-d197-4290-99d3-f67958b5583d",
   "metadata": {},
   "outputs": [
    {
     "data": {
      "text/plain": [
       "SocketAny(name='result', value=uuid: a0410fcf-4ef0-47e2-83d4-6cfc3521c593 (pk: 273) value: 6.0)"
      ]
     },
     "execution_count": 18,
     "metadata": {},
     "output_type": "execute_result"
    }
   ],
   "source": [
    "result_2.outputs.result"
   ]
  },
  {
   "cell_type": "code",
   "execution_count": null,
   "id": "83bdc992-0bbe-4f70-828b-440b12ba32d9",
   "metadata": {},
   "outputs": [],
   "source": []
  }
 ],
 "metadata": {
  "kernelspec": {
   "display_name": "Python 3 (ipykernel)",
   "language": "python",
   "name": "python3"
  },
  "language_info": {
   "codemirror_mode": {
    "name": "ipython",
    "version": 3
   },
   "file_extension": ".py",
   "mimetype": "text/x-python",
   "name": "python",
   "nbconvert_exporter": "python",
   "pygments_lexer": "ipython3",
   "version": "3.12.8"
  }
 },
 "nbformat": 4,
 "nbformat_minor": 5
}
