{
 "cells": [
  {
   "cell_type": "code",
   "execution_count": 1,
   "id": "8676f0ca-5b34-4867-a32d-928f37fb0ed2",
   "metadata": {},
   "outputs": [],
   "source": [
    "from importlib import import_module"
   ]
  },
  {
   "cell_type": "code",
   "execution_count": 2,
   "id": "62fe38d4-f022-4cce-afff-52a1b2dcd611",
   "metadata": {},
   "outputs": [],
   "source": [
    "import os\n",
    "import subprocess\n",
    "import matplotlib.pyplot as plt\n",
    "import numpy as np\n",
    "from ase.build import bulk\n",
    "from ase.io import write\n",
    "from ase.atoms import Atoms\n",
    "from adis_tools.parsers import parse_pw"
   ]
  },
  {
   "cell_type": "code",
   "execution_count": 3,
   "id": "1bd1f75c-a07f-48c9-ae56-22ba674d6d3a",
   "metadata": {},
   "outputs": [],
   "source": [
    "from jobflow import job, Flow\n",
    "from jobflow.managers.local import run_locally"
   ]
  },
  {
   "cell_type": "code",
   "execution_count": 4,
   "id": "0e73226b-0cd2-4e01-b11a-3755dcb88291",
   "metadata": {},
   "outputs": [],
   "source": [
    "def get_function_dict(flow):\n",
    "    return {\n",
    "        job.uuid: job.function\n",
    "        for job in flow.jobs\n",
    "    }"
   ]
  },
  {
   "cell_type": "code",
   "execution_count": 5,
   "id": "59b66e56-f5f4-4ddd-8304-cdeda737e2a1",
   "metadata": {},
   "outputs": [],
   "source": [
    "def get_nodes_dict(function_dict):\n",
    "    nodes_dict, nodes_mapping_dict = {}, {}\n",
    "    # function_dict_len = len(function_dict)\n",
    "    for i, [k, v] in enumerate(function_dict.items()):\n",
    "        # nodes_dict[function_dict_len-i] = v\n",
    "        # nodes_mapping_dict[k] = function_dict_len-i\n",
    "        nodes_dict[i] = v\n",
    "        nodes_mapping_dict[k] = i\n",
    "    \n",
    "    return nodes_dict, nodes_mapping_dict"
   ]
  },
  {
   "cell_type": "code",
   "execution_count": 6,
   "id": "4c08a835-f088-4eec-a3b2-eb15a7d6a7a8",
   "metadata": {},
   "outputs": [],
   "source": [
    "def get_edge_from_dict(target, key, value_dict, nodes_mapping_dict):\n",
    "    if len(value_dict['attributes']) == 1:\n",
    "        return {'target': target, 'targetHandle': key, \"source\": nodes_mapping_dict[value_dict['uuid']], 'sourceHandle': value_dict['attributes'][0][1]}\n",
    "    else:\n",
    "        return {'target': target, 'targetHandle': key, \"source\": nodes_mapping_dict[value_dict['uuid']], 'sourceHandle': None}"
   ]
  },
  {
   "cell_type": "code",
   "execution_count": 7,
   "id": "359b693a-e7eb-418a-be3e-640ed0d9ed5e",
   "metadata": {},
   "outputs": [],
   "source": [
    "def get_edges_and_extend_nodes(flow_dict, nodes_mapping_dict, nodes_dict):\n",
    "    edges_lst = []\n",
    "    for job in flow_dict['jobs']:\n",
    "        for k, v in job['function_kwargs'].items():\n",
    "            if isinstance(v, dict) and '@module' in v and '@class' in v and '@version' in v:\n",
    "                edges_lst.append(get_edge_from_dict(\n",
    "                    target=nodes_mapping_dict[job[\"uuid\"]], \n",
    "                    key=k, \n",
    "                    value_dict=v, \n",
    "                    nodes_mapping_dict=nodes_mapping_dict,\n",
    "                ))\n",
    "            elif isinstance(v, dict) and any([isinstance(el, dict) and '@module' in el and '@class' in el and '@version' in el for el in v.values()]):\n",
    "                # print(\"found link in dict\", v)\n",
    "                node_dict_index = len(nodes_dict)\n",
    "                nodes_dict[node_dict_index] = get_dict\n",
    "                for kt, vt in v.items():\n",
    "                    if isinstance(vt, dict) and '@module' in vt and '@class' in vt and '@version' in vt:\n",
    "                        edges_lst.append(get_edge_from_dict(\n",
    "                            target=node_dict_index, \n",
    "                            key=kt, \n",
    "                            value_dict=vt, \n",
    "                            nodes_mapping_dict=nodes_mapping_dict,\n",
    "                        ))\n",
    "                    else:\n",
    "                        if vt not in nodes_dict.values():\n",
    "                            node_index = len(nodes_dict)\n",
    "                            nodes_dict[node_index] = vt\n",
    "                        else:\n",
    "                            # print(nodes_dict, vt)\n",
    "                            node_index = {str(tv): tk for tk, tv in nodes_dict.items()}[str(vt)]\n",
    "                        edges_lst.append({'target': node_dict_index, 'targetHandle': kt, \"source\": node_index, 'sourceHandle': None})\n",
    "                edges_lst.append({'target': nodes_mapping_dict[job[\"uuid\"]], 'targetHandle': k, \"source\": node_dict_index, 'sourceHandle': None})\n",
    "            elif isinstance(v, list) and any([isinstance(el, dict) and '@module' in el and '@class' in el and '@version' in el for el in v]):\n",
    "                # print(\"found link in list\", v)\n",
    "                node_list_index = len(nodes_dict)\n",
    "                nodes_dict[node_list_index] = get_list\n",
    "                for kt, vt in enumerate(v):\n",
    "                    if isinstance(vt, dict) and '@module' in vt and '@class' in vt and '@version' in vt:\n",
    "                        edges_lst.append(get_edge_from_dict(\n",
    "                            target=node_list_index, \n",
    "                            key=str(kt), \n",
    "                            value_dict=vt, \n",
    "                            nodes_mapping_dict=nodes_mapping_dict,\n",
    "                        ))\n",
    "                    else:\n",
    "                        if vt not in nodes_dict.values():\n",
    "                            node_index = len(nodes_dict)\n",
    "                            nodes_dict[node_index] = vt\n",
    "                        else:\n",
    "                            # print(nodes_dict, vt)\n",
    "                            node_index = {str(tv): tk for tk, tv in nodes_dict.items()}[str(vt)]\n",
    "                        edges_lst.append({'target': node_list_index, 'targetHandle': kt, \"source\": node_index, 'sourceHandle': None})\n",
    "                edges_lst.append({'target': nodes_mapping_dict[job[\"uuid\"]], 'targetHandle': k, \"source\": node_list_index, 'sourceHandle': None})\n",
    "            else:\n",
    "                if v not in nodes_dict.values():\n",
    "                    node_index = len(nodes_dict)\n",
    "                    nodes_dict[node_index] = v\n",
    "                else:\n",
    "                    node_index = {tv: tk for tk, tv in nodes_dict.items()}[v]\n",
    "                edges_lst.append({'target': nodes_mapping_dict[job[\"uuid\"]], 'targetHandle': k, \"source\": node_index, 'sourceHandle': None})\n",
    "    return edges_lst, nodes_dict"
   ]
  },
  {
   "cell_type": "code",
   "execution_count": 8,
   "id": "5a349966-1bf5-4851-b065-bd0e9df11bc4",
   "metadata": {},
   "outputs": [],
   "source": [
    "def get_dict(**kwargs):\n",
    "    return {k: v for k, v in kwargs.items()}"
   ]
  },
  {
   "cell_type": "code",
   "execution_count": 9,
   "id": "565093ff-3405-4485-aeb3-6dcc25173e77",
   "metadata": {},
   "outputs": [],
   "source": [
    "def get_list(**kwargs):\n",
    "    return list(kwargs.values())"
   ]
  },
  {
   "cell_type": "code",
   "execution_count": 10,
   "id": "9da72034-071d-49e5-b7e0-14f31ac1fba4",
   "metadata": {},
   "outputs": [],
   "source": [
    "def write_input(input_dict, working_directory=\".\"):\n",
    "    filename = os.path.join(working_directory, \"input.pwi\")\n",
    "    os.makedirs(working_directory, exist_ok=True)\n",
    "    write(\n",
    "        filename=filename,\n",
    "        images=Atoms(**input_dict[\"structure\"]),\n",
    "        Crystal=True,\n",
    "        kpts=input_dict[\"kpts\"],\n",
    "        input_data={\n",
    "            \"calculation\": input_dict[\"calculation\"],\n",
    "            \"occupations\": \"smearing\",\n",
    "            \"degauss\": input_dict[\"smearing\"],\n",
    "        },\n",
    "        pseudopotentials=input_dict[\"pseudopotentials\"],\n",
    "        tstress=True,\n",
    "        tprnfor=True,\n",
    "    )"
   ]
  },
  {
   "cell_type": "code",
   "execution_count": 11,
   "id": "2ff12d3c-7599-49ce-8cea-559dbe2f4ab7",
   "metadata": {},
   "outputs": [],
   "source": [
    "def collect_output(working_directory=\".\"):\n",
    "    output = parse_pw(os.path.join(working_directory, \"pwscf.xml\"))\n",
    "    return {\n",
    "        \"structure\": output[\"ase_structure\"].todict(),\n",
    "        \"energy\": output[\"energy\"],\n",
    "        \"volume\": output[\"ase_structure\"].get_volume(),\n",
    "    }"
   ]
  },
  {
   "cell_type": "code",
   "execution_count": 12,
   "id": "738792db-f97c-49b5-8a7c-ea383c68a003",
   "metadata": {},
   "outputs": [],
   "source": [
    "@job(data=[\"energy\", \"volume\", \"structure\"])\n",
    "def calculate_qe(working_directory, input_dict):\n",
    "    write_input(\n",
    "        input_dict=input_dict,\n",
    "        working_directory=working_directory,\n",
    "    )\n",
    "    subprocess.check_output(\n",
    "        \"mpirun -np 1 pw.x -in input.pwi > output.pwo\",\n",
    "        cwd=working_directory,\n",
    "        shell=True,\n",
    "    )\n",
    "    return collect_output(working_directory=working_directory)"
   ]
  },
  {
   "cell_type": "code",
   "execution_count": 13,
   "id": "532bf710-0497-4090-8d09-16ec929c2a69",
   "metadata": {},
   "outputs": [],
   "source": [
    "@job(data=[\"i\" for i in range(100)])  # maximum number of strains is currently 100 \n",
    "def generate_structures(structure, strain_lst):\n",
    "    structure_lst = []\n",
    "    for strain in strain_lst:\n",
    "        structure_strain = Atoms(**structure)\n",
    "        structure_strain.set_cell(\n",
    "            structure_strain.cell * strain ** (1 / 3), scale_atoms=True\n",
    "        )\n",
    "        structure_lst.append(structure_strain)\n",
    "    return {str(i): s.todict() for i, s in enumerate(structure_lst)}"
   ]
  },
  {
   "cell_type": "code",
   "execution_count": 14,
   "id": "6c7dd46e-9d3f-40a5-b09e-df7ff1f4b552",
   "metadata": {},
   "outputs": [],
   "source": [
    "@job\n",
    "def plot_energy_volume_curve(volume_lst, energy_lst):\n",
    "    plt.plot(volume_lst, energy_lst)\n",
    "    plt.xlabel(\"Volume\")\n",
    "    plt.ylabel(\"Energy\")\n",
    "    plt.savefig(\"evcurve.png\")"
   ]
  },
  {
   "cell_type": "code",
   "execution_count": 15,
   "id": "fadf2b4f-cc59-47e5-9994-673c6f5bc212",
   "metadata": {},
   "outputs": [],
   "source": [
    "@job\n",
    "def get_bulk_structure(name, a, cubic):\n",
    "    return bulk(\n",
    "        name=name,\n",
    "        a=a,\n",
    "        cubic=cubic,\n",
    "    ).todict()"
   ]
  },
  {
   "cell_type": "code",
   "execution_count": 16,
   "id": "763d5797-8d0f-4519-82b2-bb7ba0c8ff98",
   "metadata": {},
   "outputs": [],
   "source": [
    "pseudopotentials = {\"Al\": \"Al.pbe-n-kjpaw_psl.1.0.0.UPF\"}"
   ]
  },
  {
   "cell_type": "code",
   "execution_count": 17,
   "id": "8560edf8-ed38-49e9-b5f8-37a7ddb2d7fd",
   "metadata": {},
   "outputs": [],
   "source": [
    "structure = get_bulk_structure(\n",
    "    name=\"Al\",\n",
    "    a=4.05,\n",
    "    cubic=True,\n",
    ")"
   ]
  },
  {
   "cell_type": "code",
   "execution_count": 18,
   "id": "22c3b8dd-83cc-416d-832f-d8abb1bd1478",
   "metadata": {},
   "outputs": [],
   "source": [
    "calc_mini = calculate_qe(\n",
    "    working_directory=\"mini\",\n",
    "    input_dict={\n",
    "        \"structure\": structure.output,\n",
    "        \"pseudopotentials\": pseudopotentials,\n",
    "        \"kpts\": (3, 3, 3),\n",
    "        \"calculation\": \"vc-relax\",\n",
    "        \"smearing\": 0.02,\n",
    "    },\n",
    ")"
   ]
  },
  {
   "cell_type": "code",
   "execution_count": 19,
   "id": "ff0addeb-5ded-4f57-8ca4-ae79f9e96369",
   "metadata": {},
   "outputs": [],
   "source": [
    "number_of_strains = 5\n",
    "structure_lst = generate_structures(\n",
    "    structure=calc_mini.output.structure,\n",
    "    strain_lst=np.linspace(0.9, 1.1, number_of_strains),\n",
    ")"
   ]
  },
  {
   "cell_type": "code",
   "execution_count": 20,
   "id": "8aff01a2-fddf-4506-8527-0a6662a2836e",
   "metadata": {},
   "outputs": [],
   "source": [
    "job_strain_lst = []\n",
    "for i in range(number_of_strains):\n",
    "    calc_strain = calculate_qe(\n",
    "        working_directory=\"strain_\" + str(i),\n",
    "        input_dict={\n",
    "            \"structure\": getattr(structure_lst.output, str(i)),\n",
    "            \"pseudopotentials\": pseudopotentials,\n",
    "            \"kpts\": (3, 3, 3),\n",
    "            \"calculation\": \"scf\",\n",
    "            \"smearing\": 0.02,\n",
    "        },\n",
    "    )\n",
    "    job_strain_lst.append(calc_strain)"
   ]
  },
  {
   "cell_type": "code",
   "execution_count": 21,
   "id": "bcd97640-9713-4816-8395-85a081275eb8",
   "metadata": {},
   "outputs": [],
   "source": [
    "plot = plot_energy_volume_curve(\n",
    "    volume_lst=[job.output.volume for job in job_strain_lst],\n",
    "    energy_lst=[job.output.energy for job in job_strain_lst],\n",
    ")"
   ]
  },
  {
   "cell_type": "code",
   "execution_count": 22,
   "id": "0f6fdd39-df5d-4cf8-a987-093a83c4954f",
   "metadata": {},
   "outputs": [],
   "source": [
    "flow = Flow([structure, calc_mini, structure_lst] + job_strain_lst + [plot])"
   ]
  },
  {
   "cell_type": "code",
   "execution_count": null,
   "id": "95e87e64-f3b1-4279-bda4-4d05fa110326",
   "metadata": {},
   "outputs": [],
   "source": []
  },
  {
   "cell_type": "code",
   "execution_count": null,
   "id": "f7c0a68f-d8c3-4bae-8b4a-c0742ca4c4e9",
   "metadata": {},
   "outputs": [],
   "source": []
  },
  {
   "cell_type": "code",
   "execution_count": 23,
   "id": "ce14fd7b-58fa-4343-86d2-7e701cdbd927",
   "metadata": {},
   "outputs": [],
   "source": [
    "flow_dict = flow.as_dict()"
   ]
  },
  {
   "cell_type": "code",
   "execution_count": null,
   "id": "5b605fea-4bd1-42e3-b248-97ae3b1a50ca",
   "metadata": {},
   "outputs": [],
   "source": []
  },
  {
   "cell_type": "code",
   "execution_count": 24,
   "id": "72f40946-542a-412a-8c70-f4f185a49319",
   "metadata": {},
   "outputs": [
    {
     "data": {
      "text/plain": [
       "{'e556acdb-0504-4ee8-9230-556b6204d556': <function __main__.get_bulk_structure(name, a, cubic)>,\n",
       " 'e9b6361d-0b18-4c6c-88f3-e247a0659e34': <function __main__.calculate_qe(working_directory, input_dict)>,\n",
       " 'db93730a-db3f-4d00-8ec9-2f7111f4245e': <function __main__.generate_structures(structure, strain_lst)>,\n",
       " '1ad51625-8409-4820-bf12-6ffda8cb9e8a': <function __main__.calculate_qe(working_directory, input_dict)>,\n",
       " '5d22fd8f-62b6-4aa6-bc57-baacd91750cb': <function __main__.calculate_qe(working_directory, input_dict)>,\n",
       " '3a3b9a2a-5f77-4182-a402-0452c7d99269': <function __main__.calculate_qe(working_directory, input_dict)>,\n",
       " 'cb06da66-213b-4df3-81a7-6ba7a117efda': <function __main__.calculate_qe(working_directory, input_dict)>,\n",
       " 'c2b91326-cc79-4251-b468-b6b14b45ed07': <function __main__.calculate_qe(working_directory, input_dict)>,\n",
       " '385493c9-e2fe-4237-9b33-ca3bb3481e75': <function __main__.plot_energy_volume_curve(volume_lst, energy_lst)>}"
      ]
     },
     "execution_count": 24,
     "metadata": {},
     "output_type": "execute_result"
    }
   ],
   "source": [
    "function_dict = get_function_dict(flow=flow)\n",
    "function_dict"
   ]
  },
  {
   "cell_type": "code",
   "execution_count": 25,
   "id": "c96dc865-e7b9-476c-a727-3e1329a232a6",
   "metadata": {},
   "outputs": [
    {
     "data": {
      "text/plain": [
       "{0: <function __main__.get_bulk_structure(name, a, cubic)>,\n",
       " 1: <function __main__.calculate_qe(working_directory, input_dict)>,\n",
       " 2: <function __main__.generate_structures(structure, strain_lst)>,\n",
       " 3: <function __main__.calculate_qe(working_directory, input_dict)>,\n",
       " 4: <function __main__.calculate_qe(working_directory, input_dict)>,\n",
       " 5: <function __main__.calculate_qe(working_directory, input_dict)>,\n",
       " 6: <function __main__.calculate_qe(working_directory, input_dict)>,\n",
       " 7: <function __main__.calculate_qe(working_directory, input_dict)>,\n",
       " 8: <function __main__.plot_energy_volume_curve(volume_lst, energy_lst)>}"
      ]
     },
     "execution_count": 25,
     "metadata": {},
     "output_type": "execute_result"
    }
   ],
   "source": [
    "nodes_dict, nodes_mapping_dict = get_nodes_dict(function_dict=function_dict)\n",
    "nodes_dict"
   ]
  },
  {
   "cell_type": "code",
   "execution_count": 26,
   "id": "fed5ad30-e268-47b5-875f-fcfbbe34724f",
   "metadata": {},
   "outputs": [
    {
     "data": {
      "text/plain": [
       "{'e556acdb-0504-4ee8-9230-556b6204d556': 0,\n",
       " 'e9b6361d-0b18-4c6c-88f3-e247a0659e34': 1,\n",
       " 'db93730a-db3f-4d00-8ec9-2f7111f4245e': 2,\n",
       " '1ad51625-8409-4820-bf12-6ffda8cb9e8a': 3,\n",
       " '5d22fd8f-62b6-4aa6-bc57-baacd91750cb': 4,\n",
       " '3a3b9a2a-5f77-4182-a402-0452c7d99269': 5,\n",
       " 'cb06da66-213b-4df3-81a7-6ba7a117efda': 6,\n",
       " 'c2b91326-cc79-4251-b468-b6b14b45ed07': 7,\n",
       " '385493c9-e2fe-4237-9b33-ca3bb3481e75': 8}"
      ]
     },
     "execution_count": 26,
     "metadata": {},
     "output_type": "execute_result"
    }
   ],
   "source": [
    "nodes_mapping_dict"
   ]
  },
  {
   "cell_type": "code",
   "execution_count": 27,
   "id": "832fbf73-a980-4eac-95be-32c389927218",
   "metadata": {},
   "outputs": [
    {
     "data": {
      "text/plain": [
       "{0: <function __main__.get_bulk_structure(name, a, cubic)>,\n",
       " 1: <function __main__.calculate_qe(working_directory, input_dict)>,\n",
       " 2: <function __main__.generate_structures(structure, strain_lst)>,\n",
       " 3: <function __main__.calculate_qe(working_directory, input_dict)>,\n",
       " 4: <function __main__.calculate_qe(working_directory, input_dict)>,\n",
       " 5: <function __main__.calculate_qe(working_directory, input_dict)>,\n",
       " 6: <function __main__.calculate_qe(working_directory, input_dict)>,\n",
       " 7: <function __main__.calculate_qe(working_directory, input_dict)>,\n",
       " 8: <function __main__.plot_energy_volume_curve(volume_lst, energy_lst)>,\n",
       " 9: 'Al',\n",
       " 10: 4.05,\n",
       " 11: True,\n",
       " 12: 'mini',\n",
       " 13: <function __main__.get_dict(**kwargs)>,\n",
       " 14: {'Al': 'Al.pbe-n-kjpaw_psl.1.0.0.UPF'},\n",
       " 15: [3, 3, 3],\n",
       " 16: 'vc-relax',\n",
       " 17: 0.02,\n",
       " 18: [0.9, 0.9500000000000001, 1.0, 1.05, 1.1],\n",
       " 19: 'strain_0',\n",
       " 20: <function __main__.get_dict(**kwargs)>,\n",
       " 21: 'scf',\n",
       " 22: 'strain_1',\n",
       " 23: <function __main__.get_dict(**kwargs)>,\n",
       " 24: 'strain_2',\n",
       " 25: <function __main__.get_dict(**kwargs)>,\n",
       " 26: 'strain_3',\n",
       " 27: <function __main__.get_dict(**kwargs)>,\n",
       " 28: 'strain_4',\n",
       " 29: <function __main__.get_dict(**kwargs)>,\n",
       " 30: <function __main__.get_list(**kwargs)>,\n",
       " 31: <function __main__.get_list(**kwargs)>}"
      ]
     },
     "execution_count": 27,
     "metadata": {},
     "output_type": "execute_result"
    }
   ],
   "source": [
    "edges_lst, nodes_dict = get_edges_and_extend_nodes(flow_dict=flow_dict, nodes_mapping_dict=nodes_mapping_dict, nodes_dict=nodes_dict)\n",
    "nodes_dict"
   ]
  },
  {
   "cell_type": "code",
   "execution_count": 28,
   "id": "6caded1d-09ce-4b4d-a79f-871b4ebe1e47",
   "metadata": {},
   "outputs": [
    {
     "data": {
      "text/plain": [
       "[{'target': 0, 'targetHandle': 'name', 'source': 9, 'sourceHandle': None},\n",
       " {'target': 0, 'targetHandle': 'a', 'source': 10, 'sourceHandle': None},\n",
       " {'target': 0, 'targetHandle': 'cubic', 'source': 11, 'sourceHandle': None},\n",
       " {'target': 1,\n",
       "  'targetHandle': 'working_directory',\n",
       "  'source': 12,\n",
       "  'sourceHandle': None},\n",
       " {'target': 13,\n",
       "  'targetHandle': 'structure',\n",
       "  'source': 0,\n",
       "  'sourceHandle': None},\n",
       " {'target': 13,\n",
       "  'targetHandle': 'pseudopotentials',\n",
       "  'source': 14,\n",
       "  'sourceHandle': None},\n",
       " {'target': 13, 'targetHandle': 'kpts', 'source': 15, 'sourceHandle': None},\n",
       " {'target': 13,\n",
       "  'targetHandle': 'calculation',\n",
       "  'source': 16,\n",
       "  'sourceHandle': None},\n",
       " {'target': 13,\n",
       "  'targetHandle': 'smearing',\n",
       "  'source': 17,\n",
       "  'sourceHandle': None},\n",
       " {'target': 1,\n",
       "  'targetHandle': 'input_dict',\n",
       "  'source': 13,\n",
       "  'sourceHandle': None},\n",
       " {'target': 2,\n",
       "  'targetHandle': 'structure',\n",
       "  'source': 1,\n",
       "  'sourceHandle': 'structure'},\n",
       " {'target': 2,\n",
       "  'targetHandle': 'strain_lst',\n",
       "  'source': 18,\n",
       "  'sourceHandle': None},\n",
       " {'target': 3,\n",
       "  'targetHandle': 'working_directory',\n",
       "  'source': 19,\n",
       "  'sourceHandle': None},\n",
       " {'target': 20, 'targetHandle': 'structure', 'source': 2, 'sourceHandle': '0'},\n",
       " {'target': 20,\n",
       "  'targetHandle': 'pseudopotentials',\n",
       "  'source': 14,\n",
       "  'sourceHandle': None},\n",
       " {'target': 20, 'targetHandle': 'kpts', 'source': 15, 'sourceHandle': None},\n",
       " {'target': 20,\n",
       "  'targetHandle': 'calculation',\n",
       "  'source': 21,\n",
       "  'sourceHandle': None},\n",
       " {'target': 20,\n",
       "  'targetHandle': 'smearing',\n",
       "  'source': 17,\n",
       "  'sourceHandle': None},\n",
       " {'target': 3,\n",
       "  'targetHandle': 'input_dict',\n",
       "  'source': 20,\n",
       "  'sourceHandle': None},\n",
       " {'target': 4,\n",
       "  'targetHandle': 'working_directory',\n",
       "  'source': 22,\n",
       "  'sourceHandle': None},\n",
       " {'target': 23, 'targetHandle': 'structure', 'source': 2, 'sourceHandle': '1'},\n",
       " {'target': 23,\n",
       "  'targetHandle': 'pseudopotentials',\n",
       "  'source': 14,\n",
       "  'sourceHandle': None},\n",
       " {'target': 23, 'targetHandle': 'kpts', 'source': 15, 'sourceHandle': None},\n",
       " {'target': 23,\n",
       "  'targetHandle': 'calculation',\n",
       "  'source': 21,\n",
       "  'sourceHandle': None},\n",
       " {'target': 23,\n",
       "  'targetHandle': 'smearing',\n",
       "  'source': 17,\n",
       "  'sourceHandle': None},\n",
       " {'target': 4,\n",
       "  'targetHandle': 'input_dict',\n",
       "  'source': 23,\n",
       "  'sourceHandle': None},\n",
       " {'target': 5,\n",
       "  'targetHandle': 'working_directory',\n",
       "  'source': 24,\n",
       "  'sourceHandle': None},\n",
       " {'target': 25, 'targetHandle': 'structure', 'source': 2, 'sourceHandle': '2'},\n",
       " {'target': 25,\n",
       "  'targetHandle': 'pseudopotentials',\n",
       "  'source': 14,\n",
       "  'sourceHandle': None},\n",
       " {'target': 25, 'targetHandle': 'kpts', 'source': 15, 'sourceHandle': None},\n",
       " {'target': 25,\n",
       "  'targetHandle': 'calculation',\n",
       "  'source': 21,\n",
       "  'sourceHandle': None},\n",
       " {'target': 25,\n",
       "  'targetHandle': 'smearing',\n",
       "  'source': 17,\n",
       "  'sourceHandle': None},\n",
       " {'target': 5,\n",
       "  'targetHandle': 'input_dict',\n",
       "  'source': 25,\n",
       "  'sourceHandle': None},\n",
       " {'target': 6,\n",
       "  'targetHandle': 'working_directory',\n",
       "  'source': 26,\n",
       "  'sourceHandle': None},\n",
       " {'target': 27, 'targetHandle': 'structure', 'source': 2, 'sourceHandle': '3'},\n",
       " {'target': 27,\n",
       "  'targetHandle': 'pseudopotentials',\n",
       "  'source': 14,\n",
       "  'sourceHandle': None},\n",
       " {'target': 27, 'targetHandle': 'kpts', 'source': 15, 'sourceHandle': None},\n",
       " {'target': 27,\n",
       "  'targetHandle': 'calculation',\n",
       "  'source': 21,\n",
       "  'sourceHandle': None},\n",
       " {'target': 27,\n",
       "  'targetHandle': 'smearing',\n",
       "  'source': 17,\n",
       "  'sourceHandle': None},\n",
       " {'target': 6,\n",
       "  'targetHandle': 'input_dict',\n",
       "  'source': 27,\n",
       "  'sourceHandle': None},\n",
       " {'target': 7,\n",
       "  'targetHandle': 'working_directory',\n",
       "  'source': 28,\n",
       "  'sourceHandle': None},\n",
       " {'target': 29, 'targetHandle': 'structure', 'source': 2, 'sourceHandle': '4'},\n",
       " {'target': 29,\n",
       "  'targetHandle': 'pseudopotentials',\n",
       "  'source': 14,\n",
       "  'sourceHandle': None},\n",
       " {'target': 29, 'targetHandle': 'kpts', 'source': 15, 'sourceHandle': None},\n",
       " {'target': 29,\n",
       "  'targetHandle': 'calculation',\n",
       "  'source': 21,\n",
       "  'sourceHandle': None},\n",
       " {'target': 29,\n",
       "  'targetHandle': 'smearing',\n",
       "  'source': 17,\n",
       "  'sourceHandle': None},\n",
       " {'target': 7,\n",
       "  'targetHandle': 'input_dict',\n",
       "  'source': 29,\n",
       "  'sourceHandle': None},\n",
       " {'target': 30, 'targetHandle': '0', 'source': 3, 'sourceHandle': 'volume'},\n",
       " {'target': 30, 'targetHandle': '1', 'source': 4, 'sourceHandle': 'volume'},\n",
       " {'target': 30, 'targetHandle': '2', 'source': 5, 'sourceHandle': 'volume'},\n",
       " {'target': 30, 'targetHandle': '3', 'source': 6, 'sourceHandle': 'volume'},\n",
       " {'target': 30, 'targetHandle': '4', 'source': 7, 'sourceHandle': 'volume'},\n",
       " {'target': 8,\n",
       "  'targetHandle': 'volume_lst',\n",
       "  'source': 30,\n",
       "  'sourceHandle': None},\n",
       " {'target': 31, 'targetHandle': '0', 'source': 3, 'sourceHandle': 'energy'},\n",
       " {'target': 31, 'targetHandle': '1', 'source': 4, 'sourceHandle': 'energy'},\n",
       " {'target': 31, 'targetHandle': '2', 'source': 5, 'sourceHandle': 'energy'},\n",
       " {'target': 31, 'targetHandle': '3', 'source': 6, 'sourceHandle': 'energy'},\n",
       " {'target': 31, 'targetHandle': '4', 'source': 7, 'sourceHandle': 'energy'},\n",
       " {'target': 8,\n",
       "  'targetHandle': 'energy_lst',\n",
       "  'source': 31,\n",
       "  'sourceHandle': None}]"
      ]
     },
     "execution_count": 28,
     "metadata": {},
     "output_type": "execute_result"
    }
   ],
   "source": [
    "edges_lst"
   ]
  },
  {
   "cell_type": "code",
   "execution_count": 29,
   "id": "f72f2e27-3706-48c9-aec9-4b5dbeee738d",
   "metadata": {},
   "outputs": [
    {
     "name": "stdout",
     "output_type": "stream",
     "text": [
      "2025-01-17 12:45:33,746 INFO Started executing jobs locally\n",
      "2025-01-17 12:45:34,630 INFO Starting job - get_bulk_structure (e556acdb-0504-4ee8-9230-556b6204d556)\n",
      "2025-01-17 12:45:34,635 INFO Finished job - get_bulk_structure (e556acdb-0504-4ee8-9230-556b6204d556)\n",
      "2025-01-17 12:45:34,636 INFO Starting job - calculate_qe (e9b6361d-0b18-4c6c-88f3-e247a0659e34)\n"
     ]
    },
    {
     "name": "stderr",
     "output_type": "stream",
     "text": [
      "Note: The following floating-point exceptions are signalling: IEEE_INVALID_FLAG\n"
     ]
    },
    {
     "name": "stdout",
     "output_type": "stream",
     "text": [
      "2025-01-17 12:45:47,865 INFO Finished job - calculate_qe (e9b6361d-0b18-4c6c-88f3-e247a0659e34)\n",
      "2025-01-17 12:45:47,866 INFO Starting job - generate_structures (db93730a-db3f-4d00-8ec9-2f7111f4245e)\n",
      "2025-01-17 12:45:47,873 INFO Finished job - generate_structures (db93730a-db3f-4d00-8ec9-2f7111f4245e)\n",
      "2025-01-17 12:45:47,873 INFO Starting job - calculate_qe (1ad51625-8409-4820-bf12-6ffda8cb9e8a)\n",
      "2025-01-17 12:45:50,873 INFO Finished job - calculate_qe (1ad51625-8409-4820-bf12-6ffda8cb9e8a)\n",
      "2025-01-17 12:45:50,874 INFO Starting job - calculate_qe (5d22fd8f-62b6-4aa6-bc57-baacd91750cb)\n"
     ]
    },
    {
     "name": "stderr",
     "output_type": "stream",
     "text": [
      "Note: The following floating-point exceptions are signalling: IEEE_INVALID_FLAG\n",
      "Note: The following floating-point exceptions are signalling: IEEE_INVALID_FLAG\n"
     ]
    },
    {
     "name": "stdout",
     "output_type": "stream",
     "text": [
      "2025-01-17 12:45:54,119 INFO Finished job - calculate_qe (5d22fd8f-62b6-4aa6-bc57-baacd91750cb)\n",
      "2025-01-17 12:45:54,120 INFO Starting job - calculate_qe (3a3b9a2a-5f77-4182-a402-0452c7d99269)\n",
      "2025-01-17 12:45:57,541 INFO Finished job - calculate_qe (3a3b9a2a-5f77-4182-a402-0452c7d99269)\n",
      "2025-01-17 12:45:57,542 INFO Starting job - calculate_qe (cb06da66-213b-4df3-81a7-6ba7a117efda)\n"
     ]
    },
    {
     "name": "stderr",
     "output_type": "stream",
     "text": [
      "Note: The following floating-point exceptions are signalling: IEEE_INVALID_FLAG\n"
     ]
    },
    {
     "name": "stdout",
     "output_type": "stream",
     "text": [
      "2025-01-17 12:46:01,329 INFO Finished job - calculate_qe (cb06da66-213b-4df3-81a7-6ba7a117efda)\n",
      "2025-01-17 12:46:01,330 INFO Starting job - calculate_qe (c2b91326-cc79-4251-b468-b6b14b45ed07)\n"
     ]
    },
    {
     "name": "stderr",
     "output_type": "stream",
     "text": [
      "Note: The following floating-point exceptions are signalling: IEEE_INVALID_FLAG\n"
     ]
    },
    {
     "name": "stdout",
     "output_type": "stream",
     "text": [
      "2025-01-17 12:46:05,185 INFO Finished job - calculate_qe (c2b91326-cc79-4251-b468-b6b14b45ed07)\n",
      "2025-01-17 12:46:05,185 INFO Starting job - plot_energy_volume_curve (385493c9-e2fe-4237-9b33-ca3bb3481e75)\n"
     ]
    },
    {
     "name": "stderr",
     "output_type": "stream",
     "text": [
      "Note: The following floating-point exceptions are signalling: IEEE_INVALID_FLAG\n"
     ]
    },
    {
     "name": "stdout",
     "output_type": "stream",
     "text": [
      "2025-01-17 12:46:05,277 INFO Finished job - plot_energy_volume_curve (385493c9-e2fe-4237-9b33-ca3bb3481e75)\n",
      "2025-01-17 12:46:05,278 INFO Finished executing jobs locally\n"
     ]
    },
    {
     "data": {
      "text/plain": [
       "{'e556acdb-0504-4ee8-9230-556b6204d556': {1: Response(output={'numbers': array([13, 13, 13, 13]), 'positions': array([[0.   , 0.   , 0.   ],\n",
       "         [0.   , 2.025, 2.025],\n",
       "         [2.025, 0.   , 2.025],\n",
       "         [2.025, 2.025, 0.   ]]), 'cell': array([[4.05, 0.  , 0.  ],\n",
       "         [0.  , 4.05, 0.  ],\n",
       "         [0.  , 0.  , 4.05]]), 'pbc': array([ True,  True,  True])}, detour=None, addition=None, replace=None, stored_data=None, stop_children=False, stop_jobflow=False, job_dir=PosixPath('/home/janssen/notebooks/2025/2025-01-16-jobflow-qe'))},\n",
       " 'e9b6361d-0b18-4c6c-88f3-e247a0659e34': {1: Response(output={'structure': {'numbers': array([13, 13, 13, 13]), 'positions': array([[0.        , 0.        , 0.        ],\n",
       "         [0.        , 2.02281861, 2.02281861],\n",
       "         [2.02281861, 0.        , 2.02281861],\n",
       "         [2.02281861, 2.02281861, 0.        ]]), 'cell': array([[4.04563722, 0.        , 0.        ],\n",
       "         [0.        , 4.04563722, 0.        ],\n",
       "         [0.        , 0.        , 4.04563722]]), 'pbc': array([ True,  True,  True])}, 'energy': -1074.9365262253532, 'volume': 66.21567448236306}, detour=None, addition=None, replace=None, stored_data=None, stop_children=False, stop_jobflow=False, job_dir=PosixPath('/home/janssen/notebooks/2025/2025-01-16-jobflow-qe'))},\n",
       " 'db93730a-db3f-4d00-8ec9-2f7111f4245e': {1: Response(output={'0': {'numbers': array([13, 13, 13, 13]), 'positions': array([[0.        , 0.        , 0.        ],\n",
       "         [0.        , 1.95300989, 1.95300989],\n",
       "         [1.95300989, 0.        , 1.95300989],\n",
       "         [1.95300989, 1.95300989, 0.        ]]), 'cell': array([[3.90601979, 0.        , 0.        ],\n",
       "         [0.        , 3.90601979, 0.        ],\n",
       "         [0.        , 0.        , 3.90601979]]), 'pbc': array([ True,  True,  True])}, '1': {'numbers': array([13, 13, 13, 13]), 'positions': array([[0.        , 0.        , 0.        ],\n",
       "         [0.        , 1.98852692, 1.98852692],\n",
       "         [1.98852692, 0.        , 1.98852692],\n",
       "         [1.98852692, 1.98852692, 0.        ]]), 'cell': array([[3.97705384, 0.        , 0.        ],\n",
       "         [0.        , 3.97705384, 0.        ],\n",
       "         [0.        , 0.        , 3.97705384]]), 'pbc': array([ True,  True,  True])}, '2': {'numbers': array([13, 13, 13, 13]), 'positions': array([[0.        , 0.        , 0.        ],\n",
       "         [0.        , 2.02281861, 2.02281861],\n",
       "         [2.02281861, 0.        , 2.02281861],\n",
       "         [2.02281861, 2.02281861, 0.        ]]), 'cell': array([[4.04563722, 0.        , 0.        ],\n",
       "         [0.        , 4.04563722, 0.        ],\n",
       "         [0.        , 0.        , 4.04563722]]), 'pbc': array([ True,  True,  True])}, '3': {'numbers': array([13, 13, 13, 13]), 'positions': array([[0.        , 0.        , 0.        ],\n",
       "         [0.        , 2.05598546, 2.05598546],\n",
       "         [2.05598546, 0.        , 2.05598546],\n",
       "         [2.05598546, 2.05598546, 0.        ]]), 'cell': array([[4.11197093, 0.        , 0.        ],\n",
       "         [0.        , 4.11197093, 0.        ],\n",
       "         [0.        , 0.        , 4.11197093]]), 'pbc': array([ True,  True,  True])}, '4': {'numbers': array([13, 13, 13, 13]), 'positions': array([[0.        , 0.        , 0.        ],\n",
       "         [0.        , 2.08811543, 2.08811543],\n",
       "         [2.08811543, 0.        , 2.08811543],\n",
       "         [2.08811543, 2.08811543, 0.        ]]), 'cell': array([[4.17623085, 0.        , 0.        ],\n",
       "         [0.        , 4.17623085, 0.        ],\n",
       "         [0.        , 0.        , 4.17623085]]), 'pbc': array([ True,  True,  True])}}, detour=None, addition=None, replace=None, stored_data=None, stop_children=False, stop_jobflow=False, job_dir=PosixPath('/home/janssen/notebooks/2025/2025-01-16-jobflow-qe'))},\n",
       " '1ad51625-8409-4820-bf12-6ffda8cb9e8a': {1: Response(output={'structure': {'numbers': array([13, 13, 13, 13]), 'positions': array([[0.        , 0.        , 0.        ],\n",
       "         [0.        , 1.95300988, 1.95300988],\n",
       "         [1.95300988, 0.        , 1.95300988],\n",
       "         [1.95300988, 1.95300988, 0.        ]]), 'cell': array([[3.90601977, 0.        , 0.        ],\n",
       "         [0.        , 3.90601977, 0.        ],\n",
       "         [0.        , 0.        , 3.90601977]]), 'pbc': array([ True,  True,  True])}, 'energy': -1074.8457446142895, 'volume': 59.59410625268055}, detour=None, addition=None, replace=None, stored_data=None, stop_children=False, stop_jobflow=False, job_dir=PosixPath('/home/janssen/notebooks/2025/2025-01-16-jobflow-qe'))},\n",
       " '5d22fd8f-62b6-4aa6-bc57-baacd91750cb': {1: Response(output={'structure': {'numbers': array([13, 13, 13, 13]), 'positions': array([[0.        , 0.        , 0.        ],\n",
       "         [0.        , 1.98852691, 1.98852691],\n",
       "         [1.98852691, 0.        , 1.98852691],\n",
       "         [1.98852691, 1.98852691, 0.        ]]), 'cell': array([[3.97705383, 0.        , 0.        ],\n",
       "         [0.        , 3.97705383, 0.        ],\n",
       "         [0.        , 0.        , 3.97705383]]), 'pbc': array([ True,  True,  True])}, 'energy': -1074.9161488594605, 'volume': 62.90488993338502}, detour=None, addition=None, replace=None, stored_data=None, stop_children=False, stop_jobflow=False, job_dir=PosixPath('/home/janssen/notebooks/2025/2025-01-16-jobflow-qe'))},\n",
       " '3a3b9a2a-5f77-4182-a402-0452c7d99269': {1: Response(output={'structure': {'numbers': array([13, 13, 13, 13]), 'positions': array([[0.       , 0.       , 0.       ],\n",
       "         [0.       , 2.0228186, 2.0228186],\n",
       "         [2.0228186, 0.       , 2.0228186],\n",
       "         [2.0228186, 2.0228186, 0.       ]]), 'cell': array([[4.0456372, 0.       , 0.       ],\n",
       "         [0.       , 4.0456372, 0.       ],\n",
       "         [0.       , 0.       , 4.0456372]]), 'pbc': array([ True,  True,  True])}, 'energy': -1074.9365241668347, 'volume': 66.21567361408935}, detour=None, addition=None, replace=None, stored_data=None, stop_children=False, stop_jobflow=False, job_dir=PosixPath('/home/janssen/notebooks/2025/2025-01-16-jobflow-qe'))},\n",
       " 'cb06da66-213b-4df3-81a7-6ba7a117efda': {1: Response(output={'structure': {'numbers': array([13, 13, 13, 13]), 'positions': array([[0.        , 0.        , 0.        ],\n",
       "         [0.        , 2.05598545, 2.05598545],\n",
       "         [2.05598545, 0.        , 2.05598545],\n",
       "         [2.05598545, 2.05598545, 0.        ]]), 'cell': array([[4.11197091, 0.        , 0.        ],\n",
       "         [0.        , 4.11197091, 0.        ],\n",
       "         [0.        , 0.        , 4.11197091]]), 'pbc': array([ True,  True,  True])}, 'energy': -1074.9192860025823, 'volume': 69.52645729479414}, detour=None, addition=None, replace=None, stored_data=None, stop_children=False, stop_jobflow=False, job_dir=PosixPath('/home/janssen/notebooks/2025/2025-01-16-jobflow-qe'))},\n",
       " 'c2b91326-cc79-4251-b468-b6b14b45ed07': {1: Response(output={'structure': {'numbers': array([13, 13, 13, 13]), 'positions': array([[0.        , 0.        , 0.        ],\n",
       "         [0.        , 2.08811542, 2.08811542],\n",
       "         [2.08811542, 0.        , 2.08811542],\n",
       "         [2.08811542, 2.08811542, 0.        ]]), 'cell': array([[4.17623083, 0.        , 0.        ],\n",
       "         [0.        , 4.17623083, 0.        ],\n",
       "         [0.        , 0.        , 4.17623083]]), 'pbc': array([ True,  True,  True])}, 'energy': -1074.8737904693435, 'volume': 72.83724097549829}, detour=None, addition=None, replace=None, stored_data=None, stop_children=False, stop_jobflow=False, job_dir=PosixPath('/home/janssen/notebooks/2025/2025-01-16-jobflow-qe'))},\n",
       " '385493c9-e2fe-4237-9b33-ca3bb3481e75': {1: Response(output=None, detour=None, addition=None, replace=None, stored_data=None, stop_children=False, stop_jobflow=False, job_dir=PosixPath('/home/janssen/notebooks/2025/2025-01-16-jobflow-qe'))}}"
      ]
     },
     "execution_count": 29,
     "metadata": {},
     "output_type": "execute_result"
    },
    {
     "data": {
      "image/png": "[encoded data removed]",
      "text/plain": [
       "<Figure size 640x480 with 1 Axes>"
      ]
     },
     "metadata": {},
     "output_type": "display_data"
    }
   ],
   "source": [
    "result = run_locally(flow)\n",
    "result"
   ]
  }
 ],
 "metadata": {
  "kernelspec": {
   "display_name": "Python 3 (ipykernel)",
   "language": "python",
   "name": "python3"
  },
  "language_info": {
   "codemirror_mode": {
    "name": "ipython",
    "version": 3
   },
   "file_extension": ".py",
   "mimetype": "text/x-python",
   "name": "python",
   "nbconvert_exporter": "python",
   "pygments_lexer": "ipython3",
   "version": "3.12.5"
  }
 },
 "nbformat": 4,
 "nbformat_minor": 5
}
