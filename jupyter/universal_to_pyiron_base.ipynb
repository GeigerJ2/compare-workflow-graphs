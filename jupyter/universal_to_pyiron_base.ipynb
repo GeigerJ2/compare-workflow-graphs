{
 "cells": [
  {
   "cell_type": "code",
   "execution_count": 1,
   "id": "4c305906-fc21-4bbd-82cd-19cb121831d1",
   "metadata": {},
   "outputs": [],
   "source": [
    "from pyiron_base import Project, job\n",
    "from pyiron_base.project.delayed import DelayedObject"
   ]
  },
  {
   "cell_type": "code",
   "execution_count": 2,
   "id": "1bf420a3-93ac-4254-b31b-53c599dee05f",
   "metadata": {},
   "outputs": [],
   "source": [
    "from inspect import isfunction"
   ]
  },
  {
   "cell_type": "code",
   "execution_count": 3,
   "id": "7b5ab59c-c682-40db-acbc-ee77bc8af586",
   "metadata": {},
   "outputs": [],
   "source": [
    "def get_kwargs(lst):\n",
    "    return {t['targetHandle']: {'source': t['source'], 'sourceHandle': t['sourceHandle']} for t in lst}"
   ]
  },
  {
   "cell_type": "code",
   "execution_count": 4,
   "id": "76e3033e-43d7-46c9-a2d8-c7011948c72d",
   "metadata": {},
   "outputs": [],
   "source": [
    "def group_edges(edges_lst):\n",
    "    edges_sorted_lst = sorted(edges_lst, key=lambda x: x['target'], reverse=True)     \n",
    "    total_lst, tmp_lst = [], []\n",
    "    target_id = edges_sorted_lst[0]['target'] \n",
    "    for ed in edges_sorted_lst:\n",
    "        if target_id == ed[\"target\"]:\n",
    "            tmp_lst.append(ed)\n",
    "        else:\n",
    "            total_lst.append((target_id, get_kwargs(lst=tmp_lst)))\n",
    "            target_id = ed[\"target\"]\n",
    "            tmp_lst = [ed]\n",
    "    total_lst.append((target_id, get_kwargs(lst=tmp_lst)))\n",
    "    return total_lst"
   ]
  },
  {
   "cell_type": "code",
   "execution_count": 5,
   "id": "1e4295bb-df97-406a-91c4-363bd2140750",
   "metadata": {},
   "outputs": [],
   "source": [
    "def get_source_handles(edges_lst):\n",
    "    source_handle_dict = {}\n",
    "    for ed in edges_lst: \n",
    "        if ed['source'] not in source_handle_dict.keys():\n",
    "            source_handle_dict[ed['source']] = [ed['sourceHandle']]\n",
    "        else:\n",
    "            source_handle_dict[ed['source']].append(ed['sourceHandle'])\n",
    "    return source_handle_dict"
   ]
  },
  {
   "cell_type": "code",
   "execution_count": 6,
   "id": "83d83b78-c1fd-42fa-91cb-5b79bbb4a08e",
   "metadata": {},
   "outputs": [],
   "source": [
    "def get_source(nodes_dict, delayed_object_dict, source, sourceHandle):\n",
    "    if source in delayed_object_dict.keys():\n",
    "        return delayed_object_dict[source].__getattr__(\"output\").__getattr__(sourceHandle)\n",
    "    else:\n",
    "        return nodes_dict[source]"
   ]
  },
  {
   "cell_type": "code",
   "execution_count": 7,
   "id": "4bc5a391-44fe-44a6-8fd0-d33b7ace029c",
   "metadata": {},
   "outputs": [],
   "source": [
    "def get_delayed_object_dict(total_lst, nodes_dict, source_handle_dict, pyiron_project):\n",
    "    delayed_object_dict = {}\n",
    "    for item in total_lst: \n",
    "        key, input_dict = item\n",
    "        kwargs = {\n",
    "            k: get_source(\n",
    "                nodes_dict=nodes_dict, \n",
    "                delayed_object_dict=delayed_object_dict, \n",
    "                source=v[\"source\"], \n",
    "                sourceHandle=v[\"sourceHandle\"],\n",
    "            ) \n",
    "            for k, v in input_dict.items()\n",
    "        }\n",
    "        delayed_object_dict[key] = job(\n",
    "            funct=nodes_dict[key],\n",
    "            output_key_lst=source_handle_dict.get(key, []),\n",
    "        )(**kwargs, pyiron_project=pyiron_project)\n",
    "    return delayed_object_dict"
   ]
  },
  {
   "cell_type": "code",
   "execution_count": 8,
   "id": "2b48f513-d50f-4f10-9b36-0419eba4eeb7",
   "metadata": {},
   "outputs": [],
   "source": [
    "def add_x_and_y(x, y):\n",
    "    z = x + y\n",
    "    return {\"x\": x, \"y\": y, \"z\": z}"
   ]
  },
  {
   "cell_type": "code",
   "execution_count": 9,
   "id": "f92854ad-07ed-4636-ace9-007174d963f0",
   "metadata": {},
   "outputs": [],
   "source": [
    "def add_x_and_y_and_z(x, y, z):\n",
    "    w = x + y + z\n",
    "    return w"
   ]
  },
  {
   "cell_type": "code",
   "execution_count": 10,
   "id": "698930d6-0835-45a7-9119-7a4c972b9a19",
   "metadata": {},
   "outputs": [],
   "source": [
    "nodes_dict = {\n",
    "    0: add_x_and_y_and_z,\n",
    "    1: add_x_and_y,\n",
    "    2: 1,\n",
    "    3: 2,\n",
    "}"
   ]
  },
  {
   "cell_type": "code",
   "execution_count": 11,
   "id": "83629d80-5e1b-449c-862c-bad3c90d6121",
   "metadata": {},
   "outputs": [],
   "source": [
    "edges_lst = [\n",
    "    {'target': 0, 'targetHandle': 'x', 'source': 1, 'sourceHandle': 'x'},\n",
    "    {'target': 1, 'targetHandle': 'x', 'source': 2, 'sourceHandle': None},\n",
    "    {'target': 1, 'targetHandle': 'y', 'source': 3, 'sourceHandle': None},\n",
    "    {'target': 0, 'targetHandle': 'y', 'source': 1, 'sourceHandle': 'y'},\n",
    "    {'target': 0, 'targetHandle': 'z', 'source': 1, 'sourceHandle': 'z'},\n",
    "]"
   ]
  },
  {
   "cell_type": "code",
   "execution_count": 12,
   "id": "75136b08-7003-43ca-a0e5-3f1c09b09b32",
   "metadata": {},
   "outputs": [
    {
     "data": {
      "text/plain": [
       "({0: <function __main__.add_x_and_y_and_z(x, y, z)>,\n",
       "  1: <function __main__.add_x_and_y(x, y)>,\n",
       "  2: 1,\n",
       "  3: 2},\n",
       " [{'target': 0, 'targetHandle': 'x', 'source': 1, 'sourceHandle': 'x'},\n",
       "  {'target': 1, 'targetHandle': 'x', 'source': 2, 'sourceHandle': None},\n",
       "  {'target': 1, 'targetHandle': 'y', 'source': 3, 'sourceHandle': None},\n",
       "  {'target': 0, 'targetHandle': 'y', 'source': 1, 'sourceHandle': 'y'},\n",
       "  {'target': 0, 'targetHandle': 'z', 'source': 1, 'sourceHandle': 'z'}])"
      ]
     },
     "execution_count": 12,
     "metadata": {},
     "output_type": "execute_result"
    }
   ],
   "source": [
    "nodes_dict, edges_lst"
   ]
  },
  {
   "cell_type": "code",
   "execution_count": 13,
   "id": "a5cda981-3ca3-4a6e-912d-8402f7f3c8f5",
   "metadata": {},
   "outputs": [],
   "source": [
    "pr = Project(\"test\")"
   ]
  },
  {
   "cell_type": "code",
   "execution_count": 14,
   "id": "f4581e8e-d2e1-438a-abec-3fcbe79dbf9f",
   "metadata": {},
   "outputs": [
    {
     "data": {
      "application/vnd.jupyter.widget-view+json": {
       "model_id": "edeb83e1d0bd43f4b8c29f56fe26e788",
       "version_major": 2,
       "version_minor": 0
      },
      "text/plain": [
       "0it [00:00, ?it/s]"
      ]
     },
     "metadata": {},
     "output_type": "display_data"
    }
   ],
   "source": [
    "pr.remove_jobs(recursive=True, silently=True)"
   ]
  },
  {
   "cell_type": "code",
   "execution_count": 15,
   "id": "4c0bf692-68b4-4fc8-8b77-d70f64b9fac2",
   "metadata": {},
   "outputs": [
    {
     "data": {
      "text/plain": [
       "{1: <pyiron_base.project.delayed.DelayedObject at 0x13f284c20>,\n",
       " 0: <pyiron_base.project.delayed.DelayedObject at 0x13f284ef0>}"
      ]
     },
     "execution_count": 15,
     "metadata": {},
     "output_type": "execute_result"
    }
   ],
   "source": [
    "delayed_object_dict = get_delayed_object_dict(\n",
    "    total_lst=group_edges(edges_lst), \n",
    "    nodes_dict=nodes_dict, \n",
    "    source_handle_dict=get_source_handles(edges_lst), \n",
    "    pyiron_project=pr\n",
    ")\n",
    "delayed_object_dict"
   ]
  },
  {
   "cell_type": "code",
   "execution_count": 16,
   "id": "12630a65-51d9-4000-bfa8-b1753d620424",
   "metadata": {},
   "outputs": [
    {
     "name": "stdout",
     "output_type": "stream",
     "text": [
      "The job add_x_and_y_1a46b923e8b2e71cc1b60655a4852ea7 was saved and received the ID: 14\n",
      "The job add_x_and_y_and_z_b303b96668df411d6b51eb1d5f1eeb18 was saved and received the ID: 15\n"
     ]
    },
    {
     "data": {
      "text/plain": [
       "6"
      ]
     },
     "execution_count": 16,
     "metadata": {},
     "output_type": "execute_result"
    }
   ],
   "source": [
    "delayed_object_dict[list(delayed_object_dict.keys())[-1]].pull()"
   ]
  },
  {
   "cell_type": "code",
   "execution_count": 17,
   "id": "aa78c70f-90f3-4fbb-816d-58534766aeac",
   "metadata": {},
   "outputs": [
    {
     "data": {
      "text/html": [
       "<div>\n",
       "<style scoped>\n",
       "    .dataframe tbody tr th:only-of-type {\n",
       "        vertical-align: middle;\n",
       "    }\n",
       "\n",
       "    .dataframe tbody tr th {\n",
       "        vertical-align: top;\n",
       "    }\n",
       "\n",
       "    .dataframe thead th {\n",
       "        text-align: right;\n",
       "    }\n",
       "</style>\n",
       "<table border=\"1\" class=\"dataframe\">\n",
       "  <thead>\n",
       "    <tr style=\"text-align: right;\">\n",
       "      <th></th>\n",
       "      <th>id</th>\n",
       "      <th>status</th>\n",
       "      <th>chemicalformula</th>\n",
       "      <th>job</th>\n",
       "      <th>subjob</th>\n",
       "      <th>projectpath</th>\n",
       "      <th>project</th>\n",
       "      <th>timestart</th>\n",
       "      <th>timestop</th>\n",
       "      <th>totalcputime</th>\n",
       "      <th>computer</th>\n",
       "      <th>hamilton</th>\n",
       "      <th>hamversion</th>\n",
       "      <th>parentid</th>\n",
       "      <th>masterid</th>\n",
       "    </tr>\n",
       "  </thead>\n",
       "  <tbody>\n",
       "    <tr>\n",
       "      <th>0</th>\n",
       "      <td>14</td>\n",
       "      <td>finished</td>\n",
       "      <td>None</td>\n",
       "      <td>add_x_and_y_1a46b923e8b2e71cc1b60655a4852ea7</td>\n",
       "      <td>/add_x_and_y_1a46b923e8b2e71cc1b60655a4852ea7</td>\n",
       "      <td>None</td>\n",
       "      <td>/Users/janssen/notebooks/2024/2024-11-21-python-workflow-definition/test/</td>\n",
       "      <td>2024-11-21 17:02:42.449017</td>\n",
       "      <td>None</td>\n",
       "      <td>None</td>\n",
       "      <td>pyiron@mac.mpie.de#1</td>\n",
       "      <td>PythonFunctionContainerJob</td>\n",
       "      <td>0.4</td>\n",
       "      <td>None</td>\n",
       "      <td>None</td>\n",
       "    </tr>\n",
       "    <tr>\n",
       "      <th>1</th>\n",
       "      <td>15</td>\n",
       "      <td>finished</td>\n",
       "      <td>None</td>\n",
       "      <td>add_x_and_y_and_z_b303b96668df411d6b51eb1d5f1eeb18</td>\n",
       "      <td>/add_x_and_y_and_z_b303b96668df411d6b51eb1d5f1eeb18</td>\n",
       "      <td>None</td>\n",
       "      <td>/Users/janssen/notebooks/2024/2024-11-21-python-workflow-definition/test/</td>\n",
       "      <td>2024-11-21 17:02:42.570598</td>\n",
       "      <td>None</td>\n",
       "      <td>None</td>\n",
       "      <td>pyiron@mac.mpie.de#1</td>\n",
       "      <td>PythonFunctionContainerJob</td>\n",
       "      <td>0.4</td>\n",
       "      <td>None</td>\n",
       "      <td>None</td>\n",
       "    </tr>\n",
       "  </tbody>\n",
       "</table>\n",
       "</div>"
      ],
      "text/plain": [
       "   id    status chemicalformula  \\\n",
       "0  14  finished            None   \n",
       "1  15  finished            None   \n",
       "\n",
       "                                                  job  \\\n",
       "0        add_x_and_y_1a46b923e8b2e71cc1b60655a4852ea7   \n",
       "1  add_x_and_y_and_z_b303b96668df411d6b51eb1d5f1eeb18   \n",
       "\n",
       "                                                subjob projectpath  \\\n",
       "0        /add_x_and_y_1a46b923e8b2e71cc1b60655a4852ea7        None   \n",
       "1  /add_x_and_y_and_z_b303b96668df411d6b51eb1d5f1eeb18        None   \n",
       "\n",
       "                                                                     project  \\\n",
       "0  /Users/janssen/notebooks/2024/2024-11-21-python-workflow-definition/test/   \n",
       "1  /Users/janssen/notebooks/2024/2024-11-21-python-workflow-definition/test/   \n",
       "\n",
       "                   timestart timestop totalcputime              computer  \\\n",
       "0 2024-11-21 17:02:42.449017     None         None  pyiron@mac.mpie.de#1   \n",
       "1 2024-11-21 17:02:42.570598     None         None  pyiron@mac.mpie.de#1   \n",
       "\n",
       "                     hamilton hamversion parentid masterid  \n",
       "0  PythonFunctionContainerJob        0.4     None     None  \n",
       "1  PythonFunctionContainerJob        0.4     None     None  "
      ]
     },
     "execution_count": 17,
     "metadata": {},
     "output_type": "execute_result"
    }
   ],
   "source": [
    "pr.job_table()"
   ]
  },
  {
   "cell_type": "code",
   "execution_count": null,
   "id": "36a1e924-32a0-4003-9cb9-ed8f99464c3e",
   "metadata": {},
   "outputs": [],
   "source": []
  }
 ],
 "metadata": {
  "kernelspec": {
   "display_name": "Python 3 (ipykernel)",
   "language": "python",
   "name": "python3"
  },
  "language_info": {
   "codemirror_mode": {
    "name": "ipython",
    "version": 3
   },
   "file_extension": ".py",
   "mimetype": "text/x-python",
   "name": "python",
   "nbconvert_exporter": "python",
   "pygments_lexer": "ipython3",
   "version": "3.12.5"
  }
 },
 "nbformat": 4,
 "nbformat_minor": 5
}
