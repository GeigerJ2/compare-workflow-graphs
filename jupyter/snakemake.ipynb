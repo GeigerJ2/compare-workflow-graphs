{
 "cells": [
  {
   "cell_type": "code",
   "execution_count": 1,
   "id": "a5ea18aa-8158-445f-9e3a-a13f3c58a7a8",
   "metadata": {},
   "outputs": [],
   "source": [
    "import os"
   ]
  },
  {
   "cell_type": "code",
   "execution_count": 2,
   "id": "20616e47-03b0-44bd-967e-cfb21f0c4d55",
   "metadata": {},
   "outputs": [],
   "source": [
    "import shutil"
   ]
  },
  {
   "cell_type": "code",
   "execution_count": 3,
   "id": "017990bb-627e-4833-af20-f42c0394a3ed",
   "metadata": {},
   "outputs": [],
   "source": [
    "import subprocess"
   ]
  },
  {
   "cell_type": "code",
   "execution_count": 4,
   "id": "4a0d4f87-1f95-4480-9eaf-7ba009b2672f",
   "metadata": {},
   "outputs": [],
   "source": [
    "from snakemake.cli import (\n",
    "    parse_args, \n",
    "    args_to_api, \n",
    "    get_argument_parser, \n",
    "    _get_executor_plugin_registry, \n",
    "    _get_report_plugin_registry, \n",
    "    StoragePluginRegistry,\n",
    "    setup_log_handlers,\n",
    "    parse_edit_notebook,\n",
    "    parse_wait_for_files,\n",
    "    SnakemakeApi,\n",
    "    OutputSettings,\n",
    "    DAGSettings,\n",
    "    StorageSettings,\n",
    "    DeploymentMethod,\n",
    "    DeploymentSettings,\n",
    "    ResourceSettings,\n",
    "    ConfigSettings,\n",
    "    parse_config,\n",
    "    WorkflowSettings,\n",
    "    PreemptibleRules,\n",
    "    ExecutionSettings,\n",
    "    RemoteExecutionSettings,\n",
    "    SchedulingSettings,\n",
    "    GroupSettings,\n",
    ")"
   ]
  },
  {
   "cell_type": "code",
   "execution_count": 5,
   "id": "01063468-f541-47bf-bfe9-6eee1934cd3e",
   "metadata": {},
   "outputs": [],
   "source": [
    "config_yaml = \"\"\"\\\n",
    "x: 1\n",
    "y: 2\n",
    "\"\"\""
   ]
  },
  {
   "cell_type": "code",
   "execution_count": 6,
   "id": "7134c5bc-ef3d-4cee-ba8b-9a0176a2ac93",
   "metadata": {},
   "outputs": [],
   "source": [
    "snakefile = \"\"\"\\\n",
    "configfile: \"./config.yaml\"\n",
    "\n",
    "rule calculate_z:\n",
    "    output:\n",
    "        \"z.txt\"\n",
    "    shell:\n",
    "        \"echo $(({config[x]} + {config[y]})) > z.txt\"\n",
    "\n",
    "rule calculate_w:\n",
    "    input:\n",
    "        rules.calculate_z.output\n",
    "    output:\n",
    "        \"w.txt\"\n",
    "    shell:\n",
    "        \"z=$(cat {input}); echo $(({config[x]} + {config[y]} + $z)) > w.txt\"\n",
    "\"\"\""
   ]
  },
  {
   "cell_type": "code",
   "execution_count": 7,
   "id": "e5457083-5143-41d7-8c78-9e9f22040f66",
   "metadata": {},
   "outputs": [],
   "source": [
    "with open(\"config.yaml\", \"w\") as f:\n",
    "    f.writelines(config_yaml)"
   ]
  },
  {
   "cell_type": "code",
   "execution_count": 8,
   "id": "b2e386c6-9f5c-4092-bd73-28a75fb1d791",
   "metadata": {},
   "outputs": [],
   "source": [
    "with open(\"Snakefile\", \"w\") as f:\n",
    "    f.writelines(snakefile)"
   ]
  },
  {
   "cell_type": "code",
   "execution_count": 9,
   "id": "0c82ab73-0603-486f-99f1-af7954047c3c",
   "metadata": {},
   "outputs": [],
   "source": [
    "command_str = \"snakemake --cores 1 --configfile config.yaml Snakefile -n -p w.txt\""
   ]
  },
  {
   "cell_type": "code",
   "execution_count": 10,
   "id": "236b2fed-d412-4f0e-a90a-c554b8dcb062",
   "metadata": {},
   "outputs": [
    {
     "data": {
      "text/plain": [
       "['snakemake',\n",
       " '--cores',\n",
       " '1',\n",
       " '--configfile',\n",
       " 'config.yaml',\n",
       " 'Snakefile',\n",
       " '-n',\n",
       " '-p',\n",
       " 'w.txt']"
      ]
     },
     "execution_count": 10,
     "metadata": {},
     "output_type": "execute_result"
    }
   ],
   "source": [
    "command_str.split(\" \")"
   ]
  },
  {
   "cell_type": "code",
   "execution_count": 11,
   "id": "62d36ef6-7287-4a4b-a6e8-60c67987fdbf",
   "metadata": {},
   "outputs": [],
   "source": [
    "parser = get_argument_parser()\n",
    "args = parser.parse_args(command_str.split(\" \")[1:])"
   ]
  },
  {
   "cell_type": "code",
   "execution_count": 12,
   "id": "c5223821-5871-4c70-94c0-2c3fa99a2f79",
   "metadata": {},
   "outputs": [
    {
     "data": {
      "text/plain": [
       "Namespace(targets=['w.txt'], dryrun=True, profile=None, workflow_profile=None, cache=None, snakefile=None, cores=1, jobs=None, local_cores=4, resources={}, set_threads={}, max_threads=None, set_resources={}, set_scatter={}, set_resource_scopes={}, default_resources=None, preemptible_rules=None, preemptible_retries=None, configfile=[PosixPath('config.yaml'), PosixPath('Snakefile')], config=None, envvars=set(), directory=None, touch=False, keep_going=False, rerun_triggers=frozenset({<RerunTrigger.MTIME: 0>, <RerunTrigger.INPUT: 2>, <RerunTrigger.SOFTWARE_ENV: 3>, <RerunTrigger.PARAMS: 1>, <RerunTrigger.CODE: 4>}), force=False, executor=None, forceall=False, forcerun=set(), prioritize=set(), batch=None, until=set(), omit_from=set(), rerun_incomplete=False, shadow_prefix=None, scheduler='ilp', wms_monitor=None, wms_monitor_arg=None, scheduler_ilp_solver='COIN_CMD', scheduler_solver_path=None, conda_base_path=None, no_subworkflows=False, precommand=None, groups={}, group_components={}, report=None, report_stylesheet=None, reporter=None, draft_notebook=None, edit_notebook=None, notebook_listen='localhost:8888', lint=None, generate_unit_tests=None, containerize=False, export_cwl=None, list_rules=False, list_target_rules=False, dag=False, rulegraph=False, filegraph=False, d3dag=False, summary=False, detailed_summary=False, archive=None, cleanup_metadata=None, cleanup_shadow=False, skip_script_cleanup=False, unlock=False, list_changes=None, list_input_changes=False, list_params_changes=False, list_untracked=False, delete_all_output=False, delete_temp_output=False, keep_incomplete=False, drop_metadata=False, deploy_sources=None, printshellcmds=True, debug_dag=False, nocolor=False, quiet=None, print_compilation=False, verbose=False, force_use_threads=False, allow_ambiguity=False, nolock=False, ignore_incomplete=False, max_inventory_time=20, latency_wait=5, wait_for_files=None, wait_for_files_file=None, queue_input_wait_time=10, notemp=False, all_temp=False, unneeded_temp_files=frozenset(), keep_storage_local_copies=False, target_files_omit_workdir_adjustment=False, allowed_rules=None, target_jobs=set(), local_groupid='local', max_jobs_per_second=10, max_status_checks_per_second=10, seconds_between_status_checks=10, retries=0, attempt=1, wrapper_prefix='https://github.com/snakemake/snakemake-wrappers/raw/', default_storage_provider=None, default_storage_prefix='', local_storage_prefix=PosixPath('.snakemake/storage'), remote_job_local_storage_prefix=None, shared_fs_usage=frozenset({<SharedFSUsage.SOURCE_CACHE: 5>, <SharedFSUsage.STORAGE_LOCAL_COPIES: 4>, <SharedFSUsage.SOURCES: 3>, <SharedFSUsage.INPUT_OUTPUT: 1>, <SharedFSUsage.PERSISTENCE: 0>, <SharedFSUsage.SOFTWARE_DEPLOYMENT: 2>}), scheduler_greediness=None, no_hooks=False, debug=False, runtime_profile=None, mode=<ExecMode.DEFAULT: 0>, show_failed_logs=False, log_handler_script=None, log_service=None, job_deploy_sources=False, benchmark_extended=False, container_image='snakemake/snakemake:v8.14.0', immediate_submit=False, jobscript=None, jobname='snakejob.{name}.{jobid}.sh', flux=False, software_deployment_method=set(), container_cleanup_images=False, use_conda=False, conda_not_block_search_path_envvars=False, list_conda_envs=False, conda_prefix=None, conda_cleanup_envs=False, conda_cleanup_pkgs=None, conda_create_envs_only=False, conda_frontend='mamba', use_apptainer=False, apptainer_prefix=None, apptainer_args='', use_envmodules=False, report_html_path=<dataclasses._MISSING_TYPE object at 0x106e597d0>, report_html_stylesheet_path=<dataclasses._MISSING_TYPE object at 0x106e597d0>)"
      ]
     },
     "execution_count": 12,
     "metadata": {},
     "output_type": "execute_result"
    }
   ],
   "source": [
    "args"
   ]
  },
  {
   "cell_type": "code",
   "execution_count": 13,
   "id": "eb66bd17-2175-4505-81ec-2481c3eaedfa",
   "metadata": {},
   "outputs": [],
   "source": [
    "if args.dryrun:\n",
    "    args.executor = \"dryrun\"\n",
    "elif args.touch:\n",
    "    args.executor = \"touch\"\n",
    "elif args.executor is None:\n",
    "    args.executor = \"local\"\n",
    "\n",
    "if args.report:\n",
    "    args.reporter = \"html\"\n",
    "    args.report_html_path = args.report\n",
    "    args.report_html_stylesheet_path = args.report_stylesheet\n",
    "\n",
    "executor_plugin = _get_executor_plugin_registry().get_plugin(args.executor)\n",
    "executor_settings = executor_plugin.get_settings(args)\n"
   ]
  },
  {
   "cell_type": "code",
   "execution_count": 14,
   "id": "6a0d5246-92e1-4485-a5d5-9ce27ffb0212",
   "metadata": {},
   "outputs": [],
   "source": [
    "storage_provider_settings = {\n",
    "    name: StoragePluginRegistry().get_plugin(name).get_settings(args)\n",
    "    for name in StoragePluginRegistry().get_registered_plugins()\n",
    "}"
   ]
  },
  {
   "cell_type": "code",
   "execution_count": 15,
   "id": "14faf029-9a7b-42f6-9f28-46a005191251",
   "metadata": {},
   "outputs": [],
   "source": [
    "if args.reporter:\n",
    "    report_plugin = _get_report_plugin_registry().get_plugin(args.reporter)\n",
    "    report_settings = report_plugin.get_settings(args)\n",
    "else:\n",
    "    report_plugin = None\n",
    "    report_settings = None"
   ]
  },
  {
   "cell_type": "code",
   "execution_count": 16,
   "id": "63634c16-1b0f-457d-a275-1512e4b9ed20",
   "metadata": {},
   "outputs": [],
   "source": [
    "if args.cores is None:\n",
    "    if executor_plugin.common_settings.local_exec:\n",
    "        # use --jobs as an alias for --cores\n",
    "        args.cores = args.jobs\n",
    "        args.jobs = None\n",
    "    elif executor_plugin.common_settings.dryrun_exec:\n",
    "        args.cores = 1\n",
    "        args.jobs = None"
   ]
  },
  {
   "cell_type": "code",
   "execution_count": 17,
   "id": "f6500b67-77b6-424c-9015-ac6e0bde5e99",
   "metadata": {},
   "outputs": [],
   "source": [
    "# start profiler if requested\n",
    "if args.runtime_profile:\n",
    "    import yappi\n",
    "\n",
    "    yappi.start()"
   ]
  },
  {
   "cell_type": "code",
   "execution_count": 18,
   "id": "480833b8-35ab-45a2-98d6-8576fcb2b696",
   "metadata": {},
   "outputs": [],
   "source": [
    "log_handlers = setup_log_handlers(args, parser)\n",
    "edit_notebook = parse_edit_notebook(args)\n",
    "wait_for_files = parse_wait_for_files(args)"
   ]
  },
  {
   "cell_type": "code",
   "execution_count": 19,
   "id": "a93a8276-2753-44f7-b74e-a9fceac54e5a",
   "metadata": {},
   "outputs": [],
   "source": [
    "snakemake_api = SnakemakeApi(\n",
    "    OutputSettings(\n",
    "        printshellcmds=args.printshellcmds,\n",
    "        nocolor=args.nocolor,\n",
    "        quiet=args.quiet,\n",
    "        debug_dag=args.debug_dag,\n",
    "        verbose=args.verbose,\n",
    "        show_failed_logs=args.show_failed_logs,\n",
    "        log_handlers=log_handlers,\n",
    "        keep_logger=False,\n",
    "        stdout=args.dryrun,\n",
    "        benchmark_extended=args.benchmark_extended,\n",
    "    )\n",
    ") "
   ]
  },
  {
   "cell_type": "code",
   "execution_count": 20,
   "id": "8686c51c-5c03-4483-bced-db384d4ab18d",
   "metadata": {},
   "outputs": [],
   "source": [
    "deployment_method = args.software_deployment_method\n",
    "if args.use_conda:\n",
    "    deployment_method.add(DeploymentMethod.CONDA)\n",
    "if args.use_apptainer:\n",
    "    deployment_method.add(DeploymentMethod.APPTAINER)\n",
    "if args.use_envmodules:\n",
    "    deployment_method.add(DeploymentMethod.ENV_MODULES)\n"
   ]
  },
  {
   "cell_type": "code",
   "execution_count": 21,
   "id": "517041da-ea4c-43f6-a920-ee5f6cfee9d4",
   "metadata": {},
   "outputs": [],
   "source": [
    "storage_settings = StorageSettings(\n",
    "    default_storage_provider=args.default_storage_provider,\n",
    "    default_storage_prefix=args.default_storage_prefix,\n",
    "    local_storage_prefix=args.local_storage_prefix,\n",
    "    remote_job_local_storage_prefix=args.remote_job_local_storage_prefix,\n",
    "    shared_fs_usage=args.shared_fs_usage,\n",
    "    keep_storage_local=args.keep_storage_local_copies,\n",
    "    notemp=args.notemp,\n",
    "    all_temp=args.all_temp,\n",
    "    unneeded_temp_files=args.unneeded_temp_files,\n",
    ")\n"
   ]
  },
  {
   "cell_type": "code",
   "execution_count": 22,
   "id": "9840949e-3d3d-496c-a5a3-9a15b5ba3738",
   "metadata": {},
   "outputs": [
    {
     "data": {
      "text/plain": [
       "False"
      ]
     },
     "execution_count": 22,
     "metadata": {},
     "output_type": "execute_result"
    }
   ],
   "source": [
    "snakemake_api._is_in_context"
   ]
  },
  {
   "cell_type": "code",
   "execution_count": 23,
   "id": "d5a3868b-ced2-4217-ae2e-17836d8b3592",
   "metadata": {},
   "outputs": [],
   "source": [
    "snakemake_api._is_in_context = True"
   ]
  },
  {
   "cell_type": "code",
   "execution_count": 24,
   "id": "70c93455-b69f-4282-bf09-3d5e0ca5a040",
   "metadata": {},
   "outputs": [],
   "source": [
    "workflow_api = snakemake_api.workflow(\n",
    "    resource_settings=ResourceSettings(\n",
    "        cores=args.cores,\n",
    "        nodes=args.jobs,\n",
    "        local_cores=args.local_cores,\n",
    "        max_threads=args.max_threads,\n",
    "        resources=args.resources,\n",
    "        overwrite_threads=args.set_threads,\n",
    "        overwrite_scatter=args.set_scatter,\n",
    "        overwrite_resource_scopes=args.set_resource_scopes,\n",
    "        overwrite_resources=args.set_resources,\n",
    "        default_resources=args.default_resources,\n",
    "    ),\n",
    "    config_settings=ConfigSettings(\n",
    "        config=parse_config(args.config),\n",
    "        configfiles=args.configfile,\n",
    "        config_args=args.config,\n",
    "    ),\n",
    "    storage_settings=storage_settings,\n",
    "    storage_provider_settings=storage_provider_settings,\n",
    "    workflow_settings=WorkflowSettings(\n",
    "        wrapper_prefix=args.wrapper_prefix,\n",
    "        exec_mode=args.mode,\n",
    "        cache=args.cache,\n",
    "    ),\n",
    "    deployment_settings=DeploymentSettings(\n",
    "        deployment_method=deployment_method,\n",
    "        conda_prefix=args.conda_prefix,\n",
    "        conda_cleanup_pkgs=args.conda_cleanup_pkgs,\n",
    "        conda_base_path=args.conda_base_path,\n",
    "        conda_frontend=args.conda_frontend,\n",
    "        conda_not_block_search_path_envvars=args.conda_not_block_search_path_envvars,\n",
    "        apptainer_args=args.apptainer_args,\n",
    "        apptainer_prefix=args.apptainer_prefix,\n",
    "    ),\n",
    "    snakefile=args.snakefile,\n",
    "    workdir=args.directory,\n",
    ")"
   ]
  },
  {
   "cell_type": "code",
   "execution_count": 25,
   "id": "0e668ff1-c12a-4701-9658-825b558bc8ec",
   "metadata": {},
   "outputs": [
    {
     "name": "stdout",
     "output_type": "stream",
     "text": [
      "Config file ./config.yaml is extended by additional config specified via the command line.\n"
     ]
    }
   ],
   "source": [
    "dag = workflow_api.dag()"
   ]
  },
  {
   "cell_type": "code",
   "execution_count": 26,
   "id": "53495304-73b0-4408-b7d5-249eca22e243",
   "metadata": {},
   "outputs": [
    {
     "data": {
      "text/plain": [
       "{'x': 1,\n",
       " 'y': 2,\n",
       " 'configfile': './config.yaml',\n",
       " 'rule calculate_z': {'output': 'z.txt',\n",
       "  'shell': 'echo $(({config[x]} + {config[y]})) > z.txt'},\n",
       " 'rule calculate_w': {'input': 'rules.calculate_z.output',\n",
       "  'output': 'w.txt',\n",
       "  'shell': 'z=$(cat {input}); echo $(({config[x]} + {config[y]} + $z)) > w.txt'}}"
      ]
     },
     "execution_count": 26,
     "metadata": {},
     "output_type": "execute_result"
    }
   ],
   "source": [
    "dag.workflow_api._workflow.config"
   ]
  },
  {
   "cell_type": "code",
   "execution_count": null,
   "id": "8c72cd43-eb33-449e-ac55-cbbe473d01a5",
   "metadata": {},
   "outputs": [],
   "source": []
  }
 ],
 "metadata": {
  "kernelspec": {
   "display_name": "Python 3 (ipykernel)",
   "language": "python",
   "name": "python3"
  },
  "language_info": {
   "codemirror_mode": {
    "name": "ipython",
    "version": 3
   },
   "file_extension": ".py",
   "mimetype": "text/x-python",
   "name": "python",
   "nbconvert_exporter": "python",
   "pygments_lexer": "ipython3",
   "version": "3.11.8"
  }
 },
 "nbformat": 4,
 "nbformat_minor": 5
}
