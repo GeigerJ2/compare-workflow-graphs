{
 "cells": [
  {
   "cell_type": "code",
   "execution_count": 1,
   "id": "52c8e7a0-d839-491f-af6a-a04ccdea13d4",
   "metadata": {},
   "outputs": [],
   "source": [
    "from aiida import load_profile\n",
    "from aiida.orm import Int\n",
    "from aiida_workgraph import task, WorkGraph"
   ]
  },
  {
   "cell_type": "code",
   "execution_count": 2,
   "id": "1497ca64-b809-4e5a-b2f8-079329e402a2",
   "metadata": {},
   "outputs": [],
   "source": [
    "import os\n",
    "import subprocess\n",
    "import matplotlib.pyplot as plt\n",
    "import numpy as np\n",
    "from ase.build import bulk\n",
    "from ase.io import write\n",
    "from ase.atoms import Atoms\n",
    "from adis_tools.parsers import parse_pw"
   ]
  },
  {
   "cell_type": "code",
   "execution_count": 3,
   "id": "045cf154-7c18-4e6f-80c1-d3a0dcc3b347",
   "metadata": {},
   "outputs": [],
   "source": [
    "from pickle import loads"
   ]
  },
  {
   "cell_type": "code",
   "execution_count": 4,
   "id": "06e451f2-a196-4817-91e5-938e35327ffe",
   "metadata": {},
   "outputs": [],
   "source": [
    "def write_input(input_dict, working_directory=\".\"):\n",
    "    filename = os.path.join(working_directory, \"input.pwi\")\n",
    "    os.makedirs(working_directory, exist_ok=True)\n",
    "    write(\n",
    "        filename=filename,\n",
    "        images=Atoms(**input_dict[\"structure\"]),\n",
    "        Crystal=True,\n",
    "        kpts=input_dict[\"kpts\"],\n",
    "        input_data={\n",
    "            \"calculation\": input_dict[\"calculation\"],\n",
    "            \"occupations\": \"smearing\",\n",
    "            \"degauss\": input_dict[\"smearing\"],\n",
    "        },\n",
    "        pseudopotentials=input_dict[\"pseudopotentials\"],\n",
    "        tstress=True,\n",
    "        tprnfor=True,\n",
    "    )"
   ]
  },
  {
   "cell_type": "code",
   "execution_count": 5,
   "id": "1e7c2fbe-ccd4-4eb0-8999-c2dc29bce52e",
   "metadata": {},
   "outputs": [],
   "source": [
    "def collect_output(working_directory=\".\"):\n",
    "    output = parse_pw(os.path.join(working_directory, \"pwscf.xml\"))\n",
    "    return {\n",
    "        \"structure\": output[\"ase_structure\"].todict(),\n",
    "        \"energy\": output[\"energy\"],\n",
    "        \"volume\": output[\"ase_structure\"].get_volume(),\n",
    "    }"
   ]
  },
  {
   "cell_type": "code",
   "execution_count": 6,
   "id": "08c4d22d-88cf-49ba-924c-ced1e79a66cd",
   "metadata": {},
   "outputs": [],
   "source": [
    "@task.calcfunction(outputs=[{\"name\": \"energy\"}, {\"name\": \"volume\"}, {\"name\": \"structure\"}])\n",
    "def calculate_qe(working_directory, input_dict):\n",
    "    write_input(\n",
    "        input_dict=input_dict,\n",
    "        working_directory=working_directory,\n",
    "    )\n",
    "    subprocess.check_output(\n",
    "        \"mpirun -np 1 pw.x -in input.pwi > output.pwo\",\n",
    "        cwd=working_directory,\n",
    "        shell=True,\n",
    "    )\n",
    "    return collect_output(working_directory=working_directory)"
   ]
  },
  {
   "cell_type": "code",
   "execution_count": 7,
   "id": "b82e1816-83a9-4ce3-9c2b-7e52ff18815b",
   "metadata": {},
   "outputs": [],
   "source": [
    "@task.calcfunction(outputs=[{\"name\": str(i)} for i in range(100)])  # maximum number of strains is currently 100 \n",
    "def generate_structures(structure, strain_lst):\n",
    "    structure_lst = []\n",
    "    for strain in strain_lst:\n",
    "        structure_strain = Atoms(**structure)\n",
    "        structure_strain.set_cell(\n",
    "            structure_strain.cell * strain ** (1 / 3), scale_atoms=True\n",
    "        )\n",
    "        structure_lst.append(structure_strain)\n",
    "    return {str(i): s.todict() for i, s in enumerate(structure_lst)}"
   ]
  },
  {
   "cell_type": "code",
   "execution_count": 8,
   "id": "90a498bc-f406-4ac1-88ec-d3e9d72a82a4",
   "metadata": {},
   "outputs": [],
   "source": [
    "@task.calcfunction()\n",
    "def plot_energy_volume_curve(volume_lst, energy_lst):\n",
    "    plt.plot(volume_lst, energy_lst)\n",
    "    plt.xlabel(\"Volume\")\n",
    "    plt.ylabel(\"Energy\")\n",
    "    plt.savefig(\"evcurve.png\")"
   ]
  },
  {
   "cell_type": "code",
   "execution_count": 9,
   "id": "9c0b8837-32ac-481e-a9b4-50046596ef11",
   "metadata": {},
   "outputs": [],
   "source": [
    "@task.calcfunction()\n",
    "def get_bulk_structure(element, a, cubic):\n",
    "    return bulk(\n",
    "        name=element,\n",
    "        a=a,\n",
    "        cubic=cubic,\n",
    "    ).todict()\n",
    "\n"
   ]
  },
  {
   "cell_type": "code",
   "execution_count": 10,
   "id": "762b88af-e5c6-422b-8cc5-461279c7265c",
   "metadata": {},
   "outputs": [],
   "source": [
    "pseudopotentials = {\"Al\": \"Al.pbe-n-kjpaw_psl.1.0.0.UPF\"}"
   ]
  },
  {
   "cell_type": "code",
   "execution_count": 11,
   "id": "fa23c35d-4bb8-4726-8c34-d020a87babac",
   "metadata": {},
   "outputs": [
    {
     "data": {
      "text/plain": [
       "Profile<uuid='7bb8761123324468bb98821cbb757251' name='presto'>"
      ]
     },
     "execution_count": 11,
     "metadata": {},
     "output_type": "execute_result"
    }
   ],
   "source": [
    "load_profile()"
   ]
  },
  {
   "cell_type": "code",
   "execution_count": 12,
   "id": "745d2cd4-06f9-4b56-9f08-ef22c181a0bf",
   "metadata": {},
   "outputs": [],
   "source": [
    "wg = WorkGraph(\"my_workflow\")"
   ]
  },
  {
   "cell_type": "code",
   "execution_count": 13,
   "id": "5dddb910-14ba-4851-b5f1-937d765fb9ff",
   "metadata": {},
   "outputs": [],
   "source": [
    "structure = wg.add_task(get_bulk_structure, name=\"get_bulk_structure\", element=\"Al\", a=4.05, cubic=True)"
   ]
  },
  {
   "cell_type": "code",
   "execution_count": 14,
   "id": "fa262ef9-8bbb-4f0c-9bc6-d7756f5b53a0",
   "metadata": {},
   "outputs": [],
   "source": [
    "calc_mini = wg.add_task(calculate_qe,\n",
    "    name=\"calculate_qe\",\n",
    "    working_directory=\"mini\",\n",
    "    input_dict={\n",
    "        \"structure\": structure.outputs.result,\n",
    "        \"pseudopotentials\": pseudopotentials,\n",
    "        \"kpts\": (3, 3, 3),\n",
    "        \"calculation\": \"vc-relax\",\n",
    "        \"smearing\": 0.02,\n",
    "    },\n",
    ")"
   ]
  },
  {
   "cell_type": "code",
   "execution_count": 15,
   "id": "19f7c074-2106-4f90-9a77-cc1b0644827d",
   "metadata": {},
   "outputs": [],
   "source": [
    "number_of_strains = 5\n",
    "structure_lst = wg.add_task(generate_structures,\n",
    "    name=\"generate_structures\",\n",
    "    structure=calc_mini.outputs.structure,\n",
    "    strain_lst=np.linspace(0.9, 1.1, number_of_strains),\n",
    ")"
   ]
  },
  {
   "cell_type": "code",
   "execution_count": 16,
   "id": "5bb094e8-0d46-473c-b6ed-100b30d00270",
   "metadata": {},
   "outputs": [],
   "source": [
    "job_strain_lst = []\n",
    "for i in range(number_of_strains):\n",
    "    calc_strain = wg.add_task(calculate_qe,\n",
    "        name=\"calculate_qe_\" + str(i),\n",
    "        working_directory=\"strain_\" + str(i),\n",
    "        input_dict={\n",
    "            \"structure\": getattr(structure_lst.outputs, str(i)),\n",
    "            \"pseudopotentials\": pseudopotentials,\n",
    "            \"kpts\": (3, 3, 3),\n",
    "            \"calculation\": \"scf\",\n",
    "            \"smearing\": 0.02,\n",
    "        },\n",
    "    )\n",
    "    job_strain_lst.append(calc_strain)"
   ]
  },
  {
   "cell_type": "code",
   "execution_count": 17,
   "id": "52424abe-0f87-4431-836e-a231077931b1",
   "metadata": {},
   "outputs": [],
   "source": [
    "plot = wg.add_task(plot_energy_volume_curve,\n",
    "    name=\"plot\",\n",
    "    volume_lst=[job.outputs.volume for job in job_strain_lst],\n",
    "    energy_lst=[job.outputs.energy for job in job_strain_lst],\n",
    ")"
   ]
  },
  {
   "cell_type": "code",
   "execution_count": 18,
   "id": "5fd4b05d-ad02-4ba3-81e0-14e86479034b",
   "metadata": {},
   "outputs": [
    {
     "ename": "TypeError",
     "evalue": "cannot pickle '_thread.RLock' object",
     "output_type": "error",
     "traceback": [
      "\u001b[0;31m---------------------------------------------------------------------------\u001b[0m",
      "\u001b[0;31mTypeError\u001b[0m                                 Traceback (most recent call last)",
      "Cell \u001b[0;32mIn[18], line 1\u001b[0m\n\u001b[0;32m----> 1\u001b[0m \u001b[43mwg\u001b[49m\u001b[38;5;241;43m.\u001b[39;49m\u001b[43mrun\u001b[49m\u001b[43m(\u001b[49m\u001b[43m)\u001b[49m\n",
      "File \u001b[0;32m~/mambaforge/lib/python3.12/site-packages/aiida_workgraph/workgraph.py:104\u001b[0m, in \u001b[0;36mWorkGraph.run\u001b[0;34m(self, inputs, metadata)\u001b[0m\n\u001b[1;32m    102\u001b[0m     \u001b[38;5;28;01mreturn\u001b[39;00m\n\u001b[1;32m    103\u001b[0m inputs \u001b[38;5;241m=\u001b[39m \u001b[38;5;28mself\u001b[39m\u001b[38;5;241m.\u001b[39mprepare_inputs(metadata\u001b[38;5;241m=\u001b[39mmetadata)\n\u001b[0;32m--> 104\u001b[0m result, node \u001b[38;5;241m=\u001b[39m \u001b[43maiida\u001b[49m\u001b[38;5;241;43m.\u001b[39;49m\u001b[43mengine\u001b[49m\u001b[38;5;241;43m.\u001b[39;49m\u001b[43mrun_get_node\u001b[49m\u001b[43m(\u001b[49m\u001b[43mWorkGraphEngine\u001b[49m\u001b[43m,\u001b[49m\u001b[43m \u001b[49m\u001b[43minputs\u001b[49m\u001b[38;5;241;43m=\u001b[39;49m\u001b[43minputs\u001b[49m\u001b[43m)\u001b[49m\n\u001b[1;32m    105\u001b[0m \u001b[38;5;28mself\u001b[39m\u001b[38;5;241m.\u001b[39mprocess \u001b[38;5;241m=\u001b[39m node\n\u001b[1;32m    106\u001b[0m \u001b[38;5;28mself\u001b[39m\u001b[38;5;241m.\u001b[39mupdate()\n",
      "File \u001b[0;32m~/mambaforge/lib/python3.12/site-packages/aiida/engine/launch.py:65\u001b[0m, in \u001b[0;36mrun_get_node\u001b[0;34m(process, inputs, **kwargs)\u001b[0m\n\u001b[1;32m     62\u001b[0m \u001b[38;5;28;01melse\u001b[39;00m:\n\u001b[1;32m     63\u001b[0m     runner \u001b[38;5;241m=\u001b[39m manager\u001b[38;5;241m.\u001b[39mget_manager()\u001b[38;5;241m.\u001b[39mget_runner()\n\u001b[0;32m---> 65\u001b[0m \u001b[38;5;28;01mreturn\u001b[39;00m \u001b[43mrunner\u001b[49m\u001b[38;5;241;43m.\u001b[39;49m\u001b[43mrun_get_node\u001b[49m\u001b[43m(\u001b[49m\u001b[43mprocess\u001b[49m\u001b[43m,\u001b[49m\u001b[43m \u001b[49m\u001b[43minputs\u001b[49m\u001b[43m,\u001b[49m\u001b[43m \u001b[49m\u001b[38;5;241;43m*\u001b[39;49m\u001b[38;5;241;43m*\u001b[39;49m\u001b[43mkwargs\u001b[49m\u001b[43m)\u001b[49m\n",
      "File \u001b[0;32m~/mambaforge/lib/python3.12/site-packages/aiida/engine/runners.py:291\u001b[0m, in \u001b[0;36mRunner.run_get_node\u001b[0;34m(self, process, inputs, **kwargs)\u001b[0m\n\u001b[1;32m    280\u001b[0m \u001b[38;5;28;01mdef\u001b[39;00m\u001b[38;5;250m \u001b[39m\u001b[38;5;21mrun_get_node\u001b[39m(\n\u001b[1;32m    281\u001b[0m     \u001b[38;5;28mself\u001b[39m, process: TYPE_RUN_PROCESS, inputs: \u001b[38;5;28mdict\u001b[39m[\u001b[38;5;28mstr\u001b[39m, Any] \u001b[38;5;241m|\u001b[39m \u001b[38;5;28;01mNone\u001b[39;00m \u001b[38;5;241m=\u001b[39m \u001b[38;5;28;01mNone\u001b[39;00m, \u001b[38;5;241m*\u001b[39m\u001b[38;5;241m*\u001b[39mkwargs: Any\n\u001b[1;32m    282\u001b[0m ) \u001b[38;5;241m-\u001b[39m\u001b[38;5;241m>\u001b[39m ResultAndNode:\n\u001b[1;32m    283\u001b[0m \u001b[38;5;250m    \u001b[39m\u001b[38;5;124;03m\"\"\"Run the process with the supplied inputs in this runner that will block until the process is completed.\u001b[39;00m\n\u001b[1;32m    284\u001b[0m \n\u001b[1;32m    285\u001b[0m \u001b[38;5;124;03m    The return value will be the results of the completed process\u001b[39;00m\n\u001b[0;32m   (...)\u001b[0m\n\u001b[1;32m    289\u001b[0m \u001b[38;5;124;03m    :return: tuple of the outputs of the process and the calculation node\u001b[39;00m\n\u001b[1;32m    290\u001b[0m \u001b[38;5;124;03m    \"\"\"\u001b[39;00m\n\u001b[0;32m--> 291\u001b[0m     result, node \u001b[38;5;241m=\u001b[39m \u001b[38;5;28;43mself\u001b[39;49m\u001b[38;5;241;43m.\u001b[39;49m\u001b[43m_run\u001b[49m\u001b[43m(\u001b[49m\u001b[43mprocess\u001b[49m\u001b[43m,\u001b[49m\u001b[43m \u001b[49m\u001b[43minputs\u001b[49m\u001b[43m,\u001b[49m\u001b[43m \u001b[49m\u001b[38;5;241;43m*\u001b[39;49m\u001b[38;5;241;43m*\u001b[39;49m\u001b[43mkwargs\u001b[49m\u001b[43m)\u001b[49m\n\u001b[1;32m    292\u001b[0m     \u001b[38;5;28;01mreturn\u001b[39;00m ResultAndNode(result, node)\n",
      "File \u001b[0;32m~/mambaforge/lib/python3.12/site-packages/aiida/engine/runners.py:245\u001b[0m, in \u001b[0;36mRunner._run\u001b[0;34m(self, process, inputs, **kwargs)\u001b[0m\n\u001b[1;32m    242\u001b[0m     \u001b[38;5;28;01mreturn\u001b[39;00m result, node\n\u001b[1;32m    244\u001b[0m \u001b[38;5;28;01mwith\u001b[39;00m utils\u001b[38;5;241m.\u001b[39mloop_scope(\u001b[38;5;28mself\u001b[39m\u001b[38;5;241m.\u001b[39mloop):\n\u001b[0;32m--> 245\u001b[0m     process_inited \u001b[38;5;241m=\u001b[39m \u001b[38;5;28;43mself\u001b[39;49m\u001b[38;5;241;43m.\u001b[39;49m\u001b[43minstantiate_process\u001b[49m\u001b[43m(\u001b[49m\u001b[43mprocess\u001b[49m\u001b[43m,\u001b[49m\u001b[43m \u001b[49m\u001b[38;5;241;43m*\u001b[39;49m\u001b[38;5;241;43m*\u001b[39;49m\u001b[43minputs\u001b[49m\u001b[43m)\u001b[49m\n\u001b[1;32m    247\u001b[0m     \u001b[38;5;28;01mdef\u001b[39;00m\u001b[38;5;250m \u001b[39m\u001b[38;5;21mkill_process\u001b[39m(_num, _frame):\n\u001b[1;32m    248\u001b[0m \u001b[38;5;250m        \u001b[39m\u001b[38;5;124;03m\"\"\"Send the kill signal to the process in the current scope.\"\"\"\u001b[39;00m\n",
      "File \u001b[0;32m~/mambaforge/lib/python3.12/site-packages/aiida/engine/runners.py:174\u001b[0m, in \u001b[0;36mRunner.instantiate_process\u001b[0;34m(self, process, **inputs)\u001b[0m\n\u001b[1;32m    171\u001b[0m \u001b[38;5;28;01mdef\u001b[39;00m\u001b[38;5;250m \u001b[39m\u001b[38;5;21minstantiate_process\u001b[39m(\u001b[38;5;28mself\u001b[39m, process: TYPE_RUN_PROCESS, \u001b[38;5;241m*\u001b[39m\u001b[38;5;241m*\u001b[39minputs):\n\u001b[1;32m    172\u001b[0m     \u001b[38;5;28;01mfrom\u001b[39;00m\u001b[38;5;250m \u001b[39m\u001b[38;5;21;01m.\u001b[39;00m\u001b[38;5;21;01mutils\u001b[39;00m\u001b[38;5;250m \u001b[39m\u001b[38;5;28;01mimport\u001b[39;00m instantiate_process\n\u001b[0;32m--> 174\u001b[0m     \u001b[38;5;28;01mreturn\u001b[39;00m \u001b[43minstantiate_process\u001b[49m\u001b[43m(\u001b[49m\u001b[38;5;28;43mself\u001b[39;49m\u001b[43m,\u001b[49m\u001b[43m \u001b[49m\u001b[43mprocess\u001b[49m\u001b[43m,\u001b[49m\u001b[43m \u001b[49m\u001b[38;5;241;43m*\u001b[39;49m\u001b[38;5;241;43m*\u001b[39;49m\u001b[43minputs\u001b[49m\u001b[43m)\u001b[49m\n",
      "File \u001b[0;32m~/mambaforge/lib/python3.12/site-packages/aiida/engine/utils.py:86\u001b[0m, in \u001b[0;36minstantiate_process\u001b[0;34m(runner, process, **inputs)\u001b[0m\n\u001b[1;32m     83\u001b[0m \u001b[38;5;28;01melse\u001b[39;00m:\n\u001b[1;32m     84\u001b[0m     \u001b[38;5;28;01mraise\u001b[39;00m \u001b[38;5;167;01mValueError\u001b[39;00m(\u001b[38;5;124mf\u001b[39m\u001b[38;5;124m'\u001b[39m\u001b[38;5;124minvalid process \u001b[39m\u001b[38;5;132;01m{\u001b[39;00m\u001b[38;5;28mtype\u001b[39m(process)\u001b[38;5;132;01m}\u001b[39;00m\u001b[38;5;124m, needs to be Process or ProcessBuilder\u001b[39m\u001b[38;5;124m'\u001b[39m)\n\u001b[0;32m---> 86\u001b[0m process \u001b[38;5;241m=\u001b[39m \u001b[43mprocess_class\u001b[49m\u001b[43m(\u001b[49m\u001b[43mrunner\u001b[49m\u001b[38;5;241;43m=\u001b[39;49m\u001b[43mrunner\u001b[49m\u001b[43m,\u001b[49m\u001b[43m \u001b[49m\u001b[43minputs\u001b[49m\u001b[38;5;241;43m=\u001b[39;49m\u001b[43minputs\u001b[49m\u001b[43m)\u001b[49m\n\u001b[1;32m     88\u001b[0m \u001b[38;5;28;01mreturn\u001b[39;00m process\n",
      "File \u001b[0;32m~/mambaforge/lib/python3.12/site-packages/plumpy/base/state_machine.py:194\u001b[0m, in \u001b[0;36mStateMachineMeta.__call__\u001b[0;34m(cls, *args, **kwargs)\u001b[0m\n\u001b[1;32m    186\u001b[0m \u001b[38;5;250m\u001b[39m\u001b[38;5;124;03m\"\"\"\u001b[39;00m\n\u001b[1;32m    187\u001b[0m \u001b[38;5;124;03mCreate the state machine and enter the initial state.\u001b[39;00m\n\u001b[1;32m    188\u001b[0m \n\u001b[0;32m   (...)\u001b[0m\n\u001b[1;32m    191\u001b[0m \u001b[38;5;124;03m:return: An instance of the state machine\u001b[39;00m\n\u001b[1;32m    192\u001b[0m \u001b[38;5;124;03m\"\"\"\u001b[39;00m\n\u001b[1;32m    193\u001b[0m inst \u001b[38;5;241m=\u001b[39m \u001b[38;5;28msuper\u001b[39m()\u001b[38;5;241m.\u001b[39m\u001b[38;5;21m__call__\u001b[39m(\u001b[38;5;241m*\u001b[39margs, \u001b[38;5;241m*\u001b[39m\u001b[38;5;241m*\u001b[39mkwargs)\n\u001b[0;32m--> 194\u001b[0m \u001b[43minst\u001b[49m\u001b[38;5;241;43m.\u001b[39;49m\u001b[43mtransition_to\u001b[49m\u001b[43m(\u001b[49m\u001b[43minst\u001b[49m\u001b[38;5;241;43m.\u001b[39;49m\u001b[43mcreate_initial_state\u001b[49m\u001b[43m(\u001b[49m\u001b[43m)\u001b[49m\u001b[43m)\u001b[49m\n\u001b[1;32m    195\u001b[0m call_with_super_check(inst\u001b[38;5;241m.\u001b[39minit)\n\u001b[1;32m    196\u001b[0m \u001b[38;5;28;01mreturn\u001b[39;00m inst\n",
      "File \u001b[0;32m~/mambaforge/lib/python3.12/site-packages/plumpy/base/state_machine.py:339\u001b[0m, in \u001b[0;36mStateMachine.transition_to\u001b[0;34m(self, new_state, *args, **kwargs)\u001b[0m\n\u001b[1;32m    337\u001b[0m         \u001b[38;5;28;01mraise\u001b[39;00m\n\u001b[1;32m    338\u001b[0m     \u001b[38;5;28mself\u001b[39m\u001b[38;5;241m.\u001b[39m_transition_failing \u001b[38;5;241m=\u001b[39m \u001b[38;5;28;01mTrue\u001b[39;00m\n\u001b[0;32m--> 339\u001b[0m     \u001b[38;5;28;43mself\u001b[39;49m\u001b[38;5;241;43m.\u001b[39;49m\u001b[43mtransition_failed\u001b[49m\u001b[43m(\u001b[49m\u001b[43minitial_state_label\u001b[49m\u001b[43m,\u001b[49m\u001b[43m \u001b[49m\u001b[43mlabel\u001b[49m\u001b[43m,\u001b[49m\u001b[43m \u001b[49m\u001b[38;5;241;43m*\u001b[39;49m\u001b[43msys\u001b[49m\u001b[38;5;241;43m.\u001b[39;49m\u001b[43mexc_info\u001b[49m\u001b[43m(\u001b[49m\u001b[43m)\u001b[49m\u001b[43m[\u001b[49m\u001b[38;5;241;43m1\u001b[39;49m\u001b[43m:\u001b[49m\u001b[43m]\u001b[49m\u001b[43m)\u001b[49m\n\u001b[1;32m    340\u001b[0m \u001b[38;5;28;01mfinally\u001b[39;00m:\n\u001b[1;32m    341\u001b[0m     \u001b[38;5;28mself\u001b[39m\u001b[38;5;241m.\u001b[39m_transition_failing \u001b[38;5;241m=\u001b[39m \u001b[38;5;28;01mFalse\u001b[39;00m\n",
      "File \u001b[0;32m~/mambaforge/lib/python3.12/site-packages/plumpy/processes.py:1003\u001b[0m, in \u001b[0;36mProcess.transition_failed\u001b[0;34m(self, initial_state, final_state, exception, trace)\u001b[0m\n\u001b[1;32m    998\u001b[0m \u001b[38;5;28;01mdef\u001b[39;00m\u001b[38;5;250m \u001b[39m\u001b[38;5;21mtransition_failed\u001b[39m(\n\u001b[1;32m    999\u001b[0m     \u001b[38;5;28mself\u001b[39m, initial_state: Hashable, final_state: Hashable, exception: \u001b[38;5;167;01mException\u001b[39;00m, trace: TracebackType\n\u001b[1;32m   1000\u001b[0m ) \u001b[38;5;241m-\u001b[39m\u001b[38;5;241m>\u001b[39m \u001b[38;5;28;01mNone\u001b[39;00m:\n\u001b[1;32m   1001\u001b[0m     \u001b[38;5;66;03m# If we are creating, then reraise instead of failing.\u001b[39;00m\n\u001b[1;32m   1002\u001b[0m     \u001b[38;5;28;01mif\u001b[39;00m final_state \u001b[38;5;241m==\u001b[39m process_states\u001b[38;5;241m.\u001b[39mProcessState\u001b[38;5;241m.\u001b[39mCREATED:\n\u001b[0;32m-> 1003\u001b[0m         \u001b[38;5;28;01mraise\u001b[39;00m exception\u001b[38;5;241m.\u001b[39mwith_traceback(trace)\n\u001b[1;32m   1005\u001b[0m     \u001b[38;5;28mself\u001b[39m\u001b[38;5;241m.\u001b[39mtransition_to(process_states\u001b[38;5;241m.\u001b[39mProcessState\u001b[38;5;241m.\u001b[39mEXCEPTED, exception, trace)\n",
      "File \u001b[0;32m~/mambaforge/lib/python3.12/site-packages/plumpy/base/state_machine.py:324\u001b[0m, in \u001b[0;36mStateMachine.transition_to\u001b[0;34m(self, new_state, *args, **kwargs)\u001b[0m\n\u001b[1;32m    321\u001b[0m     \u001b[38;5;28mself\u001b[39m\u001b[38;5;241m.\u001b[39m_exit_current_state(new_state)\n\u001b[1;32m    323\u001b[0m \u001b[38;5;28;01mtry\u001b[39;00m:\n\u001b[0;32m--> 324\u001b[0m     \u001b[38;5;28;43mself\u001b[39;49m\u001b[38;5;241;43m.\u001b[39;49m\u001b[43m_enter_next_state\u001b[49m\u001b[43m(\u001b[49m\u001b[43mnew_state\u001b[49m\u001b[43m)\u001b[49m\n\u001b[1;32m    325\u001b[0m \u001b[38;5;28;01mexcept\u001b[39;00m StateEntryFailed \u001b[38;5;28;01mas\u001b[39;00m exception:\n\u001b[1;32m    326\u001b[0m     \u001b[38;5;66;03m# Make sure we have a state instance\u001b[39;00m\n\u001b[1;32m    327\u001b[0m     new_state \u001b[38;5;241m=\u001b[39m \u001b[38;5;28mself\u001b[39m\u001b[38;5;241m.\u001b[39m_create_state_instance(exception\u001b[38;5;241m.\u001b[39mstate, \u001b[38;5;241m*\u001b[39mexception\u001b[38;5;241m.\u001b[39margs, \u001b[38;5;241m*\u001b[39m\u001b[38;5;241m*\u001b[39mexception\u001b[38;5;241m.\u001b[39mkwargs)\n",
      "File \u001b[0;32m~/mambaforge/lib/python3.12/site-packages/plumpy/base/state_machine.py:384\u001b[0m, in \u001b[0;36mStateMachine._enter_next_state\u001b[0;34m(self, next_state)\u001b[0m\n\u001b[1;32m    382\u001b[0m \u001b[38;5;28;01mdef\u001b[39;00m\u001b[38;5;250m \u001b[39m\u001b[38;5;21m_enter_next_state\u001b[39m(\u001b[38;5;28mself\u001b[39m, next_state: State) \u001b[38;5;241m-\u001b[39m\u001b[38;5;241m>\u001b[39m \u001b[38;5;28;01mNone\u001b[39;00m:\n\u001b[1;32m    383\u001b[0m     last_state \u001b[38;5;241m=\u001b[39m \u001b[38;5;28mself\u001b[39m\u001b[38;5;241m.\u001b[39m_state\n\u001b[0;32m--> 384\u001b[0m     \u001b[38;5;28;43mself\u001b[39;49m\u001b[38;5;241;43m.\u001b[39;49m\u001b[43m_fire_state_event\u001b[49m\u001b[43m(\u001b[49m\u001b[43mStateEventHook\u001b[49m\u001b[38;5;241;43m.\u001b[39;49m\u001b[43mENTERING_STATE\u001b[49m\u001b[43m,\u001b[49m\u001b[43m \u001b[49m\u001b[43mnext_state\u001b[49m\u001b[43m)\u001b[49m\n\u001b[1;32m    385\u001b[0m     \u001b[38;5;66;03m# Enter the new state\u001b[39;00m\n\u001b[1;32m    386\u001b[0m     next_state\u001b[38;5;241m.\u001b[39mdo_enter()\n",
      "File \u001b[0;32m~/mambaforge/lib/python3.12/site-packages/plumpy/base/state_machine.py:300\u001b[0m, in \u001b[0;36mStateMachine._fire_state_event\u001b[0;34m(self, hook, state)\u001b[0m\n\u001b[1;32m    298\u001b[0m \u001b[38;5;28;01mdef\u001b[39;00m\u001b[38;5;250m \u001b[39m\u001b[38;5;21m_fire_state_event\u001b[39m(\u001b[38;5;28mself\u001b[39m, hook: Hashable, state: Optional[State]) \u001b[38;5;241m-\u001b[39m\u001b[38;5;241m>\u001b[39m \u001b[38;5;28;01mNone\u001b[39;00m:\n\u001b[1;32m    299\u001b[0m     \u001b[38;5;28;01mfor\u001b[39;00m callback \u001b[38;5;129;01min\u001b[39;00m \u001b[38;5;28mself\u001b[39m\u001b[38;5;241m.\u001b[39m_event_callbacks\u001b[38;5;241m.\u001b[39mget(hook, []):\n\u001b[0;32m--> 300\u001b[0m         \u001b[43mcallback\u001b[49m\u001b[43m(\u001b[49m\u001b[38;5;28;43mself\u001b[39;49m\u001b[43m,\u001b[49m\u001b[43m \u001b[49m\u001b[43mhook\u001b[49m\u001b[43m,\u001b[49m\u001b[43m \u001b[49m\u001b[43mstate\u001b[49m\u001b[43m)\u001b[49m\n",
      "File \u001b[0;32m~/mambaforge/lib/python3.12/site-packages/plumpy/processes.py:329\u001b[0m, in \u001b[0;36mProcess._setup_event_hooks.<locals>.<lambda>\u001b[0;34m(_s, _h, state)\u001b[0m\n\u001b[1;32m    325\u001b[0m \u001b[38;5;28;01mdef\u001b[39;00m\u001b[38;5;250m \u001b[39m\u001b[38;5;21m_setup_event_hooks\u001b[39m(\u001b[38;5;28mself\u001b[39m) \u001b[38;5;241m-\u001b[39m\u001b[38;5;241m>\u001b[39m \u001b[38;5;28;01mNone\u001b[39;00m:\n\u001b[1;32m    326\u001b[0m \u001b[38;5;250m    \u001b[39m\u001b[38;5;124;03m\"\"\"Set the event hooks to process, when it is created or loaded(recreated).\"\"\"\u001b[39;00m\n\u001b[1;32m    327\u001b[0m     event_hooks \u001b[38;5;241m=\u001b[39m {\n\u001b[1;32m    328\u001b[0m         state_machine\u001b[38;5;241m.\u001b[39mStateEventHook\u001b[38;5;241m.\u001b[39mENTERING_STATE:\n\u001b[0;32m--> 329\u001b[0m         \u001b[38;5;28;01mlambda\u001b[39;00m _s, _h, state: \u001b[38;5;28;43mself\u001b[39;49m\u001b[38;5;241;43m.\u001b[39;49m\u001b[43mon_entering\u001b[49m\u001b[43m(\u001b[49m\u001b[43mcast\u001b[49m\u001b[43m(\u001b[49m\u001b[43mprocess_states\u001b[49m\u001b[38;5;241;43m.\u001b[39;49m\u001b[43mState\u001b[49m\u001b[43m,\u001b[49m\u001b[43m \u001b[49m\u001b[43mstate\u001b[49m\u001b[43m)\u001b[49m\u001b[43m)\u001b[49m,\n\u001b[1;32m    330\u001b[0m         state_machine\u001b[38;5;241m.\u001b[39mStateEventHook\u001b[38;5;241m.\u001b[39mENTERED_STATE:\n\u001b[1;32m    331\u001b[0m         \u001b[38;5;28;01mlambda\u001b[39;00m _s, _h, from_state: \u001b[38;5;28mself\u001b[39m\u001b[38;5;241m.\u001b[39mon_entered(cast(Optional[process_states\u001b[38;5;241m.\u001b[39mState], from_state)),\n\u001b[1;32m    332\u001b[0m         state_machine\u001b[38;5;241m.\u001b[39mStateEventHook\u001b[38;5;241m.\u001b[39mEXITING_STATE:\n\u001b[1;32m    333\u001b[0m         \u001b[38;5;28;01mlambda\u001b[39;00m _s, _h, _state: \u001b[38;5;28mself\u001b[39m\u001b[38;5;241m.\u001b[39mon_exiting()\n\u001b[1;32m    334\u001b[0m     }\n\u001b[1;32m    335\u001b[0m     \u001b[38;5;28;01mfor\u001b[39;00m hook, callback \u001b[38;5;129;01min\u001b[39;00m event_hooks\u001b[38;5;241m.\u001b[39mitems():\n\u001b[1;32m    336\u001b[0m         \u001b[38;5;28mself\u001b[39m\u001b[38;5;241m.\u001b[39madd_state_event_callback(hook, callback)\n",
      "File \u001b[0;32m~/mambaforge/lib/python3.12/site-packages/plumpy/processes.py:683\u001b[0m, in \u001b[0;36mProcess.on_entering\u001b[0;34m(self, state)\u001b[0m\n\u001b[1;32m    681\u001b[0m state_label \u001b[38;5;241m=\u001b[39m state\u001b[38;5;241m.\u001b[39mLABEL\n\u001b[1;32m    682\u001b[0m \u001b[38;5;28;01mif\u001b[39;00m state_label \u001b[38;5;241m==\u001b[39m process_states\u001b[38;5;241m.\u001b[39mProcessState\u001b[38;5;241m.\u001b[39mCREATED:\n\u001b[0;32m--> 683\u001b[0m     \u001b[43mcall_with_super_check\u001b[49m\u001b[43m(\u001b[49m\u001b[38;5;28;43mself\u001b[39;49m\u001b[38;5;241;43m.\u001b[39;49m\u001b[43mon_create\u001b[49m\u001b[43m)\u001b[49m\n\u001b[1;32m    684\u001b[0m \u001b[38;5;28;01melif\u001b[39;00m state_label \u001b[38;5;241m==\u001b[39m process_states\u001b[38;5;241m.\u001b[39mProcessState\u001b[38;5;241m.\u001b[39mRUNNING:\n\u001b[1;32m    685\u001b[0m     call_with_super_check(\u001b[38;5;28mself\u001b[39m\u001b[38;5;241m.\u001b[39mon_run)\n",
      "File \u001b[0;32m~/mambaforge/lib/python3.12/site-packages/plumpy/base/utils.py:29\u001b[0m, in \u001b[0;36mcall_with_super_check\u001b[0;34m(wrapped, *args, **kwargs)\u001b[0m\n\u001b[1;32m     27\u001b[0m call_count \u001b[38;5;241m=\u001b[39m \u001b[38;5;28mgetattr\u001b[39m(\u001b[38;5;28mself\u001b[39m, \u001b[38;5;124m'\u001b[39m\u001b[38;5;124m_called\u001b[39m\u001b[38;5;124m'\u001b[39m, \u001b[38;5;241m0\u001b[39m)\n\u001b[1;32m     28\u001b[0m \u001b[38;5;28mself\u001b[39m\u001b[38;5;241m.\u001b[39m_called \u001b[38;5;241m=\u001b[39m call_count \u001b[38;5;241m+\u001b[39m \u001b[38;5;241m1\u001b[39m\n\u001b[0;32m---> 29\u001b[0m \u001b[43mwrapped\u001b[49m\u001b[43m(\u001b[49m\u001b[38;5;241;43m*\u001b[39;49m\u001b[43margs\u001b[49m\u001b[43m,\u001b[49m\u001b[43m \u001b[49m\u001b[38;5;241;43m*\u001b[39;49m\u001b[38;5;241;43m*\u001b[39;49m\u001b[43mkwargs\u001b[49m\u001b[43m)\u001b[49m\n\u001b[1;32m     30\u001b[0m msg \u001b[38;5;241m=\u001b[39m \u001b[38;5;124mf\u001b[39m\u001b[38;5;124m\"\u001b[39m\u001b[38;5;124mBase \u001b[39m\u001b[38;5;124m'\u001b[39m\u001b[38;5;132;01m{\u001b[39;00mwrapped\u001b[38;5;241m.\u001b[39m\u001b[38;5;18m__name__\u001b[39m\u001b[38;5;132;01m}\u001b[39;00m\u001b[38;5;124m'\u001b[39m\u001b[38;5;124m was not called from \u001b[39m\u001b[38;5;124m'\u001b[39m\u001b[38;5;132;01m{\u001b[39;00m\u001b[38;5;28mself\u001b[39m\u001b[38;5;241m.\u001b[39m\u001b[38;5;18m__class__\u001b[39m\u001b[38;5;132;01m}\u001b[39;00m\u001b[38;5;124m'\u001b[39m\u001b[38;5;130;01m\\n\u001b[39;00m\u001b[38;5;124mHint: Did you forget to call the super?\u001b[39m\u001b[38;5;124m\"\u001b[39m\n\u001b[1;32m     31\u001b[0m \u001b[38;5;28;01massert\u001b[39;00m \u001b[38;5;28mself\u001b[39m\u001b[38;5;241m.\u001b[39m_called \u001b[38;5;241m==\u001b[39m call_count, msg\n",
      "File \u001b[0;32m~/mambaforge/lib/python3.12/site-packages/aiida_workgraph/engine/workgraph.py:269\u001b[0m, in \u001b[0;36mWorkGraphEngine.on_create\u001b[0;34m(self)\u001b[0m\n\u001b[1;32m    263\u001b[0m restart_process \u001b[38;5;241m=\u001b[39m (\n\u001b[1;32m    264\u001b[0m     orm\u001b[38;5;241m.\u001b[39mload_node(wgdata[\u001b[38;5;124m\"\u001b[39m\u001b[38;5;124mrestart_process\u001b[39m\u001b[38;5;124m\"\u001b[39m]\u001b[38;5;241m.\u001b[39mvalue)\n\u001b[1;32m    265\u001b[0m     \u001b[38;5;28;01mif\u001b[39;00m wgdata\u001b[38;5;241m.\u001b[39mget(\u001b[38;5;124m\"\u001b[39m\u001b[38;5;124mrestart_process\u001b[39m\u001b[38;5;124m\"\u001b[39m)\n\u001b[1;32m    266\u001b[0m     \u001b[38;5;28;01melse\u001b[39;00m \u001b[38;5;28;01mNone\u001b[39;00m\n\u001b[1;32m    267\u001b[0m )\n\u001b[1;32m    268\u001b[0m saver \u001b[38;5;241m=\u001b[39m WorkGraphSaver(\u001b[38;5;28mself\u001b[39m\u001b[38;5;241m.\u001b[39mnode, wgdata, restart_process\u001b[38;5;241m=\u001b[39mrestart_process)\n\u001b[0;32m--> 269\u001b[0m \u001b[43msaver\u001b[49m\u001b[38;5;241;43m.\u001b[39;49m\u001b[43msave\u001b[49m\u001b[43m(\u001b[49m\u001b[43m)\u001b[49m\n\u001b[1;32m    270\u001b[0m \u001b[38;5;28mself\u001b[39m\u001b[38;5;241m.\u001b[39mnode\u001b[38;5;241m.\u001b[39mlabel \u001b[38;5;241m=\u001b[39m wgdata[\u001b[38;5;124m\"\u001b[39m\u001b[38;5;124mname\u001b[39m\u001b[38;5;124m\"\u001b[39m]\n",
      "File \u001b[0;32m~/mambaforge/lib/python3.12/site-packages/aiida_workgraph/utils/analysis.py:82\u001b[0m, in \u001b[0;36mWorkGraphSaver.save\u001b[0;34m(self)\u001b[0m\n\u001b[1;32m     80\u001b[0m     \u001b[38;5;28mprint\u001b[39m(\u001b[38;5;124m\"\u001b[39m\u001b[38;5;124mmodified_tasks: \u001b[39m\u001b[38;5;132;01m{}\u001b[39;00m\u001b[38;5;124m\"\u001b[39m\u001b[38;5;241m.\u001b[39mformat(modified_tasks))\n\u001b[1;32m     81\u001b[0m     \u001b[38;5;28mself\u001b[39m\u001b[38;5;241m.\u001b[39mreset_tasks(modified_tasks)\n\u001b[0;32m---> 82\u001b[0m \u001b[38;5;28;43mself\u001b[39;49m\u001b[38;5;241;43m.\u001b[39;49m\u001b[43minsert_workgraph_to_db\u001b[49m\u001b[43m(\u001b[49m\u001b[43m)\u001b[49m\n",
      "File \u001b[0;32m~/mambaforge/lib/python3.12/site-packages/aiida_workgraph/utils/analysis.py:212\u001b[0m, in \u001b[0;36mWorkGraphSaver.insert_workgraph_to_db\u001b[0;34m(self)\u001b[0m\n\u001b[1;32m    210\u001b[0m             \u001b[38;5;28;01mif\u001b[39;00m inspect\u001b[38;5;241m.\u001b[39misfunction(prop[\u001b[38;5;124m\"\u001b[39m\u001b[38;5;124mvalue\u001b[39m\u001b[38;5;124m\"\u001b[39m]):\n\u001b[1;32m    211\u001b[0m                 prop[\u001b[38;5;124m\"\u001b[39m\u001b[38;5;124mvalue\u001b[39m\u001b[38;5;124m\"\u001b[39m] \u001b[38;5;241m=\u001b[39m PickledLocalFunction(prop[\u001b[38;5;124m\"\u001b[39m\u001b[38;5;124mvalue\u001b[39m\u001b[38;5;124m\"\u001b[39m])\u001b[38;5;241m.\u001b[39mstore()\n\u001b[0;32m--> 212\u001b[0m     \u001b[38;5;28mself\u001b[39m\u001b[38;5;241m.\u001b[39mwgdata[\u001b[38;5;124m\"\u001b[39m\u001b[38;5;124mtasks\u001b[39m\u001b[38;5;124m\"\u001b[39m][name] \u001b[38;5;241m=\u001b[39m \u001b[43mserialize\u001b[49m\u001b[43m(\u001b[49m\u001b[43mtask\u001b[49m\u001b[43m)\u001b[49m\n\u001b[1;32m    213\u001b[0m \u001b[38;5;66;03m# nodes is a copy of tasks, so we need to pop it out\u001b[39;00m\n\u001b[1;32m    214\u001b[0m \u001b[38;5;28mself\u001b[39m\u001b[38;5;241m.\u001b[39mwgdata[\u001b[38;5;124m\"\u001b[39m\u001b[38;5;124merror_handlers\u001b[39m\u001b[38;5;124m\"\u001b[39m] \u001b[38;5;241m=\u001b[39m serialize(\u001b[38;5;28mself\u001b[39m\u001b[38;5;241m.\u001b[39mwgdata[\u001b[38;5;124m\"\u001b[39m\u001b[38;5;124merror_handlers\u001b[39m\u001b[38;5;124m\"\u001b[39m])\n",
      "File \u001b[0;32m~/mambaforge/lib/python3.12/site-packages/aiida/orm/utils/serialize.py:239\u001b[0m, in \u001b[0;36mserialize\u001b[0;34m(data, encoding)\u001b[0m\n\u001b[1;32m    237\u001b[0m     serialized \u001b[38;5;241m=\u001b[39m yaml\u001b[38;5;241m.\u001b[39mdump(data, encoding\u001b[38;5;241m=\u001b[39mencoding, Dumper\u001b[38;5;241m=\u001b[39mAiiDADumper)\n\u001b[1;32m    238\u001b[0m \u001b[38;5;28;01melse\u001b[39;00m:\n\u001b[0;32m--> 239\u001b[0m     serialized \u001b[38;5;241m=\u001b[39m \u001b[43myaml\u001b[49m\u001b[38;5;241;43m.\u001b[39;49m\u001b[43mdump\u001b[49m\u001b[43m(\u001b[49m\u001b[43mdata\u001b[49m\u001b[43m,\u001b[49m\u001b[43m \u001b[49m\u001b[43mDumper\u001b[49m\u001b[38;5;241;43m=\u001b[39;49m\u001b[43mAiiDADumper\u001b[49m\u001b[43m)\u001b[49m\n\u001b[1;32m    241\u001b[0m \u001b[38;5;28;01mreturn\u001b[39;00m serialized\n",
      "File \u001b[0;32m~/mambaforge/lib/python3.12/site-packages/yaml/__init__.py:253\u001b[0m, in \u001b[0;36mdump\u001b[0;34m(data, stream, Dumper, **kwds)\u001b[0m\n\u001b[1;32m    248\u001b[0m \u001b[38;5;28;01mdef\u001b[39;00m\u001b[38;5;250m \u001b[39m\u001b[38;5;21mdump\u001b[39m(data, stream\u001b[38;5;241m=\u001b[39m\u001b[38;5;28;01mNone\u001b[39;00m, Dumper\u001b[38;5;241m=\u001b[39mDumper, \u001b[38;5;241m*\u001b[39m\u001b[38;5;241m*\u001b[39mkwds):\n\u001b[1;32m    249\u001b[0m \u001b[38;5;250m    \u001b[39m\u001b[38;5;124;03m\"\"\"\u001b[39;00m\n\u001b[1;32m    250\u001b[0m \u001b[38;5;124;03m    Serialize a Python object into a YAML stream.\u001b[39;00m\n\u001b[1;32m    251\u001b[0m \u001b[38;5;124;03m    If stream is None, return the produced string instead.\u001b[39;00m\n\u001b[1;32m    252\u001b[0m \u001b[38;5;124;03m    \"\"\"\u001b[39;00m\n\u001b[0;32m--> 253\u001b[0m     \u001b[38;5;28;01mreturn\u001b[39;00m \u001b[43mdump_all\u001b[49m\u001b[43m(\u001b[49m\u001b[43m[\u001b[49m\u001b[43mdata\u001b[49m\u001b[43m]\u001b[49m\u001b[43m,\u001b[49m\u001b[43m \u001b[49m\u001b[43mstream\u001b[49m\u001b[43m,\u001b[49m\u001b[43m \u001b[49m\u001b[43mDumper\u001b[49m\u001b[38;5;241;43m=\u001b[39;49m\u001b[43mDumper\u001b[49m\u001b[43m,\u001b[49m\u001b[43m \u001b[49m\u001b[38;5;241;43m*\u001b[39;49m\u001b[38;5;241;43m*\u001b[39;49m\u001b[43mkwds\u001b[49m\u001b[43m)\u001b[49m\n",
      "File \u001b[0;32m~/mambaforge/lib/python3.12/site-packages/yaml/__init__.py:241\u001b[0m, in \u001b[0;36mdump_all\u001b[0;34m(documents, stream, Dumper, default_style, default_flow_style, canonical, indent, width, allow_unicode, line_break, encoding, explicit_start, explicit_end, version, tags, sort_keys)\u001b[0m\n\u001b[1;32m    239\u001b[0m     dumper\u001b[38;5;241m.\u001b[39mopen()\n\u001b[1;32m    240\u001b[0m     \u001b[38;5;28;01mfor\u001b[39;00m data \u001b[38;5;129;01min\u001b[39;00m documents:\n\u001b[0;32m--> 241\u001b[0m         \u001b[43mdumper\u001b[49m\u001b[38;5;241;43m.\u001b[39;49m\u001b[43mrepresent\u001b[49m\u001b[43m(\u001b[49m\u001b[43mdata\u001b[49m\u001b[43m)\u001b[49m\n\u001b[1;32m    242\u001b[0m     dumper\u001b[38;5;241m.\u001b[39mclose()\n\u001b[1;32m    243\u001b[0m \u001b[38;5;28;01mfinally\u001b[39;00m:\n",
      "File \u001b[0;32m~/mambaforge/lib/python3.12/site-packages/yaml/representer.py:27\u001b[0m, in \u001b[0;36mBaseRepresenter.represent\u001b[0;34m(self, data)\u001b[0m\n\u001b[1;32m     26\u001b[0m \u001b[38;5;28;01mdef\u001b[39;00m\u001b[38;5;250m \u001b[39m\u001b[38;5;21mrepresent\u001b[39m(\u001b[38;5;28mself\u001b[39m, data):\n\u001b[0;32m---> 27\u001b[0m     node \u001b[38;5;241m=\u001b[39m \u001b[38;5;28;43mself\u001b[39;49m\u001b[38;5;241;43m.\u001b[39;49m\u001b[43mrepresent_data\u001b[49m\u001b[43m(\u001b[49m\u001b[43mdata\u001b[49m\u001b[43m)\u001b[49m\n\u001b[1;32m     28\u001b[0m     \u001b[38;5;28mself\u001b[39m\u001b[38;5;241m.\u001b[39mserialize(node)\n\u001b[1;32m     29\u001b[0m     \u001b[38;5;28mself\u001b[39m\u001b[38;5;241m.\u001b[39mrepresented_objects \u001b[38;5;241m=\u001b[39m {}\n",
      "File \u001b[0;32m~/mambaforge/lib/python3.12/site-packages/aiida/orm/utils/serialize.py:186\u001b[0m, in \u001b[0;36mAiiDADumper.represent_data\u001b[0;34m(self, data)\u001b[0m\n\u001b[1;32m    183\u001b[0m \u001b[38;5;28;01mif\u001b[39;00m is_dataclass(data) \u001b[38;5;129;01mand\u001b[39;00m \u001b[38;5;129;01mnot\u001b[39;00m inspect\u001b[38;5;241m.\u001b[39misclass(data):\n\u001b[1;32m    184\u001b[0m     \u001b[38;5;28;01mreturn\u001b[39;00m represent_dataclass(\u001b[38;5;28mself\u001b[39m, data)\n\u001b[0;32m--> 186\u001b[0m \u001b[38;5;28;01mreturn\u001b[39;00m \u001b[38;5;28;43msuper\u001b[39;49m\u001b[43m(\u001b[49m\u001b[43m)\u001b[49m\u001b[38;5;241;43m.\u001b[39;49m\u001b[43mrepresent_data\u001b[49m\u001b[43m(\u001b[49m\u001b[43mdata\u001b[49m\u001b[43m)\u001b[49m\n",
      "File \u001b[0;32m~/mambaforge/lib/python3.12/site-packages/yaml/representer.py:48\u001b[0m, in \u001b[0;36mBaseRepresenter.represent_data\u001b[0;34m(self, data)\u001b[0m\n\u001b[1;32m     46\u001b[0m data_types \u001b[38;5;241m=\u001b[39m \u001b[38;5;28mtype\u001b[39m(data)\u001b[38;5;241m.\u001b[39m\u001b[38;5;18m__mro__\u001b[39m\n\u001b[1;32m     47\u001b[0m \u001b[38;5;28;01mif\u001b[39;00m data_types[\u001b[38;5;241m0\u001b[39m] \u001b[38;5;129;01min\u001b[39;00m \u001b[38;5;28mself\u001b[39m\u001b[38;5;241m.\u001b[39myaml_representers:\n\u001b[0;32m---> 48\u001b[0m     node \u001b[38;5;241m=\u001b[39m \u001b[38;5;28;43mself\u001b[39;49m\u001b[38;5;241;43m.\u001b[39;49m\u001b[43myaml_representers\u001b[49m\u001b[43m[\u001b[49m\u001b[43mdata_types\u001b[49m\u001b[43m[\u001b[49m\u001b[38;5;241;43m0\u001b[39;49m\u001b[43m]\u001b[49m\u001b[43m]\u001b[49m\u001b[43m(\u001b[49m\u001b[38;5;28;43mself\u001b[39;49m\u001b[43m,\u001b[49m\u001b[43m \u001b[49m\u001b[43mdata\u001b[49m\u001b[43m)\u001b[49m\n\u001b[1;32m     49\u001b[0m \u001b[38;5;28;01melse\u001b[39;00m:\n\u001b[1;32m     50\u001b[0m     \u001b[38;5;28;01mfor\u001b[39;00m data_type \u001b[38;5;129;01min\u001b[39;00m data_types:\n",
      "File \u001b[0;32m~/mambaforge/lib/python3.12/site-packages/yaml/representer.py:207\u001b[0m, in \u001b[0;36mSafeRepresenter.represent_dict\u001b[0;34m(self, data)\u001b[0m\n\u001b[1;32m    206\u001b[0m \u001b[38;5;28;01mdef\u001b[39;00m\u001b[38;5;250m \u001b[39m\u001b[38;5;21mrepresent_dict\u001b[39m(\u001b[38;5;28mself\u001b[39m, data):\n\u001b[0;32m--> 207\u001b[0m     \u001b[38;5;28;01mreturn\u001b[39;00m \u001b[38;5;28;43mself\u001b[39;49m\u001b[38;5;241;43m.\u001b[39;49m\u001b[43mrepresent_mapping\u001b[49m\u001b[43m(\u001b[49m\u001b[38;5;124;43m'\u001b[39;49m\u001b[38;5;124;43mtag:yaml.org,2002:map\u001b[39;49m\u001b[38;5;124;43m'\u001b[39;49m\u001b[43m,\u001b[49m\u001b[43m \u001b[49m\u001b[43mdata\u001b[49m\u001b[43m)\u001b[49m\n",
      "File \u001b[0;32m~/mambaforge/lib/python3.12/site-packages/yaml/representer.py:118\u001b[0m, in \u001b[0;36mBaseRepresenter.represent_mapping\u001b[0;34m(self, tag, mapping, flow_style)\u001b[0m\n\u001b[1;32m    116\u001b[0m \u001b[38;5;28;01mfor\u001b[39;00m item_key, item_value \u001b[38;5;129;01min\u001b[39;00m mapping:\n\u001b[1;32m    117\u001b[0m     node_key \u001b[38;5;241m=\u001b[39m \u001b[38;5;28mself\u001b[39m\u001b[38;5;241m.\u001b[39mrepresent_data(item_key)\n\u001b[0;32m--> 118\u001b[0m     node_value \u001b[38;5;241m=\u001b[39m \u001b[38;5;28;43mself\u001b[39;49m\u001b[38;5;241;43m.\u001b[39;49m\u001b[43mrepresent_data\u001b[49m\u001b[43m(\u001b[49m\u001b[43mitem_value\u001b[49m\u001b[43m)\u001b[49m\n\u001b[1;32m    119\u001b[0m     \u001b[38;5;28;01mif\u001b[39;00m \u001b[38;5;129;01mnot\u001b[39;00m (\u001b[38;5;28misinstance\u001b[39m(node_key, ScalarNode) \u001b[38;5;129;01mand\u001b[39;00m \u001b[38;5;129;01mnot\u001b[39;00m node_key\u001b[38;5;241m.\u001b[39mstyle):\n\u001b[1;32m    120\u001b[0m         best_style \u001b[38;5;241m=\u001b[39m \u001b[38;5;28;01mFalse\u001b[39;00m\n",
      "File \u001b[0;32m~/mambaforge/lib/python3.12/site-packages/aiida/orm/utils/serialize.py:186\u001b[0m, in \u001b[0;36mAiiDADumper.represent_data\u001b[0;34m(self, data)\u001b[0m\n\u001b[1;32m    183\u001b[0m \u001b[38;5;28;01mif\u001b[39;00m is_dataclass(data) \u001b[38;5;129;01mand\u001b[39;00m \u001b[38;5;129;01mnot\u001b[39;00m inspect\u001b[38;5;241m.\u001b[39misclass(data):\n\u001b[1;32m    184\u001b[0m     \u001b[38;5;28;01mreturn\u001b[39;00m represent_dataclass(\u001b[38;5;28mself\u001b[39m, data)\n\u001b[0;32m--> 186\u001b[0m \u001b[38;5;28;01mreturn\u001b[39;00m \u001b[38;5;28;43msuper\u001b[39;49m\u001b[43m(\u001b[49m\u001b[43m)\u001b[49m\u001b[38;5;241;43m.\u001b[39;49m\u001b[43mrepresent_data\u001b[49m\u001b[43m(\u001b[49m\u001b[43mdata\u001b[49m\u001b[43m)\u001b[49m\n",
      "File \u001b[0;32m~/mambaforge/lib/python3.12/site-packages/yaml/representer.py:48\u001b[0m, in \u001b[0;36mBaseRepresenter.represent_data\u001b[0;34m(self, data)\u001b[0m\n\u001b[1;32m     46\u001b[0m data_types \u001b[38;5;241m=\u001b[39m \u001b[38;5;28mtype\u001b[39m(data)\u001b[38;5;241m.\u001b[39m\u001b[38;5;18m__mro__\u001b[39m\n\u001b[1;32m     47\u001b[0m \u001b[38;5;28;01mif\u001b[39;00m data_types[\u001b[38;5;241m0\u001b[39m] \u001b[38;5;129;01min\u001b[39;00m \u001b[38;5;28mself\u001b[39m\u001b[38;5;241m.\u001b[39myaml_representers:\n\u001b[0;32m---> 48\u001b[0m     node \u001b[38;5;241m=\u001b[39m \u001b[38;5;28;43mself\u001b[39;49m\u001b[38;5;241;43m.\u001b[39;49m\u001b[43myaml_representers\u001b[49m\u001b[43m[\u001b[49m\u001b[43mdata_types\u001b[49m\u001b[43m[\u001b[49m\u001b[38;5;241;43m0\u001b[39;49m\u001b[43m]\u001b[49m\u001b[43m]\u001b[49m\u001b[43m(\u001b[49m\u001b[38;5;28;43mself\u001b[39;49m\u001b[43m,\u001b[49m\u001b[43m \u001b[49m\u001b[43mdata\u001b[49m\u001b[43m)\u001b[49m\n\u001b[1;32m     49\u001b[0m \u001b[38;5;28;01melse\u001b[39;00m:\n\u001b[1;32m     50\u001b[0m     \u001b[38;5;28;01mfor\u001b[39;00m data_type \u001b[38;5;129;01min\u001b[39;00m data_types:\n",
      "File \u001b[0;32m~/mambaforge/lib/python3.12/site-packages/yaml/representer.py:207\u001b[0m, in \u001b[0;36mSafeRepresenter.represent_dict\u001b[0;34m(self, data)\u001b[0m\n\u001b[1;32m    206\u001b[0m \u001b[38;5;28;01mdef\u001b[39;00m\u001b[38;5;250m \u001b[39m\u001b[38;5;21mrepresent_dict\u001b[39m(\u001b[38;5;28mself\u001b[39m, data):\n\u001b[0;32m--> 207\u001b[0m     \u001b[38;5;28;01mreturn\u001b[39;00m \u001b[38;5;28;43mself\u001b[39;49m\u001b[38;5;241;43m.\u001b[39;49m\u001b[43mrepresent_mapping\u001b[49m\u001b[43m(\u001b[49m\u001b[38;5;124;43m'\u001b[39;49m\u001b[38;5;124;43mtag:yaml.org,2002:map\u001b[39;49m\u001b[38;5;124;43m'\u001b[39;49m\u001b[43m,\u001b[49m\u001b[43m \u001b[49m\u001b[43mdata\u001b[49m\u001b[43m)\u001b[49m\n",
      "File \u001b[0;32m~/mambaforge/lib/python3.12/site-packages/yaml/representer.py:118\u001b[0m, in \u001b[0;36mBaseRepresenter.represent_mapping\u001b[0;34m(self, tag, mapping, flow_style)\u001b[0m\n\u001b[1;32m    116\u001b[0m \u001b[38;5;28;01mfor\u001b[39;00m item_key, item_value \u001b[38;5;129;01min\u001b[39;00m mapping:\n\u001b[1;32m    117\u001b[0m     node_key \u001b[38;5;241m=\u001b[39m \u001b[38;5;28mself\u001b[39m\u001b[38;5;241m.\u001b[39mrepresent_data(item_key)\n\u001b[0;32m--> 118\u001b[0m     node_value \u001b[38;5;241m=\u001b[39m \u001b[38;5;28;43mself\u001b[39;49m\u001b[38;5;241;43m.\u001b[39;49m\u001b[43mrepresent_data\u001b[49m\u001b[43m(\u001b[49m\u001b[43mitem_value\u001b[49m\u001b[43m)\u001b[49m\n\u001b[1;32m    119\u001b[0m     \u001b[38;5;28;01mif\u001b[39;00m \u001b[38;5;129;01mnot\u001b[39;00m (\u001b[38;5;28misinstance\u001b[39m(node_key, ScalarNode) \u001b[38;5;129;01mand\u001b[39;00m \u001b[38;5;129;01mnot\u001b[39;00m node_key\u001b[38;5;241m.\u001b[39mstyle):\n\u001b[1;32m    120\u001b[0m         best_style \u001b[38;5;241m=\u001b[39m \u001b[38;5;28;01mFalse\u001b[39;00m\n",
      "    \u001b[0;31m[... skipping similar frames: AiiDADumper.represent_data at line 186 (4 times), BaseRepresenter.represent_data at line 48 (3 times), SafeRepresenter.represent_dict at line 207 (3 times), BaseRepresenter.represent_mapping at line 118 (3 times)]\u001b[0m\n",
      "File \u001b[0;32m~/mambaforge/lib/python3.12/site-packages/yaml/representer.py:52\u001b[0m, in \u001b[0;36mBaseRepresenter.represent_data\u001b[0;34m(self, data)\u001b[0m\n\u001b[1;32m     50\u001b[0m \u001b[38;5;28;01mfor\u001b[39;00m data_type \u001b[38;5;129;01min\u001b[39;00m data_types:\n\u001b[1;32m     51\u001b[0m     \u001b[38;5;28;01mif\u001b[39;00m data_type \u001b[38;5;129;01min\u001b[39;00m \u001b[38;5;28mself\u001b[39m\u001b[38;5;241m.\u001b[39myaml_multi_representers:\n\u001b[0;32m---> 52\u001b[0m         node \u001b[38;5;241m=\u001b[39m \u001b[38;5;28;43mself\u001b[39;49m\u001b[38;5;241;43m.\u001b[39;49m\u001b[43myaml_multi_representers\u001b[49m\u001b[43m[\u001b[49m\u001b[43mdata_type\u001b[49m\u001b[43m]\u001b[49m\u001b[43m(\u001b[49m\u001b[38;5;28;43mself\u001b[39;49m\u001b[43m,\u001b[49m\u001b[43m \u001b[49m\u001b[43mdata\u001b[49m\u001b[43m)\u001b[49m\n\u001b[1;32m     53\u001b[0m         \u001b[38;5;28;01mbreak\u001b[39;00m\n\u001b[1;32m     54\u001b[0m \u001b[38;5;28;01melse\u001b[39;00m:\n",
      "File \u001b[0;32m~/mambaforge/lib/python3.12/site-packages/yaml/representer.py:342\u001b[0m, in \u001b[0;36mRepresenter.represent_object\u001b[0;34m(self, data)\u001b[0m\n\u001b[1;32m    339\u001b[0m function_name \u001b[38;5;241m=\u001b[39m \u001b[38;5;124m'\u001b[39m\u001b[38;5;132;01m%s\u001b[39;00m\u001b[38;5;124m.\u001b[39m\u001b[38;5;132;01m%s\u001b[39;00m\u001b[38;5;124m'\u001b[39m \u001b[38;5;241m%\u001b[39m (function\u001b[38;5;241m.\u001b[39m\u001b[38;5;18m__module__\u001b[39m, function\u001b[38;5;241m.\u001b[39m\u001b[38;5;18m__name__\u001b[39m)\n\u001b[1;32m    340\u001b[0m \u001b[38;5;28;01mif\u001b[39;00m \u001b[38;5;129;01mnot\u001b[39;00m args \u001b[38;5;129;01mand\u001b[39;00m \u001b[38;5;129;01mnot\u001b[39;00m listitems \u001b[38;5;129;01mand\u001b[39;00m \u001b[38;5;129;01mnot\u001b[39;00m dictitems \\\n\u001b[1;32m    341\u001b[0m         \u001b[38;5;129;01mand\u001b[39;00m \u001b[38;5;28misinstance\u001b[39m(state, \u001b[38;5;28mdict\u001b[39m) \u001b[38;5;129;01mand\u001b[39;00m newobj:\n\u001b[0;32m--> 342\u001b[0m     \u001b[38;5;28;01mreturn\u001b[39;00m \u001b[38;5;28;43mself\u001b[39;49m\u001b[38;5;241;43m.\u001b[39;49m\u001b[43mrepresent_mapping\u001b[49m\u001b[43m(\u001b[49m\n\u001b[1;32m    343\u001b[0m \u001b[43m            \u001b[49m\u001b[38;5;124;43m'\u001b[39;49m\u001b[38;5;124;43mtag:yaml.org,2002:python/object:\u001b[39;49m\u001b[38;5;124;43m'\u001b[39;49m\u001b[38;5;241;43m+\u001b[39;49m\u001b[43mfunction_name\u001b[49m\u001b[43m,\u001b[49m\u001b[43m \u001b[49m\u001b[43mstate\u001b[49m\u001b[43m)\u001b[49m\n\u001b[1;32m    344\u001b[0m \u001b[38;5;28;01mif\u001b[39;00m \u001b[38;5;129;01mnot\u001b[39;00m listitems \u001b[38;5;129;01mand\u001b[39;00m \u001b[38;5;129;01mnot\u001b[39;00m dictitems  \\\n\u001b[1;32m    345\u001b[0m         \u001b[38;5;129;01mand\u001b[39;00m \u001b[38;5;28misinstance\u001b[39m(state, \u001b[38;5;28mdict\u001b[39m) \u001b[38;5;129;01mand\u001b[39;00m \u001b[38;5;129;01mnot\u001b[39;00m state:\n\u001b[1;32m    346\u001b[0m     \u001b[38;5;28;01mreturn\u001b[39;00m \u001b[38;5;28mself\u001b[39m\u001b[38;5;241m.\u001b[39mrepresent_sequence(tag\u001b[38;5;241m+\u001b[39mfunction_name, args)\n",
      "    \u001b[0;31m[... skipping similar frames: AiiDADumper.represent_data at line 186 (1 times), BaseRepresenter.represent_mapping at line 118 (1 times)]\u001b[0m\n",
      "File \u001b[0;32m~/mambaforge/lib/python3.12/site-packages/yaml/representer.py:52\u001b[0m, in \u001b[0;36mBaseRepresenter.represent_data\u001b[0;34m(self, data)\u001b[0m\n\u001b[1;32m     50\u001b[0m \u001b[38;5;28;01mfor\u001b[39;00m data_type \u001b[38;5;129;01min\u001b[39;00m data_types:\n\u001b[1;32m     51\u001b[0m     \u001b[38;5;28;01mif\u001b[39;00m data_type \u001b[38;5;129;01min\u001b[39;00m \u001b[38;5;28mself\u001b[39m\u001b[38;5;241m.\u001b[39myaml_multi_representers:\n\u001b[0;32m---> 52\u001b[0m         node \u001b[38;5;241m=\u001b[39m \u001b[38;5;28;43mself\u001b[39;49m\u001b[38;5;241;43m.\u001b[39;49m\u001b[43myaml_multi_representers\u001b[49m\u001b[43m[\u001b[49m\u001b[43mdata_type\u001b[49m\u001b[43m]\u001b[49m\u001b[43m(\u001b[49m\u001b[38;5;28;43mself\u001b[39;49m\u001b[43m,\u001b[49m\u001b[43m \u001b[49m\u001b[43mdata\u001b[49m\u001b[43m)\u001b[49m\n\u001b[1;32m     53\u001b[0m         \u001b[38;5;28;01mbreak\u001b[39;00m\n\u001b[1;32m     54\u001b[0m \u001b[38;5;28;01melse\u001b[39;00m:\n",
      "File \u001b[0;32m~/mambaforge/lib/python3.12/site-packages/yaml/representer.py:342\u001b[0m, in \u001b[0;36mRepresenter.represent_object\u001b[0;34m(self, data)\u001b[0m\n\u001b[1;32m    339\u001b[0m function_name \u001b[38;5;241m=\u001b[39m \u001b[38;5;124m'\u001b[39m\u001b[38;5;132;01m%s\u001b[39;00m\u001b[38;5;124m.\u001b[39m\u001b[38;5;132;01m%s\u001b[39;00m\u001b[38;5;124m'\u001b[39m \u001b[38;5;241m%\u001b[39m (function\u001b[38;5;241m.\u001b[39m\u001b[38;5;18m__module__\u001b[39m, function\u001b[38;5;241m.\u001b[39m\u001b[38;5;18m__name__\u001b[39m)\n\u001b[1;32m    340\u001b[0m \u001b[38;5;28;01mif\u001b[39;00m \u001b[38;5;129;01mnot\u001b[39;00m args \u001b[38;5;129;01mand\u001b[39;00m \u001b[38;5;129;01mnot\u001b[39;00m listitems \u001b[38;5;129;01mand\u001b[39;00m \u001b[38;5;129;01mnot\u001b[39;00m dictitems \\\n\u001b[1;32m    341\u001b[0m         \u001b[38;5;129;01mand\u001b[39;00m \u001b[38;5;28misinstance\u001b[39m(state, \u001b[38;5;28mdict\u001b[39m) \u001b[38;5;129;01mand\u001b[39;00m newobj:\n\u001b[0;32m--> 342\u001b[0m     \u001b[38;5;28;01mreturn\u001b[39;00m \u001b[38;5;28;43mself\u001b[39;49m\u001b[38;5;241;43m.\u001b[39;49m\u001b[43mrepresent_mapping\u001b[49m\u001b[43m(\u001b[49m\n\u001b[1;32m    343\u001b[0m \u001b[43m            \u001b[49m\u001b[38;5;124;43m'\u001b[39;49m\u001b[38;5;124;43mtag:yaml.org,2002:python/object:\u001b[39;49m\u001b[38;5;124;43m'\u001b[39;49m\u001b[38;5;241;43m+\u001b[39;49m\u001b[43mfunction_name\u001b[49m\u001b[43m,\u001b[49m\u001b[43m \u001b[49m\u001b[43mstate\u001b[49m\u001b[43m)\u001b[49m\n\u001b[1;32m    344\u001b[0m \u001b[38;5;28;01mif\u001b[39;00m \u001b[38;5;129;01mnot\u001b[39;00m listitems \u001b[38;5;129;01mand\u001b[39;00m \u001b[38;5;129;01mnot\u001b[39;00m dictitems  \\\n\u001b[1;32m    345\u001b[0m         \u001b[38;5;129;01mand\u001b[39;00m \u001b[38;5;28misinstance\u001b[39m(state, \u001b[38;5;28mdict\u001b[39m) \u001b[38;5;129;01mand\u001b[39;00m \u001b[38;5;129;01mnot\u001b[39;00m state:\n\u001b[1;32m    346\u001b[0m     \u001b[38;5;28;01mreturn\u001b[39;00m \u001b[38;5;28mself\u001b[39m\u001b[38;5;241m.\u001b[39mrepresent_sequence(tag\u001b[38;5;241m+\u001b[39mfunction_name, args)\n",
      "    \u001b[0;31m[... skipping similar frames: AiiDADumper.represent_data at line 186 (2 times), BaseRepresenter.represent_mapping at line 118 (2 times), BaseRepresenter.represent_data at line 52 (1 times), Representer.represent_object at line 342 (1 times)]\u001b[0m\n",
      "File \u001b[0;32m~/mambaforge/lib/python3.12/site-packages/yaml/representer.py:48\u001b[0m, in \u001b[0;36mBaseRepresenter.represent_data\u001b[0;34m(self, data)\u001b[0m\n\u001b[1;32m     46\u001b[0m data_types \u001b[38;5;241m=\u001b[39m \u001b[38;5;28mtype\u001b[39m(data)\u001b[38;5;241m.\u001b[39m\u001b[38;5;18m__mro__\u001b[39m\n\u001b[1;32m     47\u001b[0m \u001b[38;5;28;01mif\u001b[39;00m data_types[\u001b[38;5;241m0\u001b[39m] \u001b[38;5;129;01min\u001b[39;00m \u001b[38;5;28mself\u001b[39m\u001b[38;5;241m.\u001b[39myaml_representers:\n\u001b[0;32m---> 48\u001b[0m     node \u001b[38;5;241m=\u001b[39m \u001b[38;5;28;43mself\u001b[39;49m\u001b[38;5;241;43m.\u001b[39;49m\u001b[43myaml_representers\u001b[49m\u001b[43m[\u001b[49m\u001b[43mdata_types\u001b[49m\u001b[43m[\u001b[49m\u001b[38;5;241;43m0\u001b[39;49m\u001b[43m]\u001b[49m\u001b[43m]\u001b[49m\u001b[43m(\u001b[49m\u001b[38;5;28;43mself\u001b[39;49m\u001b[43m,\u001b[49m\u001b[43m \u001b[49m\u001b[43mdata\u001b[49m\u001b[43m)\u001b[49m\n\u001b[1;32m     49\u001b[0m \u001b[38;5;28;01melse\u001b[39;00m:\n\u001b[1;32m     50\u001b[0m     \u001b[38;5;28;01mfor\u001b[39;00m data_type \u001b[38;5;129;01min\u001b[39;00m data_types:\n",
      "File \u001b[0;32m~/mambaforge/lib/python3.12/site-packages/yaml/representer.py:207\u001b[0m, in \u001b[0;36mSafeRepresenter.represent_dict\u001b[0;34m(self, data)\u001b[0m\n\u001b[1;32m    206\u001b[0m \u001b[38;5;28;01mdef\u001b[39;00m\u001b[38;5;250m \u001b[39m\u001b[38;5;21mrepresent_dict\u001b[39m(\u001b[38;5;28mself\u001b[39m, data):\n\u001b[0;32m--> 207\u001b[0m     \u001b[38;5;28;01mreturn\u001b[39;00m \u001b[38;5;28;43mself\u001b[39;49m\u001b[38;5;241;43m.\u001b[39;49m\u001b[43mrepresent_mapping\u001b[49m\u001b[43m(\u001b[49m\u001b[38;5;124;43m'\u001b[39;49m\u001b[38;5;124;43mtag:yaml.org,2002:map\u001b[39;49m\u001b[38;5;124;43m'\u001b[39;49m\u001b[43m,\u001b[49m\u001b[43m \u001b[49m\u001b[43mdata\u001b[49m\u001b[43m)\u001b[49m\n",
      "    \u001b[0;31m[... skipping similar frames: AiiDADumper.represent_data at line 186 (3 times), BaseRepresenter.represent_data at line 52 (3 times), BaseRepresenter.represent_mapping at line 118 (3 times), Representer.represent_object at line 342 (2 times)]\u001b[0m\n",
      "File \u001b[0;32m~/mambaforge/lib/python3.12/site-packages/yaml/representer.py:342\u001b[0m, in \u001b[0;36mRepresenter.represent_object\u001b[0;34m(self, data)\u001b[0m\n\u001b[1;32m    339\u001b[0m function_name \u001b[38;5;241m=\u001b[39m \u001b[38;5;124m'\u001b[39m\u001b[38;5;132;01m%s\u001b[39;00m\u001b[38;5;124m.\u001b[39m\u001b[38;5;132;01m%s\u001b[39;00m\u001b[38;5;124m'\u001b[39m \u001b[38;5;241m%\u001b[39m (function\u001b[38;5;241m.\u001b[39m\u001b[38;5;18m__module__\u001b[39m, function\u001b[38;5;241m.\u001b[39m\u001b[38;5;18m__name__\u001b[39m)\n\u001b[1;32m    340\u001b[0m \u001b[38;5;28;01mif\u001b[39;00m \u001b[38;5;129;01mnot\u001b[39;00m args \u001b[38;5;129;01mand\u001b[39;00m \u001b[38;5;129;01mnot\u001b[39;00m listitems \u001b[38;5;129;01mand\u001b[39;00m \u001b[38;5;129;01mnot\u001b[39;00m dictitems \\\n\u001b[1;32m    341\u001b[0m         \u001b[38;5;129;01mand\u001b[39;00m \u001b[38;5;28misinstance\u001b[39m(state, \u001b[38;5;28mdict\u001b[39m) \u001b[38;5;129;01mand\u001b[39;00m newobj:\n\u001b[0;32m--> 342\u001b[0m     \u001b[38;5;28;01mreturn\u001b[39;00m \u001b[38;5;28;43mself\u001b[39;49m\u001b[38;5;241;43m.\u001b[39;49m\u001b[43mrepresent_mapping\u001b[49m\u001b[43m(\u001b[49m\n\u001b[1;32m    343\u001b[0m \u001b[43m            \u001b[49m\u001b[38;5;124;43m'\u001b[39;49m\u001b[38;5;124;43mtag:yaml.org,2002:python/object:\u001b[39;49m\u001b[38;5;124;43m'\u001b[39;49m\u001b[38;5;241;43m+\u001b[39;49m\u001b[43mfunction_name\u001b[49m\u001b[43m,\u001b[49m\u001b[43m \u001b[49m\u001b[43mstate\u001b[49m\u001b[43m)\u001b[49m\n\u001b[1;32m    344\u001b[0m \u001b[38;5;28;01mif\u001b[39;00m \u001b[38;5;129;01mnot\u001b[39;00m listitems \u001b[38;5;129;01mand\u001b[39;00m \u001b[38;5;129;01mnot\u001b[39;00m dictitems  \\\n\u001b[1;32m    345\u001b[0m         \u001b[38;5;129;01mand\u001b[39;00m \u001b[38;5;28misinstance\u001b[39m(state, \u001b[38;5;28mdict\u001b[39m) \u001b[38;5;129;01mand\u001b[39;00m \u001b[38;5;129;01mnot\u001b[39;00m state:\n\u001b[1;32m    346\u001b[0m     \u001b[38;5;28;01mreturn\u001b[39;00m \u001b[38;5;28mself\u001b[39m\u001b[38;5;241m.\u001b[39mrepresent_sequence(tag\u001b[38;5;241m+\u001b[39mfunction_name, args)\n",
      "File \u001b[0;32m~/mambaforge/lib/python3.12/site-packages/yaml/representer.py:118\u001b[0m, in \u001b[0;36mBaseRepresenter.represent_mapping\u001b[0;34m(self, tag, mapping, flow_style)\u001b[0m\n\u001b[1;32m    116\u001b[0m \u001b[38;5;28;01mfor\u001b[39;00m item_key, item_value \u001b[38;5;129;01min\u001b[39;00m mapping:\n\u001b[1;32m    117\u001b[0m     node_key \u001b[38;5;241m=\u001b[39m \u001b[38;5;28mself\u001b[39m\u001b[38;5;241m.\u001b[39mrepresent_data(item_key)\n\u001b[0;32m--> 118\u001b[0m     node_value \u001b[38;5;241m=\u001b[39m \u001b[38;5;28;43mself\u001b[39;49m\u001b[38;5;241;43m.\u001b[39;49m\u001b[43mrepresent_data\u001b[49m\u001b[43m(\u001b[49m\u001b[43mitem_value\u001b[49m\u001b[43m)\u001b[49m\n\u001b[1;32m    119\u001b[0m     \u001b[38;5;28;01mif\u001b[39;00m \u001b[38;5;129;01mnot\u001b[39;00m (\u001b[38;5;28misinstance\u001b[39m(node_key, ScalarNode) \u001b[38;5;129;01mand\u001b[39;00m \u001b[38;5;129;01mnot\u001b[39;00m node_key\u001b[38;5;241m.\u001b[39mstyle):\n\u001b[1;32m    120\u001b[0m         best_style \u001b[38;5;241m=\u001b[39m \u001b[38;5;28;01mFalse\u001b[39;00m\n",
      "File \u001b[0;32m~/mambaforge/lib/python3.12/site-packages/aiida/orm/utils/serialize.py:186\u001b[0m, in \u001b[0;36mAiiDADumper.represent_data\u001b[0;34m(self, data)\u001b[0m\n\u001b[1;32m    183\u001b[0m \u001b[38;5;28;01mif\u001b[39;00m is_dataclass(data) \u001b[38;5;129;01mand\u001b[39;00m \u001b[38;5;129;01mnot\u001b[39;00m inspect\u001b[38;5;241m.\u001b[39misclass(data):\n\u001b[1;32m    184\u001b[0m     \u001b[38;5;28;01mreturn\u001b[39;00m represent_dataclass(\u001b[38;5;28mself\u001b[39m, data)\n\u001b[0;32m--> 186\u001b[0m \u001b[38;5;28;01mreturn\u001b[39;00m \u001b[38;5;28;43msuper\u001b[39;49m\u001b[43m(\u001b[49m\u001b[43m)\u001b[49m\u001b[38;5;241;43m.\u001b[39;49m\u001b[43mrepresent_data\u001b[49m\u001b[43m(\u001b[49m\u001b[43mdata\u001b[49m\u001b[43m)\u001b[49m\n",
      "File \u001b[0;32m~/mambaforge/lib/python3.12/site-packages/yaml/representer.py:52\u001b[0m, in \u001b[0;36mBaseRepresenter.represent_data\u001b[0;34m(self, data)\u001b[0m\n\u001b[1;32m     50\u001b[0m \u001b[38;5;28;01mfor\u001b[39;00m data_type \u001b[38;5;129;01min\u001b[39;00m data_types:\n\u001b[1;32m     51\u001b[0m     \u001b[38;5;28;01mif\u001b[39;00m data_type \u001b[38;5;129;01min\u001b[39;00m \u001b[38;5;28mself\u001b[39m\u001b[38;5;241m.\u001b[39myaml_multi_representers:\n\u001b[0;32m---> 52\u001b[0m         node \u001b[38;5;241m=\u001b[39m \u001b[38;5;28;43mself\u001b[39;49m\u001b[38;5;241;43m.\u001b[39;49m\u001b[43myaml_multi_representers\u001b[49m\u001b[43m[\u001b[49m\u001b[43mdata_type\u001b[49m\u001b[43m]\u001b[49m\u001b[43m(\u001b[49m\u001b[38;5;28;43mself\u001b[39;49m\u001b[43m,\u001b[49m\u001b[43m \u001b[49m\u001b[43mdata\u001b[49m\u001b[43m)\u001b[49m\n\u001b[1;32m     53\u001b[0m         \u001b[38;5;28;01mbreak\u001b[39;00m\n\u001b[1;32m     54\u001b[0m \u001b[38;5;28;01melse\u001b[39;00m:\n",
      "File \u001b[0;32m~/mambaforge/lib/python3.12/site-packages/yaml/representer.py:317\u001b[0m, in \u001b[0;36mRepresenter.represent_object\u001b[0;34m(self, data)\u001b[0m\n\u001b[1;32m    315\u001b[0m     reduce \u001b[38;5;241m=\u001b[39m copyreg\u001b[38;5;241m.\u001b[39mdispatch_table[\u001b[38;5;28mcls\u001b[39m](data)\n\u001b[1;32m    316\u001b[0m \u001b[38;5;28;01melif\u001b[39;00m \u001b[38;5;28mhasattr\u001b[39m(data, \u001b[38;5;124m'\u001b[39m\u001b[38;5;124m__reduce_ex__\u001b[39m\u001b[38;5;124m'\u001b[39m):\n\u001b[0;32m--> 317\u001b[0m     reduce \u001b[38;5;241m=\u001b[39m \u001b[43mdata\u001b[49m\u001b[38;5;241;43m.\u001b[39;49m\u001b[43m__reduce_ex__\u001b[49m\u001b[43m(\u001b[49m\u001b[38;5;241;43m2\u001b[39;49m\u001b[43m)\u001b[49m\n\u001b[1;32m    318\u001b[0m \u001b[38;5;28;01melif\u001b[39;00m \u001b[38;5;28mhasattr\u001b[39m(data, \u001b[38;5;124m'\u001b[39m\u001b[38;5;124m__reduce__\u001b[39m\u001b[38;5;124m'\u001b[39m):\n\u001b[1;32m    319\u001b[0m     reduce \u001b[38;5;241m=\u001b[39m data\u001b[38;5;241m.\u001b[39m__reduce__()\n",
      "\u001b[0;31mTypeError\u001b[0m: cannot pickle '_thread.RLock' object"
     ]
    }
   ],
   "source": [
    "wg.run()"
   ]
  },
  {
   "cell_type": "code",
   "execution_count": null,
   "id": "f2533e4d-5da7-4ea2-b31d-08f251a17e47",
   "metadata": {},
   "outputs": [],
   "source": [
    "plot.outputs.result"
   ]
  },
  {
   "cell_type": "code",
   "execution_count": null,
   "id": "83bdc992-0bbe-4f70-828b-440b12ba32d9",
   "metadata": {},
   "outputs": [],
   "source": []
  }
 ],
 "metadata": {
  "kernelspec": {
   "display_name": "Python 3 (ipykernel)",
   "language": "python",
   "name": "python3"
  },
  "language_info": {
   "codemirror_mode": {
    "name": "ipython",
    "version": 3
   },
   "file_extension": ".py",
   "mimetype": "text/x-python",
   "name": "python",
   "nbconvert_exporter": "python",
   "pygments_lexer": "ipython3",
   "version": "3.12.8"
  }
 },
 "nbformat": 4,
 "nbformat_minor": 5
}
