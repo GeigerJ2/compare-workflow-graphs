{
 "cells": [
  {
   "cell_type": "code",
   "execution_count": 1,
   "id": "8676f0ca-5b34-4867-a32d-928f37fb0ed2",
   "metadata": {},
   "outputs": [],
   "source": [
    "from importlib import import_module"
   ]
  },
  {
   "cell_type": "code",
   "execution_count": 2,
   "id": "58df36ba-8d6f-4748-8fd5-15f8a851af5f",
   "metadata": {},
   "outputs": [],
   "source": [
    "from inspect import isfunction"
   ]
  },
  {
   "cell_type": "code",
   "execution_count": 3,
   "id": "1bd1f75c-a07f-48c9-ae56-22ba674d6d3a",
   "metadata": {},
   "outputs": [],
   "source": [
    "from jobflow import job, Flow\n",
    "from jobflow.managers.local import run_locally"
   ]
  },
  {
   "cell_type": "code",
   "execution_count": 4,
   "id": "c8490247-4071-4108-ba4c-47fa73b8f34e",
   "metadata": {},
   "outputs": [],
   "source": [
    "def get_kwargs(lst):\n",
    "    return {t['targetHandle']: {'source': t['source'], 'sourceHandle': t['sourceHandle']} for t in lst}"
   ]
  },
  {
   "cell_type": "code",
   "execution_count": 5,
   "id": "5bc6fa2b-5faa-4db8-ba8b-b275fb61ba7d",
   "metadata": {},
   "outputs": [],
   "source": [
    "def group_edges(edges_lst):\n",
    "    # edges_sorted_lst = sorted(edges_lst, key=lambda x: x['target'], reverse=True)     \n",
    "    total_dict = {}\n",
    "    tmp_lst = []\n",
    "    target_id = edges_lst[0]['target'] \n",
    "    for ed in edges_lst:\n",
    "        if target_id == ed[\"target\"]:\n",
    "            tmp_lst.append(ed)\n",
    "        else:\n",
    "            total_dict[target_id] = get_kwargs(lst=tmp_lst)\n",
    "            target_id = ed[\"target\"]\n",
    "            tmp_lst = [ed]\n",
    "    total_dict[target_id] = get_kwargs(lst=tmp_lst)\n",
    "    return total_dict"
   ]
  },
  {
   "cell_type": "code",
   "execution_count": 6,
   "id": "023382c1-e812-4023-b100-3fd7b7bc840a",
   "metadata": {},
   "outputs": [],
   "source": [
    "def get_input_dict(nodes_dict):\n",
    "    return {k:v for k, v in nodes_dict.items() if not isfunction(v)}"
   ]
  },
  {
   "cell_type": "code",
   "execution_count": 7,
   "id": "a934964d-127a-49d1-9634-b3c8ee2e50b0",
   "metadata": {},
   "outputs": [],
   "source": [
    "def get_workflow(nodes_dict, input_dict, total_dict):\n",
    "    memory_dict = {}\n",
    "    for k, v in nodes_dict.items():\n",
    "        if isfunction(v):\n",
    "            fn = job(v)\n",
    "            kwargs = {\n",
    "                kw: input_dict[vw['source']] if vw['source'] in input_dict else getattr(memory_dict[vw['source']], \"output\") \n",
    "                for kw, vw in total_dict[k].items()\n",
    "            }\n",
    "            memory_dict[k] = fn(**kwargs)\n",
    "    return list(memory_dict.values())"
   ]
  },
  {
   "cell_type": "code",
   "execution_count": 8,
   "id": "0ae0fde2-2851-484f-8d76-8e4ae3bfabc6",
   "metadata": {},
   "outputs": [],
   "source": [
    "def get_source_handles(edges_lst):\n",
    "    source_handle_dict = {}\n",
    "    for ed in edges_lst: \n",
    "        if ed['source'] not in source_handle_dict.keys():\n",
    "            source_handle_dict[ed['source']] = [ed['sourceHandle']]\n",
    "        else:\n",
    "            source_handle_dict[ed['source']].append(ed['sourceHandle'])\n",
    "    return source_handle_dict"
   ]
  },
  {
   "cell_type": "code",
   "execution_count": 9,
   "id": "3733d827-4647-4426-a0bf-2d7369698556",
   "metadata": {},
   "outputs": [],
   "source": [
    "def remove_source_handles(nodes_dict, edges_lst):\n",
    "    nodes_updated_dict = {}\n",
    "    translate_dict = {}\n",
    "    i = 0\n",
    "    for k, v in nodes_dict.items():\n",
    "        if not isfunction(v):\n",
    "            nodes_updated_dict[i] = v\n",
    "            translate_dict[k] = i\n",
    "            i +=1\n",
    "\n",
    "    edges_updated_lst = []\n",
    "    i = len(nodes_updated_dict)\n",
    "    source_handle_dict = get_source_handles(edges_lst=edges_lst)\n",
    "    for k, v in nodes_dict.items():\n",
    "        if k not in translate_dict.keys():\n",
    "            edges_to_be_updated_dict = {}\n",
    "            for ed in edges_lst:\n",
    "                if ed[\"target\"] == k and ed['sourceHandle'] is None:\n",
    "                    edges_updated_lst.append({'target': i, 'targetHandle': ed['targetHandle'], 'source': translate_dict[ed['source']], 'sourceHandle': None})\n",
    "                elif ed[\"target\"] == k and ed['sourceHandle'] is not None:\n",
    "                    nodes_updated_dict[i] = ed['sourceHandle']\n",
    "                    source_handle_index = i\n",
    "                    i += 1\n",
    "                    new_item = source_handle_dict[ed['source']]\n",
    "                    if new_item not in nodes_updated_dict.values():\n",
    "                        nodes_updated_dict[i] = new_item\n",
    "                        output_label_index = i\n",
    "                        i += 1\n",
    "                    else:\n",
    "                        for kn, vn in nodes_updated_dict.items():\n",
    "                            if vn == new_item:\n",
    "                                output_label_index = kn\n",
    "                    nodes_updated_dict[i] = get_item_from_tuple\n",
    "                    edges_updated_lst.append({'target': i, 'targetHandle': 'input_obj', 'source': translate_dict[ed['source']], 'sourceHandle': None})\n",
    "                    edges_updated_lst.append({'target': i, 'targetHandle': 'index', 'source': source_handle_index, 'sourceHandle': None})\n",
    "                    edges_updated_lst.append({'target': i, 'targetHandle': 'index_lst', 'source': output_label_index, 'sourceHandle': None})\n",
    "                    edges_to_be_updated_dict[i] = ed\n",
    "                    i += 1\n",
    "            nodes_updated_dict[i] = v\n",
    "            translate_dict[k] = i\n",
    "            for k, v in edges_to_be_updated_dict.items():\n",
    "                edges_updated_lst.append({'target': i, 'targetHandle': v['targetHandle'], 'source': k, 'sourceHandle': None})\n",
    "            i += 1\n",
    "\n",
    "    return nodes_updated_dict, edges_updated_lst"
   ]
  },
  {
   "cell_type": "code",
   "execution_count": 10,
   "id": "f3f2f1ae-0fa5-4982-8eec-f820bbd75173",
   "metadata": {},
   "outputs": [],
   "source": [
    "def universal_reduce(nodes_dict, edges_lst):\n",
    "    edges_with_source_handles_lst = [ed for ed in edges_lst if ed['sourceHandle'] is not None]\n",
    "    if len(edges_with_source_handles_lst) > 0:\n",
    "        return remove_source_handles(nodes_dict=nodes_dict, edges_lst=edges_lst)\n",
    "    else:\n",
    "        return nodes_dict, edges_lst"
   ]
  },
  {
   "cell_type": "code",
   "execution_count": 11,
   "id": "af51be8c-a43e-4ebb-9ad9-78f98f7c0a20",
   "metadata": {},
   "outputs": [],
   "source": [
    "def get_item_from_tuple(input_obj, index, index_lst):\n",
    "    if isinstance(input_obj, dict):  \n",
    "        return input_obj[index]\n",
    "    else:  # input_obj is a tuple\n",
    "        return list(input_obj)[index_lst.index(index)]"
   ]
  },
  {
   "cell_type": "code",
   "execution_count": 12,
   "id": "a0ec8e80-06eb-4d0e-b7cf-9b27682951dc",
   "metadata": {},
   "outputs": [],
   "source": [
    "def add_xy(x, y):\n",
    "    return x + y, x, y"
   ]
  },
  {
   "cell_type": "code",
   "execution_count": 13,
   "id": "b7934782-e5fe-44b2-a3c8-ab7cd0e0118f",
   "metadata": {},
   "outputs": [],
   "source": [
    "def add_xyz(x, y, z):\n",
    "    return x + y + z"
   ]
  },
  {
   "cell_type": "code",
   "execution_count": 14,
   "id": "df6f57f0-a911-4c0a-ad37-d7481e6a7f5a",
   "metadata": {},
   "outputs": [],
   "source": [
    "nodes_dict = {\n",
    "    0: add_xy,\n",
    "    1: add_xyz,\n",
    "    2: 1,\n",
    "    3: 2,\n",
    "}"
   ]
  },
  {
   "cell_type": "code",
   "execution_count": 15,
   "id": "d98076b7-54b0-48a6-bf8f-dd50a8ac41e9",
   "metadata": {},
   "outputs": [],
   "source": [
    "edges_lst = [\n",
    "    {'target': 1, 'targetHandle': 'x', 'source': 0, 'sourceHandle': 'x'},\n",
    "    {'target': 1, 'targetHandle': 'y', 'source': 0, 'sourceHandle': 'y'},\n",
    "    {'target': 1, 'targetHandle': 'z', 'source': 0, 'sourceHandle': 'z'},\n",
    "    {'target': 0, 'targetHandle': 'x', 'source': 2, 'sourceHandle': None},\n",
    "    {'target': 0, 'targetHandle': 'y', 'source': 3, 'sourceHandle': None},\n",
    "]"
   ]
  },
  {
   "cell_type": "code",
   "execution_count": 16,
   "id": "347798c3-5a0d-46e5-9c03-cbcff40b39b8",
   "metadata": {},
   "outputs": [
    {
     "data": {
      "text/plain": [
       "({0: 1,\n",
       "  1: 2,\n",
       "  2: <function __main__.add_xy(x, y)>,\n",
       "  3: 'x',\n",
       "  4: ['x', 'y', 'z'],\n",
       "  5: <function __main__.get_item_from_tuple(input_obj, index, index_lst)>,\n",
       "  6: 'y',\n",
       "  7: <function __main__.get_item_from_tuple(input_obj, index, index_lst)>,\n",
       "  8: 'z',\n",
       "  9: <function __main__.get_item_from_tuple(input_obj, index, index_lst)>,\n",
       "  10: <function __main__.add_xyz(x, y, z)>},\n",
       " [{'target': 2, 'targetHandle': 'x', 'source': 0, 'sourceHandle': None},\n",
       "  {'target': 2, 'targetHandle': 'y', 'source': 1, 'sourceHandle': None},\n",
       "  {'target': 5,\n",
       "   'targetHandle': 'input_obj',\n",
       "   'source': 2,\n",
       "   'sourceHandle': None},\n",
       "  {'target': 5, 'targetHandle': 'index', 'source': 3, 'sourceHandle': None},\n",
       "  {'target': 5,\n",
       "   'targetHandle': 'index_lst',\n",
       "   'source': 4,\n",
       "   'sourceHandle': None},\n",
       "  {'target': 7,\n",
       "   'targetHandle': 'input_obj',\n",
       "   'source': 2,\n",
       "   'sourceHandle': None},\n",
       "  {'target': 7, 'targetHandle': 'index', 'source': 6, 'sourceHandle': None},\n",
       "  {'target': 7,\n",
       "   'targetHandle': 'index_lst',\n",
       "   'source': 4,\n",
       "   'sourceHandle': None},\n",
       "  {'target': 9,\n",
       "   'targetHandle': 'input_obj',\n",
       "   'source': 2,\n",
       "   'sourceHandle': None},\n",
       "  {'target': 9, 'targetHandle': 'index', 'source': 8, 'sourceHandle': None},\n",
       "  {'target': 9,\n",
       "   'targetHandle': 'index_lst',\n",
       "   'source': 4,\n",
       "   'sourceHandle': None},\n",
       "  {'target': 10, 'targetHandle': 'x', 'source': 5, 'sourceHandle': None},\n",
       "  {'target': 10, 'targetHandle': 'y', 'source': 7, 'sourceHandle': None},\n",
       "  {'target': 10, 'targetHandle': 'z', 'source': 9, 'sourceHandle': None}])"
      ]
     },
     "execution_count": 16,
     "metadata": {},
     "output_type": "execute_result"
    }
   ],
   "source": [
    "nodes_updated_dict, edges_updated_lst = universal_reduce(nodes_dict=nodes_dict, edges_lst=edges_lst)\n",
    "nodes_updated_dict, edges_updated_lst"
   ]
  },
  {
   "cell_type": "code",
   "execution_count": 17,
   "id": "d60390c3-b83a-4fdd-bd2e-48469d94dc65",
   "metadata": {},
   "outputs": [],
   "source": [
    "total_dict = group_edges(edges_lst=edges_updated_lst)\n",
    "input_dict = get_input_dict(nodes_dict=nodes_updated_dict)"
   ]
  },
  {
   "cell_type": "code",
   "execution_count": 18,
   "id": "ca88e187-1f36-4fd8-a5a7-0b8b97e71441",
   "metadata": {},
   "outputs": [],
   "source": [
    "task_lst = get_workflow(\n",
    "    nodes_dict=nodes_updated_dict, \n",
    "    input_dict=input_dict, \n",
    "    total_dict=total_dict,\n",
    ")"
   ]
  },
  {
   "cell_type": "code",
   "execution_count": 19,
   "id": "c63922d4-81fb-4fc8-b52c-b26eec68811f",
   "metadata": {},
   "outputs": [],
   "source": [
    "flow = Flow(task_lst)"
   ]
  },
  {
   "cell_type": "code",
   "execution_count": 20,
   "id": "12af9070-05af-4063-9013-1d34dde5d7bb",
   "metadata": {},
   "outputs": [
    {
     "name": "stdout",
     "output_type": "stream",
     "text": [
      "2024-11-22 13:18:36,513 INFO Started executing jobs locally\n",
      "2024-11-22 13:18:36,981 INFO Starting job - add_xy (a761851e-a5da-40a7-ba98-6339fcb0d8a3)\n",
      "2024-11-22 13:18:36,982 INFO Finished job - add_xy (a761851e-a5da-40a7-ba98-6339fcb0d8a3)\n",
      "2024-11-22 13:18:36,983 INFO Starting job - get_item_from_tuple (74437106-cdfb-4173-a490-8e7988e003d8)\n",
      "2024-11-22 13:18:36,985 INFO Finished job - get_item_from_tuple (74437106-cdfb-4173-a490-8e7988e003d8)\n",
      "2024-11-22 13:18:36,987 INFO Starting job - get_item_from_tuple (970150ce-d6b8-4788-a299-45b1912eb488)\n",
      "2024-11-22 13:18:36,989 INFO Finished job - get_item_from_tuple (970150ce-d6b8-4788-a299-45b1912eb488)\n",
      "2024-11-22 13:18:36,990 INFO Starting job - get_item_from_tuple (445e7f92-360a-42a4-823b-edee632d909e)\n",
      "2024-11-22 13:18:36,993 INFO Finished job - get_item_from_tuple (445e7f92-360a-42a4-823b-edee632d909e)\n",
      "2024-11-22 13:18:36,994 INFO Starting job - add_xyz (2b506807-75a7-41c0-9f2c-86de74449e0a)\n",
      "2024-11-22 13:18:36,998 INFO Finished job - add_xyz (2b506807-75a7-41c0-9f2c-86de74449e0a)\n",
      "2024-11-22 13:18:36,999 INFO Finished executing jobs locally\n"
     ]
    },
    {
     "data": {
      "text/plain": [
       "{'a761851e-a5da-40a7-ba98-6339fcb0d8a3': {1: Response(output=(3, 1, 2), detour=None, addition=None, replace=None, stored_data=None, stop_children=False, stop_jobflow=False, job_dir=PosixPath('/home/jan/notebooks/2024/2024-11-21-python-workflow-definition'))},\n",
       " '74437106-cdfb-4173-a490-8e7988e003d8': {1: Response(output=3, detour=None, addition=None, replace=None, stored_data=None, stop_children=False, stop_jobflow=False, job_dir=PosixPath('/home/jan/notebooks/2024/2024-11-21-python-workflow-definition'))},\n",
       " '970150ce-d6b8-4788-a299-45b1912eb488': {1: Response(output=1, detour=None, addition=None, replace=None, stored_data=None, stop_children=False, stop_jobflow=False, job_dir=PosixPath('/home/jan/notebooks/2024/2024-11-21-python-workflow-definition'))},\n",
       " '445e7f92-360a-42a4-823b-edee632d909e': {1: Response(output=2, detour=None, addition=None, replace=None, stored_data=None, stop_children=False, stop_jobflow=False, job_dir=PosixPath('/home/jan/notebooks/2024/2024-11-21-python-workflow-definition'))},\n",
       " '2b506807-75a7-41c0-9f2c-86de74449e0a': {1: Response(output=6, detour=None, addition=None, replace=None, stored_data=None, stop_children=False, stop_jobflow=False, job_dir=PosixPath('/home/jan/notebooks/2024/2024-11-21-python-workflow-definition'))}}"
      ]
     },
     "execution_count": 20,
     "metadata": {},
     "output_type": "execute_result"
    }
   ],
   "source": [
    "result = run_locally(flow)\n",
    "result"
   ]
  },
  {
   "cell_type": "code",
   "execution_count": null,
   "id": "fde82477-d967-40d2-ac77-3ec35f27650d",
   "metadata": {},
   "outputs": [],
   "source": []
  }
 ],
 "metadata": {
  "kernelspec": {
   "display_name": "Python 3 (ipykernel)",
   "language": "python",
   "name": "python3"
  },
  "language_info": {
   "codemirror_mode": {
    "name": "ipython",
    "version": 3
   },
   "file_extension": ".py",
   "mimetype": "text/x-python",
   "name": "python",
   "nbconvert_exporter": "python",
   "pygments_lexer": "ipython3",
   "version": "3.12.5"
  }
 },
 "nbformat": 4,
 "nbformat_minor": 5
}
