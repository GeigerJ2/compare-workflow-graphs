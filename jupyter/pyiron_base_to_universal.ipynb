{
 "cells": [
  {
   "cell_type": "code",
   "execution_count": 1,
   "id": "8685a1e6-eb94-4217-bfd2-3af26c444186",
   "metadata": {},
   "outputs": [
    {
     "data": {
      "text/plain": [
       "'/Users/janssen/projects/pyiron_base/pyiron_base/__init__.py'"
      ]
     },
     "execution_count": 1,
     "metadata": {},
     "output_type": "execute_result"
    }
   ],
   "source": [
    "import pyiron_base\n",
    "pyiron_base.__file__"
   ]
  },
  {
   "cell_type": "code",
   "execution_count": 2,
   "id": "6d16191c-8d4d-439e-bfb2-f831f49716d0",
   "metadata": {},
   "outputs": [],
   "source": [
    "from pyiron_base import Project, job\n",
    "from pyiron_base.project.delayed import draw, DelayedObject"
   ]
  },
  {
   "cell_type": "code",
   "execution_count": 3,
   "id": "088aece1-8385-4eb8-a193-46fddb73464c",
   "metadata": {},
   "outputs": [],
   "source": [
    "def remove_server_obj(nodes_dict, edges_lst):\n",
    "    server_lst = [k for k in nodes_dict.keys() if k.startswith(\"server_obj_\")]\n",
    "    for s in server_lst:\n",
    "        del nodes_dict[s]\n",
    "        edges_lst = [ep for ep in edges_lst if s not in ep]\n",
    "    return nodes_dict, edges_lst"
   ]
  },
  {
   "cell_type": "code",
   "execution_count": 4,
   "id": "baae6b58-e679-4111-8b49-5239b0de0abe",
   "metadata": {},
   "outputs": [],
   "source": [
    "def get_nodes(connection_dict, delayed_object_updated_dict):\n",
    "    return {connection_dict[k]: v._python_function if isinstance(v, DelayedObject) else v for k, v in delayed_object_updated_dict.items()}"
   ]
  },
  {
   "cell_type": "code",
   "execution_count": 5,
   "id": "da871e07-eaa4-46fc-a07e-686596de7c42",
   "metadata": {},
   "outputs": [],
   "source": [
    "def get_unique_objects(nodes_dict, edges_lst):\n",
    "    delayed_object_dict = {k:v for k, v in nodes_dict.items() if isinstance(v, DelayedObject)}\n",
    "    unique_lst = []\n",
    "    delayed_object_updated_dict, match_dict = {}, {}\n",
    "    for dobj in delayed_object_dict.keys():\n",
    "        match = False\n",
    "        for obj in unique_lst:\n",
    "            if delayed_object_dict[dobj]._input == delayed_object_dict[obj]._input:\n",
    "                delayed_object_updated_dict[obj] = delayed_object_dict[obj]\n",
    "                match_dict[dobj] = obj\n",
    "                match = True\n",
    "                break\n",
    "        if not match:\n",
    "            unique_lst.append(dobj)\n",
    "            delayed_object_updated_dict[dobj] = delayed_object_dict[dobj]\n",
    "    delayed_object_updated_dict.update({k:v for k, v in nodes_dict.items() if not isinstance(v, DelayedObject)})\n",
    "    return delayed_object_updated_dict, match_dict"
   ]
  },
  {
   "cell_type": "code",
   "execution_count": 6,
   "id": "4cef4028-6355-4bde-9606-9b6febef58e3",
   "metadata": {},
   "outputs": [],
   "source": [
    "def get_connection_dict(delayed_object_updated_dict, match_dict):\n",
    "    new_obj_dict = {}\n",
    "    connection_dict = {}\n",
    "    lookup_dict = {}\n",
    "    for i, [k, v] in enumerate(delayed_object_updated_dict.items()):\n",
    "        new_obj_dict[i] = v\n",
    "        connection_dict[k] = i\n",
    "        lookup_dict[i] = k\n",
    "    \n",
    "    for k, v in match_dict.items():\n",
    "        if v in connection_dict.keys():\n",
    "            connection_dict[k] = connection_dict[v]\n",
    "\n",
    "    return connection_dict, lookup_dict"
   ]
  },
  {
   "cell_type": "code",
   "execution_count": 7,
   "id": "f1e636f0-9041-4bf1-994f-4ae1a66a2d38",
   "metadata": {},
   "outputs": [],
   "source": [
    "def get_edges_dict(edges_lst, nodes_dict, connection_dict, lookup_dict):\n",
    "    edges_dict_lst = []\n",
    "    existing_connection_lst = []\n",
    "    for ep in edges_lst:\n",
    "        input_name, output_name = ep\n",
    "        target = connection_dict[input_name]\n",
    "        target_handle = \"_\".join(output_name.split(\"_\")[:-1])\n",
    "        connection_name = lookup_dict[target] + \"_\" + target_handle\n",
    "        if connection_name not in existing_connection_lst:\n",
    "            output = nodes_dict[output_name]\n",
    "            if isinstance(output, DelayedObject):\n",
    "                edges_dict_lst.append({\n",
    "                    \"target\": target,\n",
    "                    \"targetHandle\": target_handle,\n",
    "                    \"source\": connection_dict[output_name],\n",
    "                    \"sourceHandle\": output._output_key,\n",
    "                })\n",
    "            else:\n",
    "                edges_dict_lst.append({\n",
    "                    \"target\": target,\n",
    "                    \"targetHandle\": target_handle,\n",
    "                    \"source\": connection_dict[output_name],\n",
    "                    \"sourceHandle\": None,\n",
    "                })\n",
    "            existing_connection_lst.append(connection_name)\n",
    "    return edges_dict_lst"
   ]
  },
  {
   "cell_type": "markdown",
   "id": "2f23bab7-f63f-409b-85c7-7f0449cd8ee5",
   "metadata": {},
   "source": [
    "# Define Workflow "
   ]
  },
  {
   "cell_type": "code",
   "execution_count": 8,
   "id": "c4efdcbc-50f7-4945-82eb-c9d7e485ed02",
   "metadata": {},
   "outputs": [],
   "source": [
    "pr = Project(\"test\")"
   ]
  },
  {
   "cell_type": "code",
   "execution_count": 9,
   "id": "126176cd-2e3a-4035-bcbe-32ecf1877ee0",
   "metadata": {},
   "outputs": [
    {
     "data": {
      "application/vnd.jupyter.widget-view+json": {
       "model_id": "a363cfab8bb44701aee8883f2a21ca9f",
       "version_major": 2,
       "version_minor": 0
      },
      "text/plain": [
       "  0%|          | 0/2 [00:00<?, ?it/s]"
      ]
     },
     "metadata": {},
     "output_type": "display_data"
    }
   ],
   "source": [
    "pr.remove_jobs(recursive=True, silently=True)"
   ]
  },
  {
   "cell_type": "code",
   "execution_count": 10,
   "id": "ac14da10-bb0e-430a-bf4e-695b62b0e8ce",
   "metadata": {},
   "outputs": [],
   "source": [
    "@job(output_key_lst=[\"x\", \"y\", \"z\"])\n",
    "def add_x_and_y(x, y):\n",
    "    z = x + y\n",
    "    return {\"x\": x, \"y\": y, \"z\": z}"
   ]
  },
  {
   "cell_type": "code",
   "execution_count": 11,
   "id": "e1b4f3c3-93cc-4434-a288-bb79c38728e1",
   "metadata": {},
   "outputs": [],
   "source": [
    "@job\n",
    "def add_x_and_y_and_z(x, y, z):\n",
    "    w = x + y + z\n",
    "    return w"
   ]
  },
  {
   "cell_type": "code",
   "execution_count": 12,
   "id": "12160e4d-18ad-4f36-9558-5c027362fb6f",
   "metadata": {},
   "outputs": [
    {
     "data": {
      "application/vnd.jupyter.widget-view+json": {
       "model_id": "206882e48d58429d9013dcfd5c7c6767",
       "version_major": 2,
       "version_minor": 0
      },
      "text/plain": [
       "0it [00:00, ?it/s]"
      ]
     },
     "metadata": {},
     "output_type": "display_data"
    }
   ],
   "source": [
    "pr.remove_jobs(recursive=True, silently=True)"
   ]
  },
  {
   "cell_type": "code",
   "execution_count": 13,
   "id": "f9b032b9-8880-42aa-a63a-841b7e500e7f",
   "metadata": {},
   "outputs": [],
   "source": [
    "obj = add_x_and_y(x=1, y=2, pyiron_project=pr)"
   ]
  },
  {
   "cell_type": "code",
   "execution_count": 14,
   "id": "df1d4f9f-78bf-4acf-a4fa-264a60004f07",
   "metadata": {},
   "outputs": [
    {
     "name": "stdout",
     "output_type": "stream",
     "text": [
      "The job add_x_and_y_cd28c038ce53d240c26a6cf400f276da was saved and received the ID: 14\n",
      "The job add_x_and_y_and_z_dda0dc165e1cd9391eab3794ee1cae4c was saved and received the ID: 15\n"
     ]
    },
    {
     "data": {
      "text/plain": [
       "6"
      ]
     },
     "execution_count": 14,
     "metadata": {},
     "output_type": "execute_result"
    }
   ],
   "source": [
    "w = add_x_and_y_and_z(x=obj.output.x, y=obj.output.y, z=obj.output.z, pyiron_project=pr)\n",
    "w.pull()"
   ]
  },
  {
   "cell_type": "code",
   "execution_count": 15,
   "id": "79ec194d-a1d4-4cfe-ac85-17308b6a0898",
   "metadata": {},
   "outputs": [
    {
     "data": {
      "text/html": [
       "<div>\n",
       "<style scoped>\n",
       "    .dataframe tbody tr th:only-of-type {\n",
       "        vertical-align: middle;\n",
       "    }\n",
       "\n",
       "    .dataframe tbody tr th {\n",
       "        vertical-align: top;\n",
       "    }\n",
       "\n",
       "    .dataframe thead th {\n",
       "        text-align: right;\n",
       "    }\n",
       "</style>\n",
       "<table border=\"1\" class=\"dataframe\">\n",
       "  <thead>\n",
       "    <tr style=\"text-align: right;\">\n",
       "      <th></th>\n",
       "      <th>id</th>\n",
       "      <th>status</th>\n",
       "      <th>chemicalformula</th>\n",
       "      <th>job</th>\n",
       "      <th>subjob</th>\n",
       "      <th>projectpath</th>\n",
       "      <th>project</th>\n",
       "      <th>timestart</th>\n",
       "      <th>timestop</th>\n",
       "      <th>totalcputime</th>\n",
       "      <th>computer</th>\n",
       "      <th>hamilton</th>\n",
       "      <th>hamversion</th>\n",
       "      <th>parentid</th>\n",
       "      <th>masterid</th>\n",
       "    </tr>\n",
       "  </thead>\n",
       "  <tbody>\n",
       "    <tr>\n",
       "      <th>0</th>\n",
       "      <td>14</td>\n",
       "      <td>finished</td>\n",
       "      <td>None</td>\n",
       "      <td>add_x_and_y_cd28c038ce53d240c26a6cf400f276da</td>\n",
       "      <td>/add_x_and_y_cd28c038ce53d240c26a6cf400f276da</td>\n",
       "      <td>None</td>\n",
       "      <td>/Users/janssen/notebooks/2024/2024-11-21-python-workflow-definition/test/</td>\n",
       "      <td>2024-11-21 16:09:12.885692</td>\n",
       "      <td>None</td>\n",
       "      <td>None</td>\n",
       "      <td>pyiron@mac.mpie.de#1</td>\n",
       "      <td>PythonFunctionContainerJob</td>\n",
       "      <td>0.4</td>\n",
       "      <td>None</td>\n",
       "      <td>None</td>\n",
       "    </tr>\n",
       "    <tr>\n",
       "      <th>1</th>\n",
       "      <td>15</td>\n",
       "      <td>finished</td>\n",
       "      <td>None</td>\n",
       "      <td>add_x_and_y_and_z_dda0dc165e1cd9391eab3794ee1cae4c</td>\n",
       "      <td>/add_x_and_y_and_z_dda0dc165e1cd9391eab3794ee1cae4c</td>\n",
       "      <td>None</td>\n",
       "      <td>/Users/janssen/notebooks/2024/2024-11-21-python-workflow-definition/test/</td>\n",
       "      <td>2024-11-21 16:09:12.996943</td>\n",
       "      <td>None</td>\n",
       "      <td>None</td>\n",
       "      <td>pyiron@mac.mpie.de#1</td>\n",
       "      <td>PythonFunctionContainerJob</td>\n",
       "      <td>0.4</td>\n",
       "      <td>None</td>\n",
       "      <td>None</td>\n",
       "    </tr>\n",
       "  </tbody>\n",
       "</table>\n",
       "</div>"
      ],
      "text/plain": [
       "   id    status chemicalformula  \\\n",
       "0  14  finished            None   \n",
       "1  15  finished            None   \n",
       "\n",
       "                                                  job  \\\n",
       "0        add_x_and_y_cd28c038ce53d240c26a6cf400f276da   \n",
       "1  add_x_and_y_and_z_dda0dc165e1cd9391eab3794ee1cae4c   \n",
       "\n",
       "                                                subjob projectpath  \\\n",
       "0        /add_x_and_y_cd28c038ce53d240c26a6cf400f276da        None   \n",
       "1  /add_x_and_y_and_z_dda0dc165e1cd9391eab3794ee1cae4c        None   \n",
       "\n",
       "                                                                     project  \\\n",
       "0  /Users/janssen/notebooks/2024/2024-11-21-python-workflow-definition/test/   \n",
       "1  /Users/janssen/notebooks/2024/2024-11-21-python-workflow-definition/test/   \n",
       "\n",
       "                   timestart timestop totalcputime              computer  \\\n",
       "0 2024-11-21 16:09:12.885692     None         None  pyiron@mac.mpie.de#1   \n",
       "1 2024-11-21 16:09:12.996943     None         None  pyiron@mac.mpie.de#1   \n",
       "\n",
       "                     hamilton hamversion parentid masterid  \n",
       "0  PythonFunctionContainerJob        0.4     None     None  \n",
       "1  PythonFunctionContainerJob        0.4     None     None  "
      ]
     },
     "execution_count": 15,
     "metadata": {},
     "output_type": "execute_result"
    }
   ],
   "source": [
    "pr.job_table()"
   ]
  },
  {
   "cell_type": "code",
   "execution_count": 16,
   "id": "ff3b7821-ea42-4e09-b672-690430c92a7d",
   "metadata": {},
   "outputs": [
    {
     "data": {
      "text/plain": [
       "6"
      ]
     },
     "execution_count": 16,
     "metadata": {},
     "output_type": "execute_result"
    }
   ],
   "source": [
    "w = add_x_and_y_and_z(x=obj.output.x, y=obj.output.y, z=obj.output.z, pyiron_project=pr)\n",
    "w.pull()"
   ]
  },
  {
   "cell_type": "markdown",
   "id": "a700b915-6b08-4ddb-bda8-bb7434bcffc7",
   "metadata": {},
   "source": [
    "# Convert to universal format"
   ]
  },
  {
   "cell_type": "code",
   "execution_count": 17,
   "id": "86184c6d-b77e-4f95-bb66-bbfecefe0b96",
   "metadata": {},
   "outputs": [],
   "source": [
    "nodes_dict, edges_lst = w.get_graph()"
   ]
  },
  {
   "cell_type": "code",
   "execution_count": 18,
   "id": "c1f9ab55-7b61-41c5-bee8-119c23ac4193",
   "metadata": {},
   "outputs": [],
   "source": [
    "nodes_dict, edges_lst = remove_server_obj(nodes_dict=nodes_dict, edges_lst=edges_lst)"
   ]
  },
  {
   "cell_type": "code",
   "execution_count": 19,
   "id": "524c0234-c87f-460d-bf1c-3b6918a440b7",
   "metadata": {},
   "outputs": [],
   "source": [
    "delayed_object_updated_dict, match_dict = get_unique_objects(nodes_dict=nodes_dict, edges_lst=edges_lst)"
   ]
  },
  {
   "cell_type": "code",
   "execution_count": 20,
   "id": "65e913e4-18aa-4f96-91de-afed4e856e82",
   "metadata": {},
   "outputs": [],
   "source": [
    "connection_dict, lookup_dict = get_connection_dict(delayed_object_updated_dict=delayed_object_updated_dict, match_dict=match_dict)"
   ]
  },
  {
   "cell_type": "code",
   "execution_count": 21,
   "id": "f4d3b8aa-4eaa-4316-8b0a-57b896301f1f",
   "metadata": {},
   "outputs": [
    {
     "data": {
      "text/plain": [
       "{0: <function __main__.add_x_and_y_and_z(x, y, z)>,\n",
       " 1: <function __main__.add_x_and_y(x, y)>,\n",
       " 2: 1,\n",
       " 3: 2}"
      ]
     },
     "execution_count": 21,
     "metadata": {},
     "output_type": "execute_result"
    }
   ],
   "source": [
    "get_nodes(connection_dict=connection_dict, delayed_object_updated_dict=delayed_object_updated_dict)"
   ]
  },
  {
   "cell_type": "code",
   "execution_count": 22,
   "id": "35d2b27b-0ae2-4406-8d41-42dc7848a697",
   "metadata": {},
   "outputs": [
    {
     "data": {
      "text/plain": [
       "[{'target': 0, 'targetHandle': 'x', 'source': 1, 'sourceHandle': 'x'},\n",
       " {'target': 1, 'targetHandle': 'x', 'source': 2, 'sourceHandle': None},\n",
       " {'target': 1, 'targetHandle': 'y', 'source': 3, 'sourceHandle': None},\n",
       " {'target': 0, 'targetHandle': 'y', 'source': 1, 'sourceHandle': 'y'},\n",
       " {'target': 0, 'targetHandle': 'z', 'source': 1, 'sourceHandle': 'z'}]"
      ]
     },
     "execution_count": 22,
     "metadata": {},
     "output_type": "execute_result"
    }
   ],
   "source": [
    "get_edges_dict(edges_lst=edges_lst, nodes_dict=nodes_dict, connection_dict=connection_dict, lookup_dict=lookup_dict)"
   ]
  },
  {
   "cell_type": "code",
   "execution_count": null,
   "id": "d0f99365-0926-43eb-bd89-8e863a652f92",
   "metadata": {},
   "outputs": [],
   "source": []
  }
 ],
 "metadata": {
  "kernelspec": {
   "display_name": "Python 3 (ipykernel)",
   "language": "python",
   "name": "python3"
  },
  "language_info": {
   "codemirror_mode": {
    "name": "ipython",
    "version": 3
   },
   "file_extension": ".py",
   "mimetype": "text/x-python",
   "name": "python",
   "nbconvert_exporter": "python",
   "pygments_lexer": "ipython3",
   "version": "3.12.5"
  }
 },
 "nbformat": 4,
 "nbformat_minor": 5
}
