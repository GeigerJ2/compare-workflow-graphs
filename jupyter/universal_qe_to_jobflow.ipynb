{
 "cells": [
  {
   "cell_type": "code",
   "execution_count": 1,
   "id": "8676f0ca-5b34-4867-a32d-928f37fb0ed2",
   "metadata": {},
   "outputs": [],
   "source": [
    "from importlib import import_module"
   ]
  },
  {
   "cell_type": "code",
   "execution_count": 2,
   "id": "041f3882-d302-4a99-99a6-beea67f2a2a8",
   "metadata": {},
   "outputs": [],
   "source": [
    "import os\n",
    "import subprocess\n",
    "import matplotlib.pyplot as plt\n",
    "import numpy as np\n",
    "from ase.atoms import Atoms\n",
    "from ase.build import bulk\n",
    "from ase.io import write\n",
    "from adis_tools.parsers import parse_pw"
   ]
  },
  {
   "cell_type": "code",
   "execution_count": 3,
   "id": "58df36ba-8d6f-4748-8fd5-15f8a851af5f",
   "metadata": {},
   "outputs": [],
   "source": [
    "from inspect import isfunction"
   ]
  },
  {
   "cell_type": "code",
   "execution_count": 4,
   "id": "1bd1f75c-a07f-48c9-ae56-22ba674d6d3a",
   "metadata": {},
   "outputs": [],
   "source": [
    "from jobflow import job, Flow\n",
    "from jobflow.managers.local import run_locally"
   ]
  },
  {
   "cell_type": "code",
   "execution_count": 5,
   "id": "c8490247-4071-4108-ba4c-47fa73b8f34e",
   "metadata": {},
   "outputs": [],
   "source": [
    "def get_kwargs(lst):\n",
    "    return {t['targetHandle']: {'source': t['source'], 'sourceHandle': t['sourceHandle']} for t in lst}"
   ]
  },
  {
   "cell_type": "code",
   "execution_count": 6,
   "id": "88d74f68-589a-46d8-8c8b-702093289ff8",
   "metadata": {},
   "outputs": [],
   "source": [
    "def resort_total_lst(total_dict, nodes_dict):\n",
    "    nodes_with_dep_lst = list(sorted(total_dict.keys()))\n",
    "    nodes_without_dep_lst = [k for k in nodes_dict.keys() if k not in nodes_with_dep_lst]\n",
    "    ordered_lst = []\n",
    "    total_new_dict = {}\n",
    "    while len(total_new_dict) < len(total_dict):\n",
    "        for ind in sorted(total_dict.keys()):\n",
    "            connect = total_dict[ind]\n",
    "            if ind not in ordered_lst:\n",
    "                source_lst = [sd[\"source\"] for sd in connect.values()]\n",
    "                if all([s in ordered_lst or s in nodes_without_dep_lst for s in source_lst]):\n",
    "                    ordered_lst.append(ind)\n",
    "                    total_new_dict[ind] = connect\n",
    "    return total_new_dict"
   ]
  },
  {
   "cell_type": "code",
   "execution_count": 7,
   "id": "5bc6fa2b-5faa-4db8-ba8b-b275fb61ba7d",
   "metadata": {},
   "outputs": [],
   "source": [
    "def group_edges(edges_lst):\n",
    "    # edges_sorted_lst = sorted(edges_lst, key=lambda x: x['target'], reverse=True)     \n",
    "    total_dict = {}\n",
    "    for ed_major in edges_lst:\n",
    "        target_id = ed_major[\"target\"]\n",
    "        tmp_lst = []\n",
    "        if target_id not in total_dict.keys():\n",
    "            for ed in edges_lst:\n",
    "                if target_id == ed[\"target\"]:\n",
    "                    tmp_lst.append(ed)\n",
    "            total_dict[target_id] = get_kwargs(lst=tmp_lst)\n",
    "    # total_dict[target_id] = get_kwargs(lst=tmp_lst)\n",
    "    return total_dict"
   ]
  },
  {
   "cell_type": "code",
   "execution_count": 8,
   "id": "023382c1-e812-4023-b100-3fd7b7bc840a",
   "metadata": {},
   "outputs": [],
   "source": [
    "def get_input_dict(nodes_dict):\n",
    "    return {k:v for k, v in nodes_dict.items() if not isfunction(v)}"
   ]
  },
  {
   "cell_type": "code",
   "execution_count": 9,
   "id": "a934964d-127a-49d1-9634-b3c8ee2e50b0",
   "metadata": {},
   "outputs": [],
   "source": [
    "def get_workflow(nodes_dict, input_dict, total_dict, source_handles_dict):\n",
    "    def get_attr_helper(obj, source_handle):\n",
    "        # print(\"attr_helper\", source_handle, getattr(obj, \"output\"), getattr(getattr(obj, \"output\"), source_handle))\n",
    "        if source_handle is None:\n",
    "            return getattr(obj, \"output\") \n",
    "        else:\n",
    "            return getattr(getattr(obj, \"output\"), source_handle)\n",
    "    \n",
    "    memory_dict = {}\n",
    "    for k in total_dict.keys():\n",
    "        v = nodes_dict[k]\n",
    "        if isfunction(v):\n",
    "            if k in source_handles_dict.keys():\n",
    "                # print(k, {el: el for el in source_handles_dict[k] if el is not None})\n",
    "                fn = job(method=v, data=[el for el in source_handles_dict[k] if el is not None])\n",
    "            else:\n",
    "                fn = job(method=v)\n",
    "            kwargs = {\n",
    "                kw: input_dict[vw['source']] if vw['source'] in input_dict else get_attr_helper(obj=memory_dict[vw['source']], source_handle=vw['sourceHandle']) \n",
    "                for kw, vw in total_dict[k].items()\n",
    "            }\n",
    "            print(k, kwargs)\n",
    "            memory_dict[k] = fn(**kwargs)\n",
    "    return list(memory_dict.values())"
   ]
  },
  {
   "cell_type": "code",
   "execution_count": 10,
   "id": "0ae0fde2-2851-484f-8d76-8e4ae3bfabc6",
   "metadata": {},
   "outputs": [],
   "source": [
    "def get_source_handles(edges_lst):\n",
    "    source_handle_dict = {}\n",
    "    for ed in edges_lst: \n",
    "        if ed['source'] not in source_handle_dict.keys():\n",
    "            source_handle_dict[ed['source']] = [ed['sourceHandle']]\n",
    "        else:\n",
    "            source_handle_dict[ed['source']].append(ed['sourceHandle'])\n",
    "    return source_handle_dict"
   ]
  },
  {
   "cell_type": "code",
   "execution_count": 11,
   "id": "af51be8c-a43e-4ebb-9ad9-78f98f7c0a20",
   "metadata": {},
   "outputs": [],
   "source": [
    "def get_item_from_tuple(input_obj, index, index_lst):\n",
    "    if isinstance(input_obj, dict):  \n",
    "        return input_obj[index]\n",
    "    else:  # input_obj is a tuple\n",
    "        return list(input_obj)[index_lst.index(index)]"
   ]
  },
  {
   "cell_type": "code",
   "execution_count": 12,
   "id": "c1a8c351-0aac-43ab-8b26-941e80578552",
   "metadata": {},
   "outputs": [],
   "source": [
    "def get_source_handles(edges_lst):\n",
    "    source_handle_dict = {}\n",
    "    for ed in edges_lst: \n",
    "        if ed['source'] not in source_handle_dict.keys():\n",
    "            source_handle_dict[ed['source']] = [ed['sourceHandle']]\n",
    "        else:\n",
    "            source_handle_dict[ed['source']].append(ed['sourceHandle'])\n",
    "    return {\n",
    "        k: list(range(len(v))) if len(v) > 1 and all([el is None for el in v]) else v \n",
    "        for k, v in source_handle_dict.items()\n",
    "    }"
   ]
  },
  {
   "cell_type": "code",
   "execution_count": 13,
   "id": "a0ec8e80-06eb-4d0e-b7cf-9b27682951dc",
   "metadata": {},
   "outputs": [],
   "source": [
    "def get_dict(**kwargs):\n",
    "    return {k: v for k, v in kwargs.items()}"
   ]
  },
  {
   "cell_type": "code",
   "execution_count": 14,
   "id": "b7934782-e5fe-44b2-a3c8-ab7cd0e0118f",
   "metadata": {},
   "outputs": [],
   "source": [
    "def get_list(**kwargs):\n",
    "    return list(kwargs.values())"
   ]
  },
  {
   "cell_type": "code",
   "execution_count": 15,
   "id": "c8651b93-00a9-4f84-8d89-6d6cb2dd85a3",
   "metadata": {},
   "outputs": [],
   "source": [
    "def write_input(input_dict, working_directory=\".\"):\n",
    "    filename = os.path.join(working_directory, \"input.pwi\")\n",
    "    os.makedirs(working_directory, exist_ok=True)\n",
    "    write(\n",
    "        filename=filename,\n",
    "        images=Atoms(**input_dict[\"structure\"]),\n",
    "        Crystal=True,\n",
    "        kpts=input_dict[\"kpts\"],\n",
    "        input_data={\n",
    "            \"calculation\": input_dict[\"calculation\"],\n",
    "            \"occupations\": \"smearing\",\n",
    "            \"degauss\": input_dict[\"smearing\"],\n",
    "        },\n",
    "        pseudopotentials=input_dict[\"pseudopotentials\"],\n",
    "        tstress=True,\n",
    "        tprnfor=True,\n",
    "    )"
   ]
  },
  {
   "cell_type": "code",
   "execution_count": 16,
   "id": "5fcf98e6-07ae-4f78-8731-83ba249dadbf",
   "metadata": {},
   "outputs": [],
   "source": [
    "def collect_output(working_directory=\".\"):\n",
    "    output = parse_pw(os.path.join(working_directory, \"pwscf.xml\"))\n",
    "    return {\n",
    "        \"structure\": output[\"ase_structure\"].todict(),\n",
    "        \"energy\": output[\"energy\"],\n",
    "        \"volume\": output[\"ase_structure\"].get_volume(),\n",
    "    }"
   ]
  },
  {
   "cell_type": "code",
   "execution_count": 17,
   "id": "3ba41b0b-a4f4-40e3-9a62-b19cab737d28",
   "metadata": {},
   "outputs": [],
   "source": [
    "# @job(output_key_lst=[\"energy\", \"volume\", \"structure\"])\n",
    "def calculate_qe(working_directory, input_dict):\n",
    "    write_input(\n",
    "        input_dict=input_dict,\n",
    "        working_directory=working_directory,\n",
    "    )\n",
    "    subprocess.check_output(\n",
    "        \"mpirun -np 1 pw.x -in input.pwi > output.pwo\",\n",
    "        cwd=working_directory,\n",
    "        shell=True,\n",
    "    )\n",
    "    return collect_output(working_directory=working_directory)"
   ]
  },
  {
   "cell_type": "code",
   "execution_count": 18,
   "id": "61e0a96f-455f-454f-a720-c378450c38c6",
   "metadata": {},
   "outputs": [],
   "source": [
    "# @job\n",
    "def generate_structures(structure, strain_lst):\n",
    "    structure_lst = []\n",
    "    for strain in strain_lst:\n",
    "        structure_strain = Atoms(**structure)\n",
    "        structure_strain.set_cell(\n",
    "            structure_strain.cell * strain ** (1 / 3), scale_atoms=True\n",
    "        )\n",
    "        structure_lst.append(structure_strain)\n",
    "    return {str(i): s.todict() for i, s in enumerate(structure_lst)}"
   ]
  },
  {
   "cell_type": "code",
   "execution_count": 19,
   "id": "99c73bfe-2b80-4a40-a3f7-177e77d325c1",
   "metadata": {},
   "outputs": [],
   "source": [
    "# @job\n",
    "def plot_energy_volume_curve(volume_lst, energy_lst):\n",
    "    plt.plot(volume_lst, energy_lst)\n",
    "    plt.xlabel(\"Volume\")\n",
    "    plt.ylabel(\"Energy\")\n",
    "    plt.savefig(\"evcurve.png\")"
   ]
  },
  {
   "cell_type": "code",
   "execution_count": 20,
   "id": "62a98127-2d21-40df-a47a-20d89f045628",
   "metadata": {},
   "outputs": [],
   "source": [
    "# @job\n",
    "def plot_energy_volume_curve(volume_lst, energy_lst):\n",
    "    plt.plot(volume_lst, energy_lst)\n",
    "    plt.xlabel(\"Volume\")\n",
    "    plt.ylabel(\"Energy\")\n",
    "    plt.savefig(\"evcurve.png\")"
   ]
  },
  {
   "cell_type": "code",
   "execution_count": 21,
   "id": "09caf119-8bbd-46d3-9ddf-64eb2ac6b649",
   "metadata": {},
   "outputs": [],
   "source": [
    "# @job\n",
    "def get_bulk_structure(name, a, cubic):\n",
    "    return bulk(\n",
    "        name=name,\n",
    "        a=a,\n",
    "        cubic=cubic,\n",
    "    ).todict()"
   ]
  },
  {
   "cell_type": "code",
   "execution_count": 22,
   "id": "319b363b-f017-4b2b-b10b-a71a5c31dfbe",
   "metadata": {},
   "outputs": [],
   "source": [
    "pseudopotentials = {\"Al\": \"Al.pbe-n-kjpaw_psl.1.0.0.UPF\"}"
   ]
  },
  {
   "cell_type": "code",
   "execution_count": 23,
   "id": "87dff023-58b4-4ba3-a962-d037a5e7ccd4",
   "metadata": {},
   "outputs": [],
   "source": [
    "nodes_dict = {  # from jobflow\n",
    "    0: get_bulk_structure,\n",
    "    1: calculate_qe,\n",
    "    2: generate_structures,\n",
    "    3: calculate_qe,\n",
    "    4: calculate_qe,\n",
    "    5: calculate_qe,\n",
    "    6: calculate_qe,\n",
    "    7: calculate_qe,\n",
    "    8: plot_energy_volume_curve,\n",
    "    9: 'Al',\n",
    "    10: 4.05,\n",
    "    11: True,\n",
    "    12: 'mini',\n",
    "    13: get_dict,\n",
    "    14: {'Al': 'Al.pbe-n-kjpaw_psl.1.0.0.UPF'},\n",
    "    15: [3, 3, 3],\n",
    "    16: 'vc-relax',\n",
    "    17: 0.02,\n",
    "    18: [0.9, 0.9500000000000001, 1.0, 1.05, 1.1],\n",
    "    19: 'strain_0',\n",
    "    20: get_dict,\n",
    "    21: 'scf',\n",
    "    22: 'strain_1',\n",
    "    23: get_dict,\n",
    "    24: 'strain_2',\n",
    "    25: get_dict,\n",
    "    26: 'strain_3',\n",
    "    27: get_dict,\n",
    "    28: 'strain_4',\n",
    "    29: get_dict,\n",
    "    30: get_list,\n",
    "    31: get_list,\n",
    "}"
   ]
  },
  {
   "cell_type": "code",
   "execution_count": 24,
   "id": "88233f17-a6d3-4fb2-960d-b6eaa1f615dc",
   "metadata": {},
   "outputs": [],
   "source": [
    "edges_lst = [\n",
    "    {'target': 0, 'targetHandle': 'name', 'source': 9, 'sourceHandle': None},\n",
    "    {'target': 0, 'targetHandle': 'a', 'source': 10, 'sourceHandle': None},\n",
    "    {'target': 0, 'targetHandle': 'cubic', 'source': 11, 'sourceHandle': None},\n",
    "    {'target': 1, 'targetHandle': 'working_directory', 'source': 12, 'sourceHandle': None},\n",
    "    {'target': 13, 'targetHandle': 'structure', 'source': 0, 'sourceHandle': None},\n",
    "    {'target': 13, 'targetHandle': 'pseudopotentials', 'source': 14, 'sourceHandle': None},\n",
    "    {'target': 13, 'targetHandle': 'kpts', 'source': 15, 'sourceHandle': None},\n",
    "    {'target': 13, 'targetHandle': 'calculation', 'source': 16, 'sourceHandle': None},\n",
    "    {'target': 13, 'targetHandle': 'smearing', 'source': 17, 'sourceHandle': None},\n",
    "    {'target': 1, 'targetHandle': 'input_dict', 'source': 13, 'sourceHandle': None},\n",
    "    {'target': 2, 'targetHandle': 'structure', 'source': 1, 'sourceHandle': 'structure'},\n",
    "    {'target': 2, 'targetHandle': 'strain_lst', 'source': 18, 'sourceHandle': None},\n",
    "    {'target': 3, 'targetHandle': 'working_directory', 'source': 19, 'sourceHandle': None},\n",
    "    {'target': 20, 'targetHandle': 'structure', 'source': 2, 'sourceHandle': '0'},\n",
    "    {'target': 20, 'targetHandle': 'pseudopotentials', 'source': 14, 'sourceHandle': None},\n",
    "    {'target': 20, 'targetHandle': 'kpts', 'source': 15, 'sourceHandle': None},\n",
    "    {'target': 20, 'targetHandle': 'calculation', 'source': 21, 'sourceHandle': None},\n",
    "    {'target': 20, 'targetHandle': 'smearing', 'source': 17, 'sourceHandle': None},\n",
    "    {'target': 3, 'targetHandle': 'input_dict', 'source': 20, 'sourceHandle': None},\n",
    "    {'target': 4, 'targetHandle': 'working_directory', 'source': 22, 'sourceHandle': None},\n",
    "    {'target': 23, 'targetHandle': 'structure', 'source': 2, 'sourceHandle': '1'},\n",
    "    {'target': 23, 'targetHandle': 'pseudopotentials', 'source': 14, 'sourceHandle': None},\n",
    "    {'target': 23, 'targetHandle': 'kpts', 'source': 15, 'sourceHandle': None},\n",
    "    {'target': 23, 'targetHandle': 'calculation', 'source': 21, 'sourceHandle': None},\n",
    "    {'target': 23, 'targetHandle': 'smearing', 'source': 17, 'sourceHandle': None},\n",
    "    {'target': 4, 'targetHandle': 'input_dict', 'source': 23, 'sourceHandle': None},\n",
    "    {'target': 5, 'targetHandle': 'working_directory', 'source': 24, 'sourceHandle': None},\n",
    "    {'target': 25, 'targetHandle': 'structure', 'source': 2, 'sourceHandle': '2'},\n",
    "    {'target': 25, 'targetHandle': 'pseudopotentials', 'source': 14, 'sourceHandle': None},\n",
    "    {'target': 25, 'targetHandle': 'kpts', 'source': 15, 'sourceHandle': None},\n",
    "    {'target': 25, 'targetHandle': 'calculation', 'source': 21, 'sourceHandle': None},\n",
    "    {'target': 25, 'targetHandle': 'smearing', 'source': 17, 'sourceHandle': None},\n",
    "    {'target': 5, 'targetHandle': 'input_dict', 'source': 25, 'sourceHandle': None},\n",
    "    {'target': 6, 'targetHandle': 'working_directory', 'source': 26, 'sourceHandle': None},\n",
    "    {'target': 27, 'targetHandle': 'structure', 'source': 2, 'sourceHandle': '3'},\n",
    "    {'target': 27, 'targetHandle': 'pseudopotentials', 'source': 14, 'sourceHandle': None},\n",
    "    {'target': 27, 'targetHandle': 'kpts', 'source': 15, 'sourceHandle': None},\n",
    "    {'target': 27, 'targetHandle': 'calculation', 'source': 21, 'sourceHandle': None},\n",
    "    {'target': 27, 'targetHandle': 'smearing', 'source': 17, 'sourceHandle': None},\n",
    "    {'target': 6, 'targetHandle': 'input_dict', 'source': 27, 'sourceHandle': None},\n",
    "    {'target': 7, 'targetHandle': 'working_directory', 'source': 28, 'sourceHandle': None},\n",
    "    {'target': 29, 'targetHandle': 'structure', 'source': 2, 'sourceHandle': '4'},\n",
    "    {'target': 29, 'targetHandle': 'pseudopotentials', 'source': 14, 'sourceHandle': None},\n",
    "    {'target': 29, 'targetHandle': 'kpts', 'source': 15, 'sourceHandle': None},\n",
    "    {'target': 29, 'targetHandle': 'calculation', 'source': 21, 'sourceHandle': None},\n",
    "    {'target': 29, 'targetHandle': 'smearing', 'source': 17, 'sourceHandle': None},\n",
    "    {'target': 7, 'targetHandle': 'input_dict', 'source': 29, 'sourceHandle': None},\n",
    "    {'target': 30, 'targetHandle': \"0\", 'source': 3, 'sourceHandle': 'volume'},\n",
    "    {'target': 30, 'targetHandle': \"1\", 'source': 4, 'sourceHandle': 'volume'},\n",
    "    {'target': 30, 'targetHandle': \"2\", 'source': 5, 'sourceHandle': 'volume'},\n",
    "    {'target': 30, 'targetHandle': \"3\", 'source': 6, 'sourceHandle': 'volume'},\n",
    "    {'target': 30, 'targetHandle': \"4\", 'source': 7, 'sourceHandle': 'volume'},\n",
    "    {'target': 8, 'targetHandle': 'volume_lst', 'source': 30, 'sourceHandle': None},\n",
    "    {'target': 31, 'targetHandle': \"0\", 'source': 3, 'sourceHandle': 'energy'},\n",
    "    {'target': 31, 'targetHandle': \"1\", 'source': 4, 'sourceHandle': 'energy'},\n",
    "    {'target': 31, 'targetHandle': \"2\", 'source': 5, 'sourceHandle': 'energy'},\n",
    "    {'target': 31, 'targetHandle': \"3\", 'source': 6, 'sourceHandle': 'energy'},\n",
    "    {'target': 31, 'targetHandle': \"4\", 'source': 7, 'sourceHandle': 'energy'},\n",
    "    {'target': 8, 'targetHandle': 'energy_lst', 'source': 31, 'sourceHandle': None},\n",
    "]"
   ]
  },
  {
   "cell_type": "code",
   "execution_count": 25,
   "id": "1934cbea-7ec7-47a6-8434-079dbdeff28d",
   "metadata": {},
   "outputs": [],
   "source": [
    "def fine_root_node(nodes_dict, edges_lst):\n",
    "    source_count_dict = {k: sum([ed[\"source\"] == k for ed in edges_lst]) for k in nodes_dict.keys()}\n",
    "    return min(source_count_dict, key=source_count_dict.get)\n",
    "            "
   ]
  },
  {
   "cell_type": "code",
   "execution_count": 26,
   "id": "6df1f72d-dc59-4360-9753-4fb1c90624a4",
   "metadata": {},
   "outputs": [
    {
     "data": {
      "text/plain": [
       "8"
      ]
     },
     "execution_count": 26,
     "metadata": {},
     "output_type": "execute_result"
    }
   ],
   "source": [
    "root_node = fine_root_node(nodes_dict=nodes_dict, edges_lst=edges_lst)\n",
    "root_node"
   ]
  },
  {
   "cell_type": "code",
   "execution_count": 27,
   "id": "972efbf2-1e1f-4429-a443-b83ff9c76e07",
   "metadata": {},
   "outputs": [
    {
     "data": {
      "text/plain": [
       "{9: [None],\n",
       " 10: [None],\n",
       " 11: [None],\n",
       " 12: [None],\n",
       " 0: [None],\n",
       " 14: [0, 1, 2, 3, 4, 5],\n",
       " 15: [0, 1, 2, 3, 4, 5],\n",
       " 16: [None],\n",
       " 17: [0, 1, 2, 3, 4, 5],\n",
       " 13: [None],\n",
       " 1: ['structure'],\n",
       " 18: [None],\n",
       " 19: [None],\n",
       " 2: ['0', '1', '2', '3', '4'],\n",
       " 21: [0, 1, 2, 3, 4],\n",
       " 20: [None],\n",
       " 22: [None],\n",
       " 23: [None],\n",
       " 24: [None],\n",
       " 25: [None],\n",
       " 26: [None],\n",
       " 27: [None],\n",
       " 28: [None],\n",
       " 29: [None],\n",
       " 3: ['volume', 'energy'],\n",
       " 4: ['volume', 'energy'],\n",
       " 5: ['volume', 'energy'],\n",
       " 6: ['volume', 'energy'],\n",
       " 7: ['volume', 'energy'],\n",
       " 30: [None],\n",
       " 31: [None]}"
      ]
     },
     "execution_count": 27,
     "metadata": {},
     "output_type": "execute_result"
    }
   ],
   "source": [
    "source_handles_dict = get_source_handles(edges_lst=edges_lst)\n",
    "source_handles_dict"
   ]
  },
  {
   "cell_type": "raw",
   "id": "00f8a616-5a7a-42f9-9885-49e2e14477a4",
   "metadata": {},
   "source": [
    "nodes_updated_dict, edges_updated_lst = universal_reduce(nodes_dict=nodes_dict, edges_lst=edges_lst)\n",
    "nodes_updated_dict, edges_updated_lst"
   ]
  },
  {
   "cell_type": "code",
   "execution_count": 28,
   "id": "d60390c3-b83a-4fdd-bd2e-48469d94dc65",
   "metadata": {},
   "outputs": [],
   "source": [
    "total_dict = group_edges(edges_lst=edges_lst)\n",
    "input_dict = get_input_dict(nodes_dict=nodes_dict)"
   ]
  },
  {
   "cell_type": "code",
   "execution_count": 29,
   "id": "28fad5d9-9f27-415c-a3b2-667e2a2e8abf",
   "metadata": {},
   "outputs": [
    {
     "data": {
      "text/plain": [
       "({0: {'name': {'source': 9, 'sourceHandle': None},\n",
       "   'a': {'source': 10, 'sourceHandle': None},\n",
       "   'cubic': {'source': 11, 'sourceHandle': None}},\n",
       "  1: {'working_directory': {'source': 12, 'sourceHandle': None},\n",
       "   'input_dict': {'source': 13, 'sourceHandle': None}},\n",
       "  13: {'structure': {'source': 0, 'sourceHandle': None},\n",
       "   'pseudopotentials': {'source': 14, 'sourceHandle': None},\n",
       "   'kpts': {'source': 15, 'sourceHandle': None},\n",
       "   'calculation': {'source': 16, 'sourceHandle': None},\n",
       "   'smearing': {'source': 17, 'sourceHandle': None}},\n",
       "  2: {'structure': {'source': 1, 'sourceHandle': 'structure'},\n",
       "   'strain_lst': {'source': 18, 'sourceHandle': None}},\n",
       "  3: {'working_directory': {'source': 19, 'sourceHandle': None},\n",
       "   'input_dict': {'source': 20, 'sourceHandle': None}},\n",
       "  20: {'structure': {'source': 2, 'sourceHandle': '0'},\n",
       "   'pseudopotentials': {'source': 14, 'sourceHandle': None},\n",
       "   'kpts': {'source': 15, 'sourceHandle': None},\n",
       "   'calculation': {'source': 21, 'sourceHandle': None},\n",
       "   'smearing': {'source': 17, 'sourceHandle': None}},\n",
       "  4: {'working_directory': {'source': 22, 'sourceHandle': None},\n",
       "   'input_dict': {'source': 23, 'sourceHandle': None}},\n",
       "  23: {'structure': {'source': 2, 'sourceHandle': '1'},\n",
       "   'pseudopotentials': {'source': 14, 'sourceHandle': None},\n",
       "   'kpts': {'source': 15, 'sourceHandle': None},\n",
       "   'calculation': {'source': 21, 'sourceHandle': None},\n",
       "   'smearing': {'source': 17, 'sourceHandle': None}},\n",
       "  5: {'working_directory': {'source': 24, 'sourceHandle': None},\n",
       "   'input_dict': {'source': 25, 'sourceHandle': None}},\n",
       "  25: {'structure': {'source': 2, 'sourceHandle': '2'},\n",
       "   'pseudopotentials': {'source': 14, 'sourceHandle': None},\n",
       "   'kpts': {'source': 15, 'sourceHandle': None},\n",
       "   'calculation': {'source': 21, 'sourceHandle': None},\n",
       "   'smearing': {'source': 17, 'sourceHandle': None}},\n",
       "  6: {'working_directory': {'source': 26, 'sourceHandle': None},\n",
       "   'input_dict': {'source': 27, 'sourceHandle': None}},\n",
       "  27: {'structure': {'source': 2, 'sourceHandle': '3'},\n",
       "   'pseudopotentials': {'source': 14, 'sourceHandle': None},\n",
       "   'kpts': {'source': 15, 'sourceHandle': None},\n",
       "   'calculation': {'source': 21, 'sourceHandle': None},\n",
       "   'smearing': {'source': 17, 'sourceHandle': None}},\n",
       "  7: {'working_directory': {'source': 28, 'sourceHandle': None},\n",
       "   'input_dict': {'source': 29, 'sourceHandle': None}},\n",
       "  29: {'structure': {'source': 2, 'sourceHandle': '4'},\n",
       "   'pseudopotentials': {'source': 14, 'sourceHandle': None},\n",
       "   'kpts': {'source': 15, 'sourceHandle': None},\n",
       "   'calculation': {'source': 21, 'sourceHandle': None},\n",
       "   'smearing': {'source': 17, 'sourceHandle': None}},\n",
       "  30: {'0': {'source': 3, 'sourceHandle': 'volume'},\n",
       "   '1': {'source': 4, 'sourceHandle': 'volume'},\n",
       "   '2': {'source': 5, 'sourceHandle': 'volume'},\n",
       "   '3': {'source': 6, 'sourceHandle': 'volume'},\n",
       "   '4': {'source': 7, 'sourceHandle': 'volume'}},\n",
       "  8: {'volume_lst': {'source': 30, 'sourceHandle': None},\n",
       "   'energy_lst': {'source': 31, 'sourceHandle': None}},\n",
       "  31: {'0': {'source': 3, 'sourceHandle': 'energy'},\n",
       "   '1': {'source': 4, 'sourceHandle': 'energy'},\n",
       "   '2': {'source': 5, 'sourceHandle': 'energy'},\n",
       "   '3': {'source': 6, 'sourceHandle': 'energy'},\n",
       "   '4': {'source': 7, 'sourceHandle': 'energy'}}},\n",
       " {9: 'Al',\n",
       "  10: 4.05,\n",
       "  11: True,\n",
       "  12: 'mini',\n",
       "  14: {'Al': 'Al.pbe-n-kjpaw_psl.1.0.0.UPF'},\n",
       "  15: [3, 3, 3],\n",
       "  16: 'vc-relax',\n",
       "  17: 0.02,\n",
       "  18: [0.9, 0.9500000000000001, 1.0, 1.05, 1.1],\n",
       "  19: 'strain_0',\n",
       "  21: 'scf',\n",
       "  22: 'strain_1',\n",
       "  24: 'strain_2',\n",
       "  26: 'strain_3',\n",
       "  28: 'strain_4'})"
      ]
     },
     "execution_count": 29,
     "metadata": {},
     "output_type": "execute_result"
    }
   ],
   "source": [
    "total_dict, input_dict"
   ]
  },
  {
   "cell_type": "code",
   "execution_count": 30,
   "id": "f6ef7f23-e7fe-4834-8e47-91a997bd27c2",
   "metadata": {},
   "outputs": [
    {
     "data": {
      "text/plain": [
       "{0: {'name': {'source': 9, 'sourceHandle': None},\n",
       "  'a': {'source': 10, 'sourceHandle': None},\n",
       "  'cubic': {'source': 11, 'sourceHandle': None}},\n",
       " 13: {'structure': {'source': 0, 'sourceHandle': None},\n",
       "  'pseudopotentials': {'source': 14, 'sourceHandle': None},\n",
       "  'kpts': {'source': 15, 'sourceHandle': None},\n",
       "  'calculation': {'source': 16, 'sourceHandle': None},\n",
       "  'smearing': {'source': 17, 'sourceHandle': None}},\n",
       " 1: {'working_directory': {'source': 12, 'sourceHandle': None},\n",
       "  'input_dict': {'source': 13, 'sourceHandle': None}},\n",
       " 2: {'structure': {'source': 1, 'sourceHandle': 'structure'},\n",
       "  'strain_lst': {'source': 18, 'sourceHandle': None}},\n",
       " 20: {'structure': {'source': 2, 'sourceHandle': '0'},\n",
       "  'pseudopotentials': {'source': 14, 'sourceHandle': None},\n",
       "  'kpts': {'source': 15, 'sourceHandle': None},\n",
       "  'calculation': {'source': 21, 'sourceHandle': None},\n",
       "  'smearing': {'source': 17, 'sourceHandle': None}},\n",
       " 23: {'structure': {'source': 2, 'sourceHandle': '1'},\n",
       "  'pseudopotentials': {'source': 14, 'sourceHandle': None},\n",
       "  'kpts': {'source': 15, 'sourceHandle': None},\n",
       "  'calculation': {'source': 21, 'sourceHandle': None},\n",
       "  'smearing': {'source': 17, 'sourceHandle': None}},\n",
       " 25: {'structure': {'source': 2, 'sourceHandle': '2'},\n",
       "  'pseudopotentials': {'source': 14, 'sourceHandle': None},\n",
       "  'kpts': {'source': 15, 'sourceHandle': None},\n",
       "  'calculation': {'source': 21, 'sourceHandle': None},\n",
       "  'smearing': {'source': 17, 'sourceHandle': None}},\n",
       " 27: {'structure': {'source': 2, 'sourceHandle': '3'},\n",
       "  'pseudopotentials': {'source': 14, 'sourceHandle': None},\n",
       "  'kpts': {'source': 15, 'sourceHandle': None},\n",
       "  'calculation': {'source': 21, 'sourceHandle': None},\n",
       "  'smearing': {'source': 17, 'sourceHandle': None}},\n",
       " 29: {'structure': {'source': 2, 'sourceHandle': '4'},\n",
       "  'pseudopotentials': {'source': 14, 'sourceHandle': None},\n",
       "  'kpts': {'source': 15, 'sourceHandle': None},\n",
       "  'calculation': {'source': 21, 'sourceHandle': None},\n",
       "  'smearing': {'source': 17, 'sourceHandle': None}},\n",
       " 3: {'working_directory': {'source': 19, 'sourceHandle': None},\n",
       "  'input_dict': {'source': 20, 'sourceHandle': None}},\n",
       " 4: {'working_directory': {'source': 22, 'sourceHandle': None},\n",
       "  'input_dict': {'source': 23, 'sourceHandle': None}},\n",
       " 5: {'working_directory': {'source': 24, 'sourceHandle': None},\n",
       "  'input_dict': {'source': 25, 'sourceHandle': None}},\n",
       " 6: {'working_directory': {'source': 26, 'sourceHandle': None},\n",
       "  'input_dict': {'source': 27, 'sourceHandle': None}},\n",
       " 7: {'working_directory': {'source': 28, 'sourceHandle': None},\n",
       "  'input_dict': {'source': 29, 'sourceHandle': None}},\n",
       " 30: {'0': {'source': 3, 'sourceHandle': 'volume'},\n",
       "  '1': {'source': 4, 'sourceHandle': 'volume'},\n",
       "  '2': {'source': 5, 'sourceHandle': 'volume'},\n",
       "  '3': {'source': 6, 'sourceHandle': 'volume'},\n",
       "  '4': {'source': 7, 'sourceHandle': 'volume'}},\n",
       " 31: {'0': {'source': 3, 'sourceHandle': 'energy'},\n",
       "  '1': {'source': 4, 'sourceHandle': 'energy'},\n",
       "  '2': {'source': 5, 'sourceHandle': 'energy'},\n",
       "  '3': {'source': 6, 'sourceHandle': 'energy'},\n",
       "  '4': {'source': 7, 'sourceHandle': 'energy'}},\n",
       " 8: {'volume_lst': {'source': 30, 'sourceHandle': None},\n",
       "  'energy_lst': {'source': 31, 'sourceHandle': None}}}"
      ]
     },
     "execution_count": 30,
     "metadata": {},
     "output_type": "execute_result"
    }
   ],
   "source": [
    "new_total_dict = resort_total_lst(total_dict=total_dict, nodes_dict=nodes_dict)\n",
    "new_total_dict"
   ]
  },
  {
   "cell_type": "code",
   "execution_count": 31,
   "id": "ca88e187-1f36-4fd8-a5a7-0b8b97e71441",
   "metadata": {},
   "outputs": [
    {
     "name": "stdout",
     "output_type": "stream",
     "text": [
      "0 {'name': 'Al', 'a': 4.05, 'cubic': True}\n",
      "13 {'structure': OutputReference(b4a48a0d-8db2-4a7a-82cf-8bb62cef4fcc), 'pseudopotentials': {'Al': 'Al.pbe-n-kjpaw_psl.1.0.0.UPF'}, 'kpts': [3, 3, 3], 'calculation': 'vc-relax', 'smearing': 0.02}\n",
      "1 {'working_directory': 'mini', 'input_dict': OutputReference(c3c5fdbf-9d83-4517-be76-3c253fd19a68)}\n",
      "2 {'structure': OutputReference(08c347f2-4374-4148-ad63-cbc63123c9b5, .structure), 'strain_lst': [0.9, 0.9500000000000001, 1.0, 1.05, 1.1]}\n",
      "20 {'structure': OutputReference(045577d2-e868-4a0a-b67c-f02215ed437a, .0), 'pseudopotentials': {'Al': 'Al.pbe-n-kjpaw_psl.1.0.0.UPF'}, 'kpts': [3, 3, 3], 'calculation': 'scf', 'smearing': 0.02}\n",
      "23 {'structure': OutputReference(045577d2-e868-4a0a-b67c-f02215ed437a, .1), 'pseudopotentials': {'Al': 'Al.pbe-n-kjpaw_psl.1.0.0.UPF'}, 'kpts': [3, 3, 3], 'calculation': 'scf', 'smearing': 0.02}\n",
      "25 {'structure': OutputReference(045577d2-e868-4a0a-b67c-f02215ed437a, .2), 'pseudopotentials': {'Al': 'Al.pbe-n-kjpaw_psl.1.0.0.UPF'}, 'kpts': [3, 3, 3], 'calculation': 'scf', 'smearing': 0.02}\n",
      "27 {'structure': OutputReference(045577d2-e868-4a0a-b67c-f02215ed437a, .3), 'pseudopotentials': {'Al': 'Al.pbe-n-kjpaw_psl.1.0.0.UPF'}, 'kpts': [3, 3, 3], 'calculation': 'scf', 'smearing': 0.02}\n",
      "29 {'structure': OutputReference(045577d2-e868-4a0a-b67c-f02215ed437a, .4), 'pseudopotentials': {'Al': 'Al.pbe-n-kjpaw_psl.1.0.0.UPF'}, 'kpts': [3, 3, 3], 'calculation': 'scf', 'smearing': 0.02}\n",
      "3 {'working_directory': 'strain_0', 'input_dict': OutputReference(70d45a01-973a-42c6-abee-190a85036b67)}\n",
      "4 {'working_directory': 'strain_1', 'input_dict': OutputReference(da71d272-80bc-4399-a460-2d45caa0aa4a)}\n",
      "5 {'working_directory': 'strain_2', 'input_dict': OutputReference(90c318bf-ce10-4834-a0d2-254224d8cb7f)}\n",
      "6 {'working_directory': 'strain_3', 'input_dict': OutputReference(d47f5ce9-144b-4d01-87e6-ae9aa1cec060)}\n",
      "7 {'working_directory': 'strain_4', 'input_dict': OutputReference(0bf53da0-fed3-4207-8c23-7a917780e7ee)}\n",
      "30 {'0': OutputReference(2a7da7d8-f785-46a2-81c4-3276767573dc, .volume), '1': OutputReference(d90cda2e-bdef-4718-a98c-c1c8250bd091, .volume), '2': OutputReference(8a427e06-f9ae-4f30-915f-f590181d9591, .volume), '3': OutputReference(a25c7ca7-7413-4495-b16a-f8ca261bb816, .volume), '4': OutputReference(1fb42a89-1daf-4968-856f-9421a7bc1326, .volume)}\n",
      "31 {'0': OutputReference(2a7da7d8-f785-46a2-81c4-3276767573dc, .energy), '1': OutputReference(d90cda2e-bdef-4718-a98c-c1c8250bd091, .energy), '2': OutputReference(8a427e06-f9ae-4f30-915f-f590181d9591, .energy), '3': OutputReference(a25c7ca7-7413-4495-b16a-f8ca261bb816, .energy), '4': OutputReference(1fb42a89-1daf-4968-856f-9421a7bc1326, .energy)}\n",
      "8 {'volume_lst': OutputReference(9a938237-68a0-4ea2-a355-b558a1030073), 'energy_lst': OutputReference(42764edc-5596-4a37-aaea-8c9d595d769e)}\n"
     ]
    }
   ],
   "source": [
    "task_lst = get_workflow(\n",
    "    nodes_dict=nodes_dict, \n",
    "    input_dict=input_dict, \n",
    "    total_dict=new_total_dict,\n",
    "    source_handles_dict=source_handles_dict,\n",
    ")"
   ]
  },
  {
   "cell_type": "code",
   "execution_count": 32,
   "id": "c63922d4-81fb-4fc8-b52c-b26eec68811f",
   "metadata": {},
   "outputs": [],
   "source": [
    "flow = Flow(task_lst)"
   ]
  },
  {
   "cell_type": "code",
   "execution_count": 33,
   "id": "12af9070-05af-4063-9013-1d34dde5d7bb",
   "metadata": {},
   "outputs": [
    {
     "name": "stdout",
     "output_type": "stream",
     "text": [
      "2025-01-17 14:52:13,854 INFO Started executing jobs locally\n",
      "2025-01-17 14:52:14,594 INFO Starting job - get_bulk_structure (b4a48a0d-8db2-4a7a-82cf-8bb62cef4fcc)\n",
      "2025-01-17 14:52:14,599 INFO Finished job - get_bulk_structure (b4a48a0d-8db2-4a7a-82cf-8bb62cef4fcc)\n",
      "2025-01-17 14:52:14,600 INFO Starting job - get_dict (c3c5fdbf-9d83-4517-be76-3c253fd19a68)\n",
      "2025-01-17 14:52:14,602 INFO Finished job - get_dict (c3c5fdbf-9d83-4517-be76-3c253fd19a68)\n",
      "2025-01-17 14:52:14,602 INFO Starting job - calculate_qe (08c347f2-4374-4148-ad63-cbc63123c9b5)\n"
     ]
    },
    {
     "name": "stderr",
     "output_type": "stream",
     "text": [
      "Note: The following floating-point exceptions are signalling: IEEE_INVALID_FLAG\n"
     ]
    },
    {
     "name": "stdout",
     "output_type": "stream",
     "text": [
      "2025-01-17 14:52:27,833 INFO Finished job - calculate_qe (08c347f2-4374-4148-ad63-cbc63123c9b5)\n",
      "2025-01-17 14:52:27,833 INFO Starting job - generate_structures (045577d2-e868-4a0a-b67c-f02215ed437a)\n",
      "2025-01-17 14:52:27,836 INFO Finished job - generate_structures (045577d2-e868-4a0a-b67c-f02215ed437a)\n",
      "2025-01-17 14:52:27,837 INFO Starting job - get_dict (70d45a01-973a-42c6-abee-190a85036b67)\n",
      "2025-01-17 14:52:27,839 INFO Finished job - get_dict (70d45a01-973a-42c6-abee-190a85036b67)\n",
      "2025-01-17 14:52:27,839 INFO Starting job - get_dict (da71d272-80bc-4399-a460-2d45caa0aa4a)\n",
      "2025-01-17 14:52:27,841 INFO Finished job - get_dict (da71d272-80bc-4399-a460-2d45caa0aa4a)\n",
      "2025-01-17 14:52:27,841 INFO Starting job - get_dict (90c318bf-ce10-4834-a0d2-254224d8cb7f)\n",
      "2025-01-17 14:52:27,843 INFO Finished job - get_dict (90c318bf-ce10-4834-a0d2-254224d8cb7f)\n",
      "2025-01-17 14:52:27,843 INFO Starting job - get_dict (d47f5ce9-144b-4d01-87e6-ae9aa1cec060)\n",
      "2025-01-17 14:52:27,845 INFO Finished job - get_dict (d47f5ce9-144b-4d01-87e6-ae9aa1cec060)\n",
      "2025-01-17 14:52:27,845 INFO Starting job - get_dict (0bf53da0-fed3-4207-8c23-7a917780e7ee)\n",
      "2025-01-17 14:52:27,847 INFO Finished job - get_dict (0bf53da0-fed3-4207-8c23-7a917780e7ee)\n",
      "2025-01-17 14:52:27,847 INFO Starting job - calculate_qe (2a7da7d8-f785-46a2-81c4-3276767573dc)\n",
      "2025-01-17 14:52:30,858 INFO Finished job - calculate_qe (2a7da7d8-f785-46a2-81c4-3276767573dc)\n",
      "2025-01-17 14:52:30,859 INFO Starting job - calculate_qe (d90cda2e-bdef-4718-a98c-c1c8250bd091)\n"
     ]
    },
    {
     "name": "stderr",
     "output_type": "stream",
     "text": [
      "Note: The following floating-point exceptions are signalling: IEEE_INVALID_FLAG\n",
      "Note: The following floating-point exceptions are signalling: IEEE_INVALID_FLAG\n"
     ]
    },
    {
     "name": "stdout",
     "output_type": "stream",
     "text": [
      "2025-01-17 14:52:34,081 INFO Finished job - calculate_qe (d90cda2e-bdef-4718-a98c-c1c8250bd091)\n",
      "2025-01-17 14:52:34,081 INFO Starting job - calculate_qe (8a427e06-f9ae-4f30-915f-f590181d9591)\n",
      "2025-01-17 14:52:37,498 INFO Finished job - calculate_qe (8a427e06-f9ae-4f30-915f-f590181d9591)\n",
      "2025-01-17 14:52:37,498 INFO Starting job - calculate_qe (a25c7ca7-7413-4495-b16a-f8ca261bb816)\n"
     ]
    },
    {
     "name": "stderr",
     "output_type": "stream",
     "text": [
      "Note: The following floating-point exceptions are signalling: IEEE_INVALID_FLAG\n"
     ]
    },
    {
     "name": "stdout",
     "output_type": "stream",
     "text": [
      "2025-01-17 14:52:41,281 INFO Finished job - calculate_qe (a25c7ca7-7413-4495-b16a-f8ca261bb816)\n",
      "2025-01-17 14:52:41,282 INFO Starting job - calculate_qe (1fb42a89-1daf-4968-856f-9421a7bc1326)\n"
     ]
    },
    {
     "name": "stderr",
     "output_type": "stream",
     "text": [
      "Note: The following floating-point exceptions are signalling: IEEE_INVALID_FLAG\n"
     ]
    },
    {
     "name": "stdout",
     "output_type": "stream",
     "text": [
      "2025-01-17 14:52:45,163 INFO Finished job - calculate_qe (1fb42a89-1daf-4968-856f-9421a7bc1326)\n",
      "2025-01-17 14:52:45,164 INFO Starting job - get_list (9a938237-68a0-4ea2-a355-b558a1030073)\n",
      "2025-01-17 14:52:45,166 INFO Finished job - get_list (9a938237-68a0-4ea2-a355-b558a1030073)\n",
      "2025-01-17 14:52:45,167 INFO Starting job - get_list (42764edc-5596-4a37-aaea-8c9d595d769e)\n",
      "2025-01-17 14:52:45,169 INFO Finished job - get_list (42764edc-5596-4a37-aaea-8c9d595d769e)\n",
      "2025-01-17 14:52:45,169 INFO Starting job - plot_energy_volume_curve (fa13a862-7064-4b11-8f0b-99a308c2f79a)\n"
     ]
    },
    {
     "name": "stderr",
     "output_type": "stream",
     "text": [
      "Note: The following floating-point exceptions are signalling: IEEE_INVALID_FLAG\n"
     ]
    },
    {
     "name": "stdout",
     "output_type": "stream",
     "text": [
      "2025-01-17 14:52:45,288 INFO Finished job - plot_energy_volume_curve (fa13a862-7064-4b11-8f0b-99a308c2f79a)\n",
      "2025-01-17 14:52:45,289 INFO Finished executing jobs locally\n"
     ]
    },
    {
     "data": {
      "text/plain": [
       "{'b4a48a0d-8db2-4a7a-82cf-8bb62cef4fcc': {1: Response(output={'numbers': array([13, 13, 13, 13]), 'positions': array([[0.   , 0.   , 0.   ],\n",
       "         [0.   , 2.025, 2.025],\n",
       "         [2.025, 0.   , 2.025],\n",
       "         [2.025, 2.025, 0.   ]]), 'cell': array([[4.05, 0.  , 0.  ],\n",
       "         [0.  , 4.05, 0.  ],\n",
       "         [0.  , 0.  , 4.05]]), 'pbc': array([ True,  True,  True])}, detour=None, addition=None, replace=None, stored_data=None, stop_children=False, stop_jobflow=False, job_dir=PosixPath('/home/janssen/notebooks/2025/2025-01-16-jobflow-qe'))},\n",
       " 'c3c5fdbf-9d83-4517-be76-3c253fd19a68': {1: Response(output={'structure': {'numbers': [13, 13, 13, 13], 'positions': [[0.0, 0.0, 0.0], [0.0, 2.025, 2.025], [2.025, 0.0, 2.025], [2.025, 2.025, 0.0]], 'cell': [[4.05, 0.0, 0.0], [0.0, 4.05, 0.0], [0.0, 0.0, 4.05]], 'pbc': [True, True, True]}, 'pseudopotentials': {'Al': 'Al.pbe-n-kjpaw_psl.1.0.0.UPF'}, 'kpts': [3, 3, 3], 'calculation': 'vc-relax', 'smearing': 0.02}, detour=None, addition=None, replace=None, stored_data=None, stop_children=False, stop_jobflow=False, job_dir=PosixPath('/home/janssen/notebooks/2025/2025-01-16-jobflow-qe'))},\n",
       " '08c347f2-4374-4148-ad63-cbc63123c9b5': {1: Response(output={'structure': {'numbers': array([13, 13, 13, 13]), 'positions': array([[0.        , 0.        , 0.        ],\n",
       "         [0.        , 2.02281861, 2.02281861],\n",
       "         [2.02281861, 0.        , 2.02281861],\n",
       "         [2.02281861, 2.02281861, 0.        ]]), 'cell': array([[4.04563722, 0.        , 0.        ],\n",
       "         [0.        , 4.04563722, 0.        ],\n",
       "         [0.        , 0.        , 4.04563722]]), 'pbc': array([ True,  True,  True])}, 'energy': -1074.936526225352, 'volume': 66.21567448236218}, detour=None, addition=None, replace=None, stored_data=None, stop_children=False, stop_jobflow=False, job_dir=PosixPath('/home/janssen/notebooks/2025/2025-01-16-jobflow-qe'))},\n",
       " '045577d2-e868-4a0a-b67c-f02215ed437a': {1: Response(output={'0': {'numbers': array([13, 13, 13, 13]), 'positions': array([[0.        , 0.        , 0.        ],\n",
       "         [0.        , 1.95300989, 1.95300989],\n",
       "         [1.95300989, 0.        , 1.95300989],\n",
       "         [1.95300989, 1.95300989, 0.        ]]), 'cell': array([[3.90601979, 0.        , 0.        ],\n",
       "         [0.        , 3.90601979, 0.        ],\n",
       "         [0.        , 0.        , 3.90601979]]), 'pbc': array([ True,  True,  True])}, '1': {'numbers': array([13, 13, 13, 13]), 'positions': array([[0.        , 0.        , 0.        ],\n",
       "         [0.        , 1.98852692, 1.98852692],\n",
       "         [1.98852692, 0.        , 1.98852692],\n",
       "         [1.98852692, 1.98852692, 0.        ]]), 'cell': array([[3.97705384, 0.        , 0.        ],\n",
       "         [0.        , 3.97705384, 0.        ],\n",
       "         [0.        , 0.        , 3.97705384]]), 'pbc': array([ True,  True,  True])}, '2': {'numbers': array([13, 13, 13, 13]), 'positions': array([[0.        , 0.        , 0.        ],\n",
       "         [0.        , 2.02281861, 2.02281861],\n",
       "         [2.02281861, 0.        , 2.02281861],\n",
       "         [2.02281861, 2.02281861, 0.        ]]), 'cell': array([[4.04563722, 0.        , 0.        ],\n",
       "         [0.        , 4.04563722, 0.        ],\n",
       "         [0.        , 0.        , 4.04563722]]), 'pbc': array([ True,  True,  True])}, '3': {'numbers': array([13, 13, 13, 13]), 'positions': array([[0.        , 0.        , 0.        ],\n",
       "         [0.        , 2.05598546, 2.05598546],\n",
       "         [2.05598546, 0.        , 2.05598546],\n",
       "         [2.05598546, 2.05598546, 0.        ]]), 'cell': array([[4.11197093, 0.        , 0.        ],\n",
       "         [0.        , 4.11197093, 0.        ],\n",
       "         [0.        , 0.        , 4.11197093]]), 'pbc': array([ True,  True,  True])}, '4': {'numbers': array([13, 13, 13, 13]), 'positions': array([[0.        , 0.        , 0.        ],\n",
       "         [0.        , 2.08811543, 2.08811543],\n",
       "         [2.08811543, 0.        , 2.08811543],\n",
       "         [2.08811543, 2.08811543, 0.        ]]), 'cell': array([[4.17623085, 0.        , 0.        ],\n",
       "         [0.        , 4.17623085, 0.        ],\n",
       "         [0.        , 0.        , 4.17623085]]), 'pbc': array([ True,  True,  True])}}, detour=None, addition=None, replace=None, stored_data=None, stop_children=False, stop_jobflow=False, job_dir=PosixPath('/home/janssen/notebooks/2025/2025-01-16-jobflow-qe'))},\n",
       " '70d45a01-973a-42c6-abee-190a85036b67': {1: Response(output={'structure': {'numbers': [13, 13, 13, 13], 'positions': [[0.0, 0.0, 0.0], [0.0, 1.95300989298107, 1.95300989298107], [1.95300989298107, 0.0, 1.95300989298107], [1.95300989298107, 1.95300989298107, 0.0]], 'cell': [[3.9060197859621417, 0.0, 0.0], [0.0, 3.9060197859621417, 0.0], [0.0, 0.0, 3.9060197859621417]], 'pbc': [True, True, True]}, 'pseudopotentials': {'Al': 'Al.pbe-n-kjpaw_psl.1.0.0.UPF'}, 'kpts': [3, 3, 3], 'calculation': 'scf', 'smearing': 0.02}, detour=None, addition=None, replace=None, stored_data=None, stop_children=False, stop_jobflow=False, job_dir=PosixPath('/home/janssen/notebooks/2025/2025-01-16-jobflow-qe'))},\n",
       " 'da71d272-80bc-4399-a460-2d45caa0aa4a': {1: Response(output={'structure': {'numbers': [13, 13, 13, 13], 'positions': [[0.0, 0.0, 0.0], [0.0, 1.9885269221590203, 1.9885269221590203], [1.9885269221590203, 0.0, 1.9885269221590203], [1.9885269221590203, 1.9885269221590203, 0.0]], 'cell': [[3.977053844318042, 0.0, 0.0], [0.0, 3.977053844318042, 0.0], [0.0, 0.0, 3.977053844318042]], 'pbc': [True, True, True]}, 'pseudopotentials': {'Al': 'Al.pbe-n-kjpaw_psl.1.0.0.UPF'}, 'kpts': [3, 3, 3], 'calculation': 'scf', 'smearing': 0.02}, detour=None, addition=None, replace=None, stored_data=None, stop_children=False, stop_jobflow=False, job_dir=PosixPath('/home/janssen/notebooks/2025/2025-01-16-jobflow-qe'))},\n",
       " '90c318bf-ce10-4834-a0d2-254224d8cb7f': {1: Response(output={'structure': {'numbers': [13, 13, 13, 13], 'positions': [[0.0, 0.0, 0.0], [0.0, 2.022818607973416, 2.022818607973416], [2.022818607973416, 0.0, 2.022818607973416], [2.022818607973416, 2.022818607973416, 0.0]], 'cell': [[4.045637215946834, 0.0, 0.0], [0.0, 4.045637215946834, 0.0], [0.0, 0.0, 4.045637215946834]], 'pbc': [True, True, True]}, 'pseudopotentials': {'Al': 'Al.pbe-n-kjpaw_psl.1.0.0.UPF'}, 'kpts': [3, 3, 3], 'calculation': 'scf', 'smearing': 0.02}, detour=None, addition=None, replace=None, stored_data=None, stop_children=False, stop_jobflow=False, job_dir=PosixPath('/home/janssen/notebooks/2025/2025-01-16-jobflow-qe'))},\n",
       " 'd47f5ce9-144b-4d01-87e6-ae9aa1cec060': {1: Response(output={'structure': {'numbers': [13, 13, 13, 13], 'positions': [[0.0, 0.0, 0.0], [0.0, 2.0559854636414734, 2.0559854636414734], [2.0559854636414734, 0.0, 2.0559854636414734], [2.0559854636414734, 2.0559854636414734, 0.0]], 'cell': [[4.1119709272829486, 0.0, 0.0], [0.0, 4.1119709272829486, 0.0], [0.0, 0.0, 4.1119709272829486]], 'pbc': [True, True, True]}, 'pseudopotentials': {'Al': 'Al.pbe-n-kjpaw_psl.1.0.0.UPF'}, 'kpts': [3, 3, 3], 'calculation': 'scf', 'smearing': 0.02}, detour=None, addition=None, replace=None, stored_data=None, stop_children=False, stop_jobflow=False, job_dir=PosixPath('/home/janssen/notebooks/2025/2025-01-16-jobflow-qe'))},\n",
       " '0bf53da0-fed3-4207-8c23-7a917780e7ee': {1: Response(output={'structure': {'numbers': [13, 13, 13, 13], 'positions': [[0.0, 0.0, 0.0], [0.0, 2.088115426186086, 2.088115426186086], [2.088115426186086, 0.0, 2.088115426186086], [2.088115426186086, 2.088115426186086, 0.0]], 'cell': [[4.176230852372174, 0.0, 0.0], [0.0, 4.176230852372174, 0.0], [0.0, 0.0, 4.176230852372174]], 'pbc': [True, True, True]}, 'pseudopotentials': {'Al': 'Al.pbe-n-kjpaw_psl.1.0.0.UPF'}, 'kpts': [3, 3, 3], 'calculation': 'scf', 'smearing': 0.02}, detour=None, addition=None, replace=None, stored_data=None, stop_children=False, stop_jobflow=False, job_dir=PosixPath('/home/janssen/notebooks/2025/2025-01-16-jobflow-qe'))},\n",
       " '2a7da7d8-f785-46a2-81c4-3276767573dc': {1: Response(output={'structure': {'numbers': array([13, 13, 13, 13]), 'positions': array([[0.        , 0.        , 0.        ],\n",
       "         [0.        , 1.95300988, 1.95300988],\n",
       "         [1.95300988, 0.        , 1.95300988],\n",
       "         [1.95300988, 1.95300988, 0.        ]]), 'cell': array([[3.90601977, 0.        , 0.        ],\n",
       "         [0.        , 3.90601977, 0.        ],\n",
       "         [0.        , 0.        , 3.90601977]]), 'pbc': array([ True,  True,  True])}, 'energy': -1074.8457446150612, 'volume': 59.59410625267965}, detour=None, addition=None, replace=None, stored_data=None, stop_children=False, stop_jobflow=False, job_dir=PosixPath('/home/janssen/notebooks/2025/2025-01-16-jobflow-qe'))},\n",
       " 'd90cda2e-bdef-4718-a98c-c1c8250bd091': {1: Response(output={'structure': {'numbers': array([13, 13, 13, 13]), 'positions': array([[0.        , 0.        , 0.        ],\n",
       "         [0.        , 1.98852691, 1.98852691],\n",
       "         [1.98852691, 0.        , 1.98852691],\n",
       "         [1.98852691, 1.98852691, 0.        ]]), 'cell': array([[3.97705383, 0.        , 0.        ],\n",
       "         [0.        , 3.97705383, 0.        ],\n",
       "         [0.        , 0.        , 3.97705383]]), 'pbc': array([ True,  True,  True])}, 'energy': -1074.9161488594602, 'volume': 62.90488993338408}, detour=None, addition=None, replace=None, stored_data=None, stop_children=False, stop_jobflow=False, job_dir=PosixPath('/home/janssen/notebooks/2025/2025-01-16-jobflow-qe'))},\n",
       " '8a427e06-f9ae-4f30-915f-f590181d9591': {1: Response(output={'structure': {'numbers': array([13, 13, 13, 13]), 'positions': array([[0.       , 0.       , 0.       ],\n",
       "         [0.       , 2.0228186, 2.0228186],\n",
       "         [2.0228186, 0.       , 2.0228186],\n",
       "         [2.0228186, 2.0228186, 0.       ]]), 'cell': array([[4.0456372, 0.       , 0.       ],\n",
       "         [0.       , 4.0456372, 0.       ],\n",
       "         [0.       , 0.       , 4.0456372]]), 'pbc': array([ True,  True,  True])}, 'energy': -1074.9365241668372, 'volume': 66.21567361408847}, detour=None, addition=None, replace=None, stored_data=None, stop_children=False, stop_jobflow=False, job_dir=PosixPath('/home/janssen/notebooks/2025/2025-01-16-jobflow-qe'))},\n",
       " 'a25c7ca7-7413-4495-b16a-f8ca261bb816': {1: Response(output={'structure': {'numbers': array([13, 13, 13, 13]), 'positions': array([[0.        , 0.        , 0.        ],\n",
       "         [0.        , 2.05598545, 2.05598545],\n",
       "         [2.05598545, 0.        , 2.05598545],\n",
       "         [2.05598545, 2.05598545, 0.        ]]), 'cell': array([[4.11197091, 0.        , 0.        ],\n",
       "         [0.        , 4.11197091, 0.        ],\n",
       "         [0.        , 0.        , 4.11197091]]), 'pbc': array([ True,  True,  True])}, 'energy': -1074.919286002581, 'volume': 69.52645729479316}, detour=None, addition=None, replace=None, stored_data=None, stop_children=False, stop_jobflow=False, job_dir=PosixPath('/home/janssen/notebooks/2025/2025-01-16-jobflow-qe'))},\n",
       " '1fb42a89-1daf-4968-856f-9421a7bc1326': {1: Response(output={'structure': {'numbers': array([13, 13, 13, 13]), 'positions': array([[0.        , 0.        , 0.        ],\n",
       "         [0.        , 2.08811542, 2.08811542],\n",
       "         [2.08811542, 0.        , 2.08811542],\n",
       "         [2.08811542, 2.08811542, 0.        ]]), 'cell': array([[4.17623083, 0.        , 0.        ],\n",
       "         [0.        , 4.17623083, 0.        ],\n",
       "         [0.        , 0.        , 4.17623083]]), 'pbc': array([ True,  True,  True])}, 'energy': -1074.8737904693398, 'volume': 72.83724097549725}, detour=None, addition=None, replace=None, stored_data=None, stop_children=False, stop_jobflow=False, job_dir=PosixPath('/home/janssen/notebooks/2025/2025-01-16-jobflow-qe'))},\n",
       " '9a938237-68a0-4ea2-a355-b558a1030073': {1: Response(output=[59.59410625267965, 62.90488993338408, 66.21567361408847, 69.52645729479316, 72.83724097549725], detour=None, addition=None, replace=None, stored_data=None, stop_children=False, stop_jobflow=False, job_dir=PosixPath('/home/janssen/notebooks/2025/2025-01-16-jobflow-qe'))},\n",
       " '42764edc-5596-4a37-aaea-8c9d595d769e': {1: Response(output=[-1074.8457446150612, -1074.9161488594602, -1074.9365241668372, -1074.919286002581, -1074.8737904693398], detour=None, addition=None, replace=None, stored_data=None, stop_children=False, stop_jobflow=False, job_dir=PosixPath('/home/janssen/notebooks/2025/2025-01-16-jobflow-qe'))},\n",
       " 'fa13a862-7064-4b11-8f0b-99a308c2f79a': {1: Response(output=None, detour=None, addition=None, replace=None, stored_data=None, stop_children=False, stop_jobflow=False, job_dir=PosixPath('/home/janssen/notebooks/2025/2025-01-16-jobflow-qe'))}}"
      ]
     },
     "execution_count": 33,
     "metadata": {},
     "output_type": "execute_result"
    },
    {
     "data": {
      "image/png": "[encoded data removed]",
      "text/plain": [
       "<Figure size 640x480 with 1 Axes>"
      ]
     },
     "metadata": {},
     "output_type": "display_data"
    }
   ],
   "source": [
    "result = run_locally(flow)\n",
    "result"
   ]
  },
  {
   "cell_type": "code",
   "execution_count": null,
   "id": "fde82477-d967-40d2-ac77-3ec35f27650d",
   "metadata": {},
   "outputs": [],
   "source": []
  }
 ],
 "metadata": {
  "kernelspec": {
   "display_name": "Python 3 (ipykernel)",
   "language": "python",
   "name": "python3"
  },
  "language_info": {
   "codemirror_mode": {
    "name": "ipython",
    "version": 3
   },
   "file_extension": ".py",
   "mimetype": "text/x-python",
   "name": "python",
   "nbconvert_exporter": "python",
   "pygments_lexer": "ipython3",
   "version": "3.12.5"
  }
 },
 "nbformat": 4,
 "nbformat_minor": 5
}
