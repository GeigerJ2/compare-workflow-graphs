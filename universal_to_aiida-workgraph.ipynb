{
 "cells": [
  {
   "cell_type": "code",
   "execution_count": 1,
   "id": "52c8e7a0-d839-491f-af6a-a04ccdea13d4",
   "metadata": {},
   "outputs": [],
   "source": [
    "from aiida import load_profile\n",
    "from aiida.orm import Int\n",
    "from aiida_workgraph import WorkGraph\n",
    "from aiida.engine import calcfunction\n",
    "from aiida_workgraph.decorator import build_task_from_callable"
   ]
  },
  {
   "cell_type": "code",
   "execution_count": 2,
   "id": "045cf154-7c18-4e6f-80c1-d3a0dcc3b347",
   "metadata": {},
   "outputs": [],
   "source": [
    "from inspect import isfunction"
   ]
  },
  {
   "cell_type": "code",
   "execution_count": 3,
   "id": "41edf75b-5770-478a-b8a9-efd32426685d",
   "metadata": {},
   "outputs": [],
   "source": [
    "def get_kwargs(lst):\n",
    "    return {t['targetHandle']: {'source': t['source'], 'sourceHandle': t['sourceHandle']} for t in lst}"
   ]
  },
  {
   "cell_type": "code",
   "execution_count": 4,
   "id": "2a56cd95-2087-42e0-aa13-9d6ec0517090",
   "metadata": {},
   "outputs": [],
   "source": [
    "def wrap_function(func, **kwargs):\n",
    "    # First, apply the calcfunction decorator\n",
    "    func_decorated = calcfunction(func)\n",
    "    # Then, apply task decorator\n",
    "    task_decorated = build_task_from_callable(\n",
    "        func_decorated,\n",
    "        inputs=kwargs.get(\"inputs\", []),\n",
    "        outputs=kwargs.get(\"outputs\", []),\n",
    "    )\n",
    "    identifier = kwargs.get(\"identifier\", None)\n",
    "    func_decorated.identifier = identifier if identifier else func.__name__\n",
    "    func_decorated.task = func_decorated.node = task_decorated\n",
    "    return func_decorated"
   ]
  },
  {
   "cell_type": "code",
   "execution_count": 5,
   "id": "14e82061-c163-454c-82a2-f533e9b41226",
   "metadata": {},
   "outputs": [],
   "source": [
    "def group_edges(edges_lst):\n",
    "    # edges_sorted_lst = sorted(edges_lst, key=lambda x: x['target'], reverse=True)     \n",
    "    total_dict = {}\n",
    "    tmp_lst = []\n",
    "    target_id = edges_lst[0]['target'] \n",
    "    for ed in edges_lst:\n",
    "        if target_id == ed[\"target\"]:\n",
    "            tmp_lst.append(ed)\n",
    "        else:\n",
    "            total_dict[target_id] = get_kwargs(lst=tmp_lst)\n",
    "            target_id = ed[\"target\"]\n",
    "            tmp_lst = [ed]\n",
    "    total_dict[target_id] = get_kwargs(lst=tmp_lst)\n",
    "    return total_dict"
   ]
  },
  {
   "cell_type": "code",
   "execution_count": 6,
   "id": "e9504a67-9be2-4596-beaf-c59692eb2b53",
   "metadata": {},
   "outputs": [],
   "source": [
    "def get_output_labels(edges_lst):\n",
    "    output_label_dict = {}\n",
    "    for ed in edges_lst:\n",
    "        if ed['sourceHandle'] is not None:\n",
    "            if ed[\"source\"] not in output_label_dict.keys():\n",
    "                output_label_dict[ed[\"source\"]] = []\n",
    "            output_label_dict[ed[\"source\"]].append(ed['sourceHandle'])\n",
    "    return output_label_dict"
   ]
  },
  {
   "cell_type": "code",
   "execution_count": 7,
   "id": "e68f58f1-2b52-48c5-9938-cc63697ceff9",
   "metadata": {},
   "outputs": [],
   "source": [
    "def get_function_dict(nodes_dict, output_label_dict):\n",
    "    function_dict = {}\n",
    "    for k, v in nodes_dict.items():\n",
    "        if isfunction(v):\n",
    "            if k in output_label_dict.keys():\n",
    "                kwargs = {\"outputs\": [{\"name\": label} for label in output_label_dict[k]]}\n",
    "                function_dict[k] = wrap_function(func=v, **kwargs)\n",
    "            else: \n",
    "                function_dict[k] = wrap_function(func=v)\n",
    "    \n",
    "    return function_dict"
   ]
  },
  {
   "cell_type": "code",
   "execution_count": 8,
   "id": "a0917c33-a11c-489c-9745-7960b1fc38f5",
   "metadata": {},
   "outputs": [],
   "source": [
    "def build_workgraph(function_dict, total_dict, nodes_dict, label=\"my_workflow\"):\n",
    "    wg = WorkGraph(label)\n",
    "    mapping_dict = {}\n",
    "    for k, v in function_dict.items():\n",
    "        name = v.__name__\n",
    "        mapping_dict[k] = name\n",
    "        total_item_dict = total_dict[k]\n",
    "        kwargs = {}\n",
    "        for tk, tv in total_item_dict.items():\n",
    "            if tv['source'] in mapping_dict.keys():\n",
    "                kwargs[tk] = wg.tasks[mapping_dict[tv['source']]].outputs[tv['sourceHandle']]\n",
    "            elif tv['sourceHandle'] is None:\n",
    "                kwargs[tk] = nodes_dict[tv['source']]\n",
    "            else:\n",
    "                raise ValueError()\n",
    "        wg.add_task(v, name=name, **kwargs)\n",
    "    return wg"
   ]
  },
  {
   "cell_type": "code",
   "execution_count": 9,
   "id": "054776de-e152-4572-bda1-84fa7b4ceff9",
   "metadata": {},
   "outputs": [],
   "source": [
    "def add_x_and_y(x, y):\n",
    "    z = x + y\n",
    "    return {\"x\": x, \"y\": y, \"z\": z}"
   ]
  },
  {
   "cell_type": "code",
   "execution_count": 10,
   "id": "9c6a026f-b284-4e6e-a303-0149cb88e960",
   "metadata": {},
   "outputs": [],
   "source": [
    "def add_x_and_y_and_z(x, y, z):\n",
    "    w = x + y + z\n",
    "    return w"
   ]
  },
  {
   "cell_type": "code",
   "execution_count": 11,
   "id": "70f7cbfe-298b-44d3-acef-9df56f840b6e",
   "metadata": {},
   "outputs": [],
   "source": [
    "edges_lst = [\n",
    "    {'target': 1, 'targetHandle': 'z', 'source': 0, 'sourceHandle': 'z'},\n",
    "    {'target': 1, 'targetHandle': 'x', 'source': 0, 'sourceHandle': 'x'},\n",
    "    {'target': 1, 'targetHandle': 'y', 'source': 0, 'sourceHandle': 'y'},\n",
    "    {'target': 0, 'targetHandle': 'x', 'source': 2, 'sourceHandle': None},\n",
    "    {'target': 0, 'targetHandle': 'y', 'source': 3, 'sourceHandle': None},\n",
    "]"
   ]
  },
  {
   "cell_type": "code",
   "execution_count": 12,
   "id": "358a2547-edfd-41ad-941d-68d22d486e03",
   "metadata": {},
   "outputs": [],
   "source": [
    "nodes_dict = {\n",
    "    0: add_x_and_y,\n",
    "    1: add_x_and_y_and_z,\n",
    "    2: 1,\n",
    "    3: 2,\n",
    "}"
   ]
  },
  {
   "cell_type": "code",
   "execution_count": 13,
   "id": "214b63cc-381f-453f-85fe-5adfdeebf809",
   "metadata": {},
   "outputs": [
    {
     "data": {
      "text/plain": [
       "{0: ['z', 'x', 'y']}"
      ]
     },
     "execution_count": 13,
     "metadata": {},
     "output_type": "execute_result"
    }
   ],
   "source": [
    "output_label_dict = get_output_labels(edges_lst)\n",
    "output_label_dict"
   ]
  },
  {
   "cell_type": "code",
   "execution_count": 14,
   "id": "55252de0-87cf-4c17-845d-b87411a39ad6",
   "metadata": {},
   "outputs": [
    {
     "data": {
      "text/plain": [
       "{1: {'z': {'source': 0, 'sourceHandle': 'z'},\n",
       "  'x': {'source': 0, 'sourceHandle': 'x'},\n",
       "  'y': {'source': 0, 'sourceHandle': 'y'}},\n",
       " 0: {'x': {'source': 2, 'sourceHandle': None},\n",
       "  'y': {'source': 3, 'sourceHandle': None}}}"
      ]
     },
     "execution_count": 14,
     "metadata": {},
     "output_type": "execute_result"
    }
   ],
   "source": [
    "total_dict = group_edges(edges_lst=edges_lst)\n",
    "total_dict"
   ]
  },
  {
   "cell_type": "code",
   "execution_count": 15,
   "id": "20b5a62e-63cd-42e4-b586-229bba109dca",
   "metadata": {},
   "outputs": [
    {
     "data": {
      "text/plain": [
       "{0: <function __main__.add_x_and_y(x, y)>,\n",
       " 1: <function __main__.add_x_and_y_and_z(x, y, z)>}"
      ]
     },
     "execution_count": 15,
     "metadata": {},
     "output_type": "execute_result"
    }
   ],
   "source": [
    "function_dict = get_function_dict(nodes_dict=nodes_dict, output_label_dict=output_label_dict)\n",
    "function_dict "
   ]
  },
  {
   "cell_type": "code",
   "execution_count": 16,
   "id": "eaea9248-0b6a-422e-ab21-1c345890d96a",
   "metadata": {},
   "outputs": [
    {
     "data": {
      "text/plain": [
       "Profile<uuid='7bb8761123324468bb98821cbb757251' name='presto'>"
      ]
     },
     "execution_count": 16,
     "metadata": {},
     "output_type": "execute_result"
    }
   ],
   "source": [
    "load_profile()"
   ]
  },
  {
   "cell_type": "code",
   "execution_count": 17,
   "id": "df368937-1cec-41af-98d4-44866140ab4b",
   "metadata": {},
   "outputs": [
    {
     "name": "stdout",
     "output_type": "stream",
     "text": [
      "Widget dependency not found. To visualize the workgraph, please install the widget dependency. Use 'pip install aiida-workgraph[widget]' if installing from PyPI. For local source installations, use 'pip install .[widget]' and then build the JavaScript library. Refer to the documentation for more details.\n"
     ]
    },
    {
     "data": {
      "text/plain": [
       "NodeGraph(name=\"my_workflow, uuid=\"79495230-ae25-11ef-8590-9ec6524ec879\")"
      ]
     },
     "execution_count": 17,
     "metadata": {},
     "output_type": "execute_result"
    }
   ],
   "source": [
    "wg = build_workgraph(function_dict=function_dict, total_dict=total_dict, nodes_dict=nodes_dict, label=\"my_workflow\")\n",
    "wg"
   ]
  },
  {
   "cell_type": "code",
   "execution_count": 18,
   "id": "a0d7c280-d1e5-4ce6-8e8c-1f82d0264ce8",
   "metadata": {},
   "outputs": [
    {
     "name": "stderr",
     "output_type": "stream",
     "text": [
      "11/29/2024 08:42:25 AM <57231> aiida.orm.nodes.process.workflow.workchain.WorkChainNode: [REPORT] [58|WorkGraphEngine|continue_workgraph]: Continue workgraph.\n",
      "11/29/2024 08:42:25 AM <57231> aiida.orm.nodes.process.workflow.workchain.WorkChainNode: [REPORT] [58|WorkGraphEngine|continue_workgraph]: tasks ready to run: add_x_and_y\n",
      "11/29/2024 08:42:25 AM <57231> aiida.orm.nodes.process.workflow.workchain.WorkChainNode: [REPORT] [58|WorkGraphEngine|run_tasks]: Run task: add_x_and_y, type: CALCFUNCTION\n"
     ]
    },
    {
     "name": "stdout",
     "output_type": "stream",
     "text": [
      "------------------------------------------------------------\n"
     ]
    },
    {
     "name": "stderr",
     "output_type": "stream",
     "text": [
      "11/29/2024 08:42:26 AM <57231> aiida.orm.nodes.process.calculation.calcfunction.CalcFunctionNode: [REPORT] [61|add_x_and_y|on_except]: Traceback (most recent call last):\n",
      "  File \"/home/jan/mambaforge/lib/python3.12/site-packages/plumpy/base/state_machine.py\", line 324, in transition_to\n",
      "    self._enter_next_state(new_state)\n",
      "  File \"/home/jan/mambaforge/lib/python3.12/site-packages/plumpy/base/state_machine.py\", line 388, in _enter_next_state\n",
      "    self._fire_state_event(StateEventHook.ENTERED_STATE, last_state)\n",
      "  File \"/home/jan/mambaforge/lib/python3.12/site-packages/plumpy/base/state_machine.py\", line 300, in _fire_state_event\n",
      "    callback(self, hook, state)\n",
      "  File \"/home/jan/mambaforge/lib/python3.12/site-packages/plumpy/processes.py\", line 331, in <lambda>\n",
      "    lambda _s, _h, from_state: self.on_entered(cast(Optional[process_states.State], from_state)),\n",
      "                               ^^^^^^^^^^^^^^^^^^^^^^^^^^^^^^^^^^^^^^^^^^^^^^^^^^^^^^^^^^^^^^^^^\n",
      "  File \"/home/jan/mambaforge/lib/python3.12/site-packages/aiida/engine/processes/process.py\", line 433, in on_entered\n",
      "    self.update_outputs()\n",
      "  File \"/home/jan/mambaforge/lib/python3.12/site-packages/aiida/engine/processes/process.py\", line 675, in update_outputs\n",
      "    output.base.links.add_incoming(self.node, LinkType.CREATE, link_label)\n",
      "  File \"/home/jan/mambaforge/lib/python3.12/site-packages/aiida/orm/nodes/links.py\", line 57, in add_incoming\n",
      "    self.validate_incoming(source, link_type, link_label)\n",
      "  File \"/home/jan/mambaforge/lib/python3.12/site-packages/aiida/orm/nodes/links.py\", line 94, in validate_incoming\n",
      "    raise ValueError('the link you are attempting to create would generate a cycle in the graph')\n",
      "ValueError: the link you are attempting to create would generate a cycle in the graph\n",
      "\n",
      "11/29/2024 08:42:26 AM <57231> aiida.orm.nodes.process.workflow.workchain.WorkChainNode: [ERROR] Error in task add_x_and_y: the link you are attempting to create would generate a cycle in the graph\n",
      "11/29/2024 08:42:26 AM <57231> aiida.orm.nodes.process.workflow.workchain.WorkChainNode: [REPORT] [58|WorkGraphEngine|on_task_failed]: Task: add_x_and_y failed.\n",
      "11/29/2024 08:42:26 AM <57231> aiida.orm.nodes.process.workflow.workchain.WorkChainNode: [REPORT] [58|WorkGraphEngine|continue_workgraph]: Continue workgraph.\n",
      "11/29/2024 08:42:26 AM <57231> aiida.orm.nodes.process.workflow.workchain.WorkChainNode: [REPORT] [58|WorkGraphEngine|continue_workgraph]: tasks ready to run: \n",
      "11/29/2024 08:42:26 AM <57231> aiida.orm.nodes.process.workflow.workchain.WorkChainNode: [REPORT] [58|WorkGraphEngine|is_workgraph_finished]: WorkGraph finished, but tasks: ['add_x_and_y'] failed. Thus all their child tasks are skipped.\n"
     ]
    },
    {
     "data": {
      "text/plain": [
       "{}"
      ]
     },
     "execution_count": 18,
     "metadata": {},
     "output_type": "execute_result"
    }
   ],
   "source": [
    "wg.run()"
   ]
  }
 ],
 "metadata": {
  "kernelspec": {
   "display_name": "Python 3 (ipykernel)",
   "language": "python",
   "name": "python3"
  },
  "language_info": {
   "codemirror_mode": {
    "name": "ipython",
    "version": 3
   },
   "file_extension": ".py",
   "mimetype": "text/x-python",
   "name": "python",
   "nbconvert_exporter": "python",
   "pygments_lexer": "ipython3",
   "version": "3.12.5"
  }
 },
 "nbformat": 4,
 "nbformat_minor": 5
}
